{
 "cells": [
  {
   "cell_type": "code",
   "execution_count": 1,
   "metadata": {
    "collapsed": false
   },
   "outputs": [],
   "source": [
    "import pandas as pd\n",
    "import numpy as np\n",
    "from sklearn.datasets import make_classification\n",
    "from sklearn.datasets import make_blobs\n",
    "from matplotlib.pylab import plt\n",
    "%matplotlib inline"
   ]
  },
  {
   "cell_type": "markdown",
   "metadata": {},
   "source": [
    "## Question 1.  (40 pts)\n",
    "\n",
    "This is an artificial data set. It has five features and let's explore clustering models on this data set."
   ]
  },
  {
   "cell_type": "code",
   "execution_count": 19,
   "metadata": {
    "collapsed": false
   },
   "outputs": [
    {
     "data": {
      "text/html": [
       "<div>\n",
       "<table border=\"1\" class=\"dataframe\">\n",
       "  <thead>\n",
       "    <tr style=\"text-align: right;\">\n",
       "      <th></th>\n",
       "      <th>0</th>\n",
       "      <th>1</th>\n",
       "      <th>2</th>\n",
       "      <th>3</th>\n",
       "      <th>4</th>\n",
       "    </tr>\n",
       "  </thead>\n",
       "  <tbody>\n",
       "    <tr>\n",
       "      <th>0</th>\n",
       "      <td>7.041668</td>\n",
       "      <td>0.679020</td>\n",
       "      <td>-8.408575</td>\n",
       "      <td>3.461746</td>\n",
       "      <td>-5.597806</td>\n",
       "    </tr>\n",
       "    <tr>\n",
       "      <th>1</th>\n",
       "      <td>-4.816582</td>\n",
       "      <td>-0.430385</td>\n",
       "      <td>0.753123</td>\n",
       "      <td>0.264526</td>\n",
       "      <td>3.965808</td>\n",
       "    </tr>\n",
       "    <tr>\n",
       "      <th>2</th>\n",
       "      <td>4.096806</td>\n",
       "      <td>-6.559957</td>\n",
       "      <td>-4.302680</td>\n",
       "      <td>-5.615232</td>\n",
       "      <td>5.635794</td>\n",
       "    </tr>\n",
       "    <tr>\n",
       "      <th>3</th>\n",
       "      <td>4.962203</td>\n",
       "      <td>-6.756521</td>\n",
       "      <td>-5.252219</td>\n",
       "      <td>-6.075322</td>\n",
       "      <td>2.754351</td>\n",
       "    </tr>\n",
       "    <tr>\n",
       "      <th>4</th>\n",
       "      <td>7.039362</td>\n",
       "      <td>0.263419</td>\n",
       "      <td>-7.505487</td>\n",
       "      <td>1.981984</td>\n",
       "      <td>-10.156349</td>\n",
       "    </tr>\n",
       "  </tbody>\n",
       "</table>\n",
       "</div>"
      ],
      "text/plain": [
       "          0         1         2         3          4\n",
       "0  7.041668  0.679020 -8.408575  3.461746  -5.597806\n",
       "1 -4.816582 -0.430385  0.753123  0.264526   3.965808\n",
       "2  4.096806 -6.559957 -4.302680 -5.615232   5.635794\n",
       "3  4.962203 -6.756521 -5.252219 -6.075322   2.754351\n",
       "4  7.039362  0.263419 -7.505487  1.981984 -10.156349"
      ]
     },
     "execution_count": 19,
     "metadata": {},
     "output_type": "execute_result"
    }
   ],
   "source": [
    "data1=pd.read_csv(\"https://serv.cusp.nyu.edu/~lw1474/ADS_Data/session07/data1.csv\")\n",
    "data1.head()"
   ]
  },
  {
   "cell_type": "markdown",
   "metadata": {},
   "source": [
    "#### 1. Visualize the data1 using PCA on a two dimensional plane and guess the number of clusters we could have from the plot. (5 pts)"
   ]
  },
  {
   "cell_type": "markdown",
   "metadata": {},
   "source": [
    "#### 2. Use silhouette_score and elbow method to justify the optimal number k of clusters for K-means clustering. Report the k and give a short explanation. (15 pts)"
   ]
  },
  {
   "cell_type": "markdown",
   "metadata": {},
   "source": [
    "#### 3. Use K-means to cluster the data1 by the proper number of clusters k you found and report your result. (5 pts) "
   ]
  },
  {
   "cell_type": "markdown",
   "metadata": {},
   "source": [
    "#### 4.  Visualize the clustering result. Please use the plot from part 1 and color the points by the new labels (the clustering results). (5 pts)"
   ]
  },
  {
   "cell_type": "markdown",
   "metadata": {},
   "source": [
    "#### 5. Use Guassian Mixture model instead of K-means with the same k and repeat the part 3 and 4. (10 pts)"
   ]
  },
  {
   "cell_type": "code",
   "execution_count": null,
   "metadata": {
    "collapsed": true
   },
   "outputs": [],
   "source": []
  },
  {
   "cell_type": "code",
   "execution_count": null,
   "metadata": {
    "collapsed": true
   },
   "outputs": [],
   "source": []
  },
  {
   "cell_type": "markdown",
   "metadata": {},
   "source": [
    "## Question 2 : (30 pts)"
   ]
  },
  {
   "cell_type": "markdown",
   "metadata": {},
   "source": [
    "This homework assignment concerns NYPD police stops in New York City in the years \n",
    "2011-2012 where the suspected crime was CPW (criminal possession of a weapon).  You can \n",
    "read more about these stops at \n",
    "\n",
    "https://en.wikipedia.org/wiki/Terry_stop \n",
    "\n",
    "https://en.wikipedia.org/wiki/Stop-and-frisk_in_New_York_City "
   ]
  },
  {
   "cell_type": "markdown",
   "metadata": {},
   "source": [
    "You are given 1,069 stop records in the file ‘original_with_duplicates_noid.csv’, but \n",
    "unfortunately technical errors have resulted in some exact duplicate records.  You know \n",
    "there are around 1,000 unique stops in the file (there may be slightly more or slightly \n",
    "fewer).   \n"
   ]
  },
  {
   "cell_type": "code",
   "execution_count": 28,
   "metadata": {
    "collapsed": false
   },
   "outputs": [
    {
     "data": {
      "text/html": [
       "<div>\n",
       "<table border=\"1\" class=\"dataframe\">\n",
       "  <thead>\n",
       "    <tr style=\"text-align: right;\">\n",
       "      <th></th>\n",
       "      <th>year</th>\n",
       "      <th>found.weapon</th>\n",
       "      <th>found.gun</th>\n",
       "      <th>arrested</th>\n",
       "      <th>suspect.race</th>\n",
       "      <th>suspect.age</th>\n",
       "      <th>suspect.build</th>\n",
       "      <th>suspect.sex</th>\n",
       "      <th>suspect.height</th>\n",
       "      <th>suspect.weight</th>\n",
       "      <th>...</th>\n",
       "      <th>additional.associating</th>\n",
       "      <th>additional.direction</th>\n",
       "      <th>additional.highcrime</th>\n",
       "      <th>additional.time</th>\n",
       "      <th>additional.sights</th>\n",
       "      <th>additional.other</th>\n",
       "      <th>radio.run</th>\n",
       "      <th>day</th>\n",
       "      <th>month</th>\n",
       "      <th>time.period</th>\n",
       "    </tr>\n",
       "  </thead>\n",
       "  <tbody>\n",
       "    <tr>\n",
       "      <th>0</th>\n",
       "      <td>2012</td>\n",
       "      <td>False</td>\n",
       "      <td>False</td>\n",
       "      <td>False</td>\n",
       "      <td>black</td>\n",
       "      <td>27</td>\n",
       "      <td>medium</td>\n",
       "      <td>male</td>\n",
       "      <td>5.666667</td>\n",
       "      <td>180</td>\n",
       "      <td>...</td>\n",
       "      <td>False</td>\n",
       "      <td>False</td>\n",
       "      <td>False</td>\n",
       "      <td>False</td>\n",
       "      <td>False</td>\n",
       "      <td>False</td>\n",
       "      <td>False</td>\n",
       "      <td>Saturday</td>\n",
       "      <td>January</td>\n",
       "      <td>6</td>\n",
       "    </tr>\n",
       "    <tr>\n",
       "      <th>1</th>\n",
       "      <td>2011</td>\n",
       "      <td>False</td>\n",
       "      <td>False</td>\n",
       "      <td>False</td>\n",
       "      <td>asian</td>\n",
       "      <td>40</td>\n",
       "      <td>medium</td>\n",
       "      <td>male</td>\n",
       "      <td>6.166667</td>\n",
       "      <td>225</td>\n",
       "      <td>...</td>\n",
       "      <td>False</td>\n",
       "      <td>False</td>\n",
       "      <td>True</td>\n",
       "      <td>True</td>\n",
       "      <td>False</td>\n",
       "      <td>False</td>\n",
       "      <td>False</td>\n",
       "      <td>Friday</td>\n",
       "      <td>November</td>\n",
       "      <td>6</td>\n",
       "    </tr>\n",
       "    <tr>\n",
       "      <th>2</th>\n",
       "      <td>2012</td>\n",
       "      <td>False</td>\n",
       "      <td>False</td>\n",
       "      <td>False</td>\n",
       "      <td>black</td>\n",
       "      <td>20</td>\n",
       "      <td>medium</td>\n",
       "      <td>male</td>\n",
       "      <td>6.000000</td>\n",
       "      <td>200</td>\n",
       "      <td>...</td>\n",
       "      <td>False</td>\n",
       "      <td>False</td>\n",
       "      <td>False</td>\n",
       "      <td>False</td>\n",
       "      <td>False</td>\n",
       "      <td>False</td>\n",
       "      <td>False</td>\n",
       "      <td>Saturday</td>\n",
       "      <td>August</td>\n",
       "      <td>6</td>\n",
       "    </tr>\n",
       "  </tbody>\n",
       "</table>\n",
       "<p>3 rows × 39 columns</p>\n",
       "</div>"
      ],
      "text/plain": [
       "   year found.weapon found.gun arrested suspect.race  suspect.age  \\\n",
       "0  2012        False     False    False        black           27   \n",
       "1  2011        False     False    False        asian           40   \n",
       "2  2012        False     False    False        black           20   \n",
       "\n",
       "  suspect.build suspect.sex  suspect.height  suspect.weight     ...      \\\n",
       "0        medium        male        5.666667             180     ...       \n",
       "1        medium        male        6.166667             225     ...       \n",
       "2        medium        male        6.000000             200     ...       \n",
       "\n",
       "  additional.associating additional.direction additional.highcrime  \\\n",
       "0                  False                False                False   \n",
       "1                  False                False                 True   \n",
       "2                  False                False                False   \n",
       "\n",
       "  additional.time additional.sights additional.other radio.run       day  \\\n",
       "0           False             False            False     False  Saturday   \n",
       "1            True             False            False     False    Friday   \n",
       "2           False             False            False     False  Saturday   \n",
       "\n",
       "      month time.period  \n",
       "0   January           6  \n",
       "1  November           6  \n",
       "2    August           6  \n",
       "\n",
       "[3 rows x 39 columns]"
      ]
     },
     "execution_count": 28,
     "metadata": {},
     "output_type": "execute_result"
    }
   ],
   "source": [
    "data2=pd.read_csv(\"https://serv.cusp.nyu.edu/~lw1474/ADS_Data/session07/original_with_duplicates_noid.csv\")\n",
    "data2.head(3)"
   ]
  },
  {
   "cell_type": "markdown",
   "metadata": {},
   "source": [
    "\n",
    "#### 1. Use a clustering technique of your choice to determine how many unique records there are. (15 pts)\n",
    "\n",
    "#### 2. Check your work by looking for row-wise duplicates using any technique of your choice (this should be straightforward).  How well did your clustering technique perform?  (5 pts)\n",
    "\n",
    "#### 3. Write a paragraph explaining what you did in parts a) and b)  (10 pts)"
   ]
  },
  {
   "cell_type": "code",
   "execution_count": null,
   "metadata": {
    "collapsed": true
   },
   "outputs": [],
   "source": []
  },
  {
   "cell_type": "code",
   "execution_count": null,
   "metadata": {
    "collapsed": true
   },
   "outputs": [],
   "source": []
  },
  {
   "cell_type": "markdown",
   "metadata": {},
   "source": [
    "### Question 3: 311 data (30 pts)\n",
    "\n",
    "The 311 data is not new for us. Let us use the scaled 311 data for question 3.\n",
    "\n",
    "Be careful! The first three columns are : zip code(zip_code), the average income(mean), and the average housing price(sale_price) "
   ]
  },
  {
   "cell_type": "code",
   "execution_count": 27,
   "metadata": {
    "collapsed": false
   },
   "outputs": [
    {
     "data": {
      "text/html": [
       "<div>\n",
       "<table border=\"1\" class=\"dataframe\">\n",
       "  <thead>\n",
       "    <tr style=\"text-align: right;\">\n",
       "      <th></th>\n",
       "      <th>zip_code</th>\n",
       "      <th>mean</th>\n",
       "      <th>sale_price</th>\n",
       "      <th>Adopt A Basket</th>\n",
       "      <th>Air Quality</th>\n",
       "      <th>Animal Abuse</th>\n",
       "      <th>Animal Facility   No Permit</th>\n",
       "      <th>Animal in a Park</th>\n",
       "      <th>APPLIANCE</th>\n",
       "      <th>Asbestos</th>\n",
       "      <th>...</th>\n",
       "      <th>Unsanitary Pigeon Condition</th>\n",
       "      <th>Urinating in Public</th>\n",
       "      <th>Vacant Lot</th>\n",
       "      <th>Vending</th>\n",
       "      <th>Violation of Park Rules</th>\n",
       "      <th>Water Conservation</th>\n",
       "      <th>Water Quality</th>\n",
       "      <th>Water System</th>\n",
       "      <th>Window Guard</th>\n",
       "      <th>X Ray Machine Equipment</th>\n",
       "    </tr>\n",
       "  </thead>\n",
       "  <tbody>\n",
       "    <tr>\n",
       "      <th>0</th>\n",
       "      <td>11356</td>\n",
       "      <td>80098.0</td>\n",
       "      <td>600000</td>\n",
       "      <td>0.0</td>\n",
       "      <td>0.027721</td>\n",
       "      <td>0.0</td>\n",
       "      <td>0.0</td>\n",
       "      <td>0.000770</td>\n",
       "      <td>0.000257</td>\n",
       "      <td>0.001027</td>\n",
       "      <td>...</td>\n",
       "      <td>0.000000</td>\n",
       "      <td>0.000000</td>\n",
       "      <td>0.000000</td>\n",
       "      <td>0.001797</td>\n",
       "      <td>0.001540</td>\n",
       "      <td>0.003850</td>\n",
       "      <td>0.002053</td>\n",
       "      <td>0.049281</td>\n",
       "      <td>0.0</td>\n",
       "      <td>0.0</td>\n",
       "    </tr>\n",
       "    <tr>\n",
       "      <th>1</th>\n",
       "      <td>10017</td>\n",
       "      <td>149723.0</td>\n",
       "      <td>5200000</td>\n",
       "      <td>0.0</td>\n",
       "      <td>0.010675</td>\n",
       "      <td>0.0</td>\n",
       "      <td>0.0</td>\n",
       "      <td>0.000227</td>\n",
       "      <td>0.000227</td>\n",
       "      <td>0.003861</td>\n",
       "      <td>...</td>\n",
       "      <td>0.000227</td>\n",
       "      <td>0.000227</td>\n",
       "      <td>0.000000</td>\n",
       "      <td>0.010675</td>\n",
       "      <td>0.000454</td>\n",
       "      <td>0.001817</td>\n",
       "      <td>0.000227</td>\n",
       "      <td>0.050874</td>\n",
       "      <td>0.0</td>\n",
       "      <td>0.0</td>\n",
       "    </tr>\n",
       "    <tr>\n",
       "      <th>2</th>\n",
       "      <td>11413</td>\n",
       "      <td>84085.0</td>\n",
       "      <td>100000</td>\n",
       "      <td>0.0</td>\n",
       "      <td>0.002511</td>\n",
       "      <td>0.0</td>\n",
       "      <td>0.0</td>\n",
       "      <td>0.001076</td>\n",
       "      <td>0.001973</td>\n",
       "      <td>0.000359</td>\n",
       "      <td>...</td>\n",
       "      <td>0.000000</td>\n",
       "      <td>0.000000</td>\n",
       "      <td>0.004484</td>\n",
       "      <td>0.000000</td>\n",
       "      <td>0.000179</td>\n",
       "      <td>0.007354</td>\n",
       "      <td>0.001256</td>\n",
       "      <td>0.069058</td>\n",
       "      <td>0.0</td>\n",
       "      <td>0.0</td>\n",
       "    </tr>\n",
       "  </tbody>\n",
       "</table>\n",
       "<p>3 rows × 162 columns</p>\n",
       "</div>"
      ],
      "text/plain": [
       "   zip_code      mean  sale_price  Adopt A Basket  Air Quality  Animal Abuse  \\\n",
       "0     11356   80098.0      600000             0.0     0.027721           0.0   \n",
       "1     10017  149723.0     5200000             0.0     0.010675           0.0   \n",
       "2     11413   84085.0      100000             0.0     0.002511           0.0   \n",
       "\n",
       "   Animal Facility   No Permit  Animal in a Park  APPLIANCE  Asbestos  \\\n",
       "0                          0.0          0.000770   0.000257  0.001027   \n",
       "1                          0.0          0.000227   0.000227  0.003861   \n",
       "2                          0.0          0.001076   0.001973  0.000359   \n",
       "\n",
       "            ...             Unsanitary Pigeon Condition  Urinating in Public  \\\n",
       "0           ...                                0.000000             0.000000   \n",
       "1           ...                                0.000227             0.000227   \n",
       "2           ...                                0.000000             0.000000   \n",
       "\n",
       "   Vacant Lot   Vending  Violation of Park Rules  Water Conservation  \\\n",
       "0    0.000000  0.001797                 0.001540            0.003850   \n",
       "1    0.000000  0.010675                 0.000454            0.001817   \n",
       "2    0.004484  0.000000                 0.000179            0.007354   \n",
       "\n",
       "   Water Quality  Water System  Window Guard  X Ray Machine Equipment  \n",
       "0       0.002053      0.049281           0.0                      0.0  \n",
       "1       0.000227      0.050874           0.0                      0.0  \n",
       "2       0.001256      0.069058           0.0                      0.0  \n",
       "\n",
       "[3 rows x 162 columns]"
      ]
     },
     "execution_count": 27,
     "metadata": {},
     "output_type": "execute_result"
    }
   ],
   "source": [
    "data3=pd.read_csv(\"https://serv.cusp.nyu.edu/~lw1474/ADS_Data/session06/example4.csv\").iloc[:,2:]\n",
    "data3=pd.concat((data3.loc[:,[\"zip_code\",\"mean\",\"sale_price\"]],data3.loc[:,\"Adopt A Basket\":]),axis=1)\n",
    "data3.head(3)"
   ]
  },
  {
   "cell_type": "markdown",
   "metadata": {},
   "source": [
    "#### 1. Use Kmeans clustering model to cluster NYC zip codes into FOUR clusters. The feature space is the scaled 311 complaints data (from \"Adopt A Basket\" to the end. Please do not include \"mean\" and \"sale_price\" ) as provided.  Report the number of zip codes in each clusters. (10 pts)\n",
    "\n",
    "#### 2. Calculate the average income and average housing price for each cluster you get from part 1. (10 pts)\n",
    "\n",
    "#### 3. Visulize the clustering result on the map (For this part you need to use the shapefiles of NY).  (10 pts)"
   ]
  },
  {
   "cell_type": "code",
   "execution_count": null,
   "metadata": {
    "collapsed": true
   },
   "outputs": [],
   "source": []
  },
  {
   "cell_type": "code",
   "execution_count": null,
   "metadata": {
    "collapsed": true
   },
   "outputs": [],
   "source": []
  },
  {
   "cell_type": "markdown",
   "metadata": {
    "collapsed": true
   },
   "source": [
    "#### Bonus question. (30 pts)\n",
    "Continue from Question 2:\n",
    "\n",
    "You are given 1,100 stop records in the file ‘original_with_errors_noid.csv’, but \n",
    "unfortunately technical errors have resulted in some almost duplicate records (that is, \n",
    "there are some records that are duplicates of others except for slight variations in two \n",
    "features).  You know there are around 1,000 unique stops in the file (there may be \n",
    "slightly more or slightly fewer). \n",
    "\n"
   ]
  },
  {
   "cell_type": "code",
   "execution_count": 29,
   "metadata": {
    "collapsed": false
   },
   "outputs": [
    {
     "data": {
      "text/html": [
       "<div>\n",
       "<table border=\"1\" class=\"dataframe\">\n",
       "  <thead>\n",
       "    <tr style=\"text-align: right;\">\n",
       "      <th></th>\n",
       "      <th>year</th>\n",
       "      <th>found.weapon</th>\n",
       "      <th>found.gun</th>\n",
       "      <th>arrested</th>\n",
       "      <th>suspect.race</th>\n",
       "      <th>suspect.age</th>\n",
       "      <th>suspect.build</th>\n",
       "      <th>suspect.sex</th>\n",
       "      <th>suspect.height</th>\n",
       "      <th>suspect.weight</th>\n",
       "      <th>...</th>\n",
       "      <th>additional.associating</th>\n",
       "      <th>additional.direction</th>\n",
       "      <th>additional.highcrime</th>\n",
       "      <th>additional.time</th>\n",
       "      <th>additional.sights</th>\n",
       "      <th>additional.other</th>\n",
       "      <th>radio.run</th>\n",
       "      <th>day</th>\n",
       "      <th>month</th>\n",
       "      <th>time.period</th>\n",
       "    </tr>\n",
       "  </thead>\n",
       "  <tbody>\n",
       "    <tr>\n",
       "      <th>0</th>\n",
       "      <td>2011</td>\n",
       "      <td>False</td>\n",
       "      <td>False</td>\n",
       "      <td>False</td>\n",
       "      <td>black</td>\n",
       "      <td>20</td>\n",
       "      <td>heavy</td>\n",
       "      <td>male</td>\n",
       "      <td>5.500000</td>\n",
       "      <td>200</td>\n",
       "      <td>...</td>\n",
       "      <td>False</td>\n",
       "      <td>False</td>\n",
       "      <td>True</td>\n",
       "      <td>False</td>\n",
       "      <td>False</td>\n",
       "      <td>False</td>\n",
       "      <td>False</td>\n",
       "      <td>Wednesday</td>\n",
       "      <td>November</td>\n",
       "      <td>4</td>\n",
       "    </tr>\n",
       "    <tr>\n",
       "      <th>1</th>\n",
       "      <td>2012</td>\n",
       "      <td>False</td>\n",
       "      <td>False</td>\n",
       "      <td>False</td>\n",
       "      <td>black</td>\n",
       "      <td>24</td>\n",
       "      <td>medium</td>\n",
       "      <td>male</td>\n",
       "      <td>5.666667</td>\n",
       "      <td>155</td>\n",
       "      <td>...</td>\n",
       "      <td>False</td>\n",
       "      <td>False</td>\n",
       "      <td>True</td>\n",
       "      <td>False</td>\n",
       "      <td>False</td>\n",
       "      <td>False</td>\n",
       "      <td>False</td>\n",
       "      <td>Monday</td>\n",
       "      <td>August</td>\n",
       "      <td>6</td>\n",
       "    </tr>\n",
       "    <tr>\n",
       "      <th>2</th>\n",
       "      <td>2011</td>\n",
       "      <td>False</td>\n",
       "      <td>False</td>\n",
       "      <td>False</td>\n",
       "      <td>black</td>\n",
       "      <td>47</td>\n",
       "      <td>heavy</td>\n",
       "      <td>male</td>\n",
       "      <td>6.000000</td>\n",
       "      <td>245</td>\n",
       "      <td>...</td>\n",
       "      <td>False</td>\n",
       "      <td>True</td>\n",
       "      <td>True</td>\n",
       "      <td>True</td>\n",
       "      <td>False</td>\n",
       "      <td>False</td>\n",
       "      <td>False</td>\n",
       "      <td>Saturday</td>\n",
       "      <td>January</td>\n",
       "      <td>4</td>\n",
       "    </tr>\n",
       "  </tbody>\n",
       "</table>\n",
       "<p>3 rows × 39 columns</p>\n",
       "</div>"
      ],
      "text/plain": [
       "   year found.weapon found.gun arrested suspect.race  suspect.age  \\\n",
       "0  2011        False     False    False        black           20   \n",
       "1  2012        False     False    False        black           24   \n",
       "2  2011        False     False    False        black           47   \n",
       "\n",
       "  suspect.build suspect.sex  suspect.height  suspect.weight     ...      \\\n",
       "0         heavy        male        5.500000             200     ...       \n",
       "1        medium        male        5.666667             155     ...       \n",
       "2         heavy        male        6.000000             245     ...       \n",
       "\n",
       "  additional.associating additional.direction additional.highcrime  \\\n",
       "0                  False                False                 True   \n",
       "1                  False                False                 True   \n",
       "2                  False                 True                 True   \n",
       "\n",
       "  additional.time additional.sights additional.other radio.run        day  \\\n",
       "0           False             False            False     False  Wednesday   \n",
       "1           False             False            False     False     Monday   \n",
       "2            True             False            False     False   Saturday   \n",
       "\n",
       "      month time.period  \n",
       "0  November           4  \n",
       "1    August           6  \n",
       "2   January           4  \n",
       "\n",
       "[3 rows x 39 columns]"
      ]
     },
     "execution_count": 29,
     "metadata": {},
     "output_type": "execute_result"
    }
   ],
   "source": [
    "data4=pd.read_csv(\"https://serv.cusp.nyu.edu/~lw1474/ADS_Data/session07/original_with_errors_noid.csv\")\n",
    "data4.head(3)"
   ]
  },
  {
   "cell_type": "markdown",
   "metadata": {},
   "source": [
    "#### 1. Which are the two features where errors were introduced? (15 pts) \n",
    "\n",
    "#### 2. How many unique records there are? (10 pts)\n",
    "\n",
    "#### 3. Write a paragraph explaining what you did. (5 pts)"
   ]
  }
 ],
 "metadata": {
  "kernelspec": {
   "display_name": "Python 2",
   "language": "python",
   "name": "python2"
  },
  "language_info": {
   "codemirror_mode": {
    "name": "ipython",
    "version": 2
   },
   "file_extension": ".py",
   "mimetype": "text/x-python",
   "name": "python",
   "nbconvert_exporter": "python",
   "pygments_lexer": "ipython2",
   "version": "2.7.12"
  }
 },
 "nbformat": 4,
 "nbformat_minor": 0
}
