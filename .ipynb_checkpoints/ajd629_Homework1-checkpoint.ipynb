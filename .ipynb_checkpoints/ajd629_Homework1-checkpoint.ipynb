{
 "cells": [
  {
   "cell_type": "markdown",
   "metadata": {},
   "source": [
    "### Question (1): (10pt)\n",
    "\n",
    "Suppose that the independent variable $x$ has n observations: $(x_1,x_2,...x_n)$ and the dependent variable $y$ has corresponding observations: $(y_1, y_2,...,y_n)$. If the correlation between these two sequences $corr(x,y)=0.01$, which of the following statements are true? Please select all the right answers.\n",
    "\n",
    "(a) There should be no strong relation between $x$ and $y$.\n",
    "\n",
    "(b) There could be some strong linear relationship between $x$ and $y$.\n",
    "\n",
    "(c) If we build a linear regression between $y$ and $x$ as $y=wx$, we could conclude that the OLS estimation for $w$ should be around 0.01.\n",
    "\n",
    "(d) Certain relation between $x$ and $y$ could still exist, but it should be non-linear."
   ]
  },
  {
   "cell_type": "markdown",
   "metadata": {
    "collapsed": false
   },
   "source": [
    "## Solution: \n",
    "\n",
    "### d. Certain relation between x and y could still exist, but it should be non-linear."
   ]
  },
  {
   "cell_type": "markdown",
   "metadata": {},
   "source": [
    "### Question (2): (10pt)\n",
    "\n"
   ]
  },
  {
   "cell_type": "markdown",
   "metadata": {},
   "source": [
    "Consider a model\n",
    "\n",
    "$y=x^{b}$ where $b>0$. \n",
    "\n",
    "Now, suppose x doubles (originally $x>0$). How would y change with respect to this change of x? Let us denote new $y$ as $y'$. Please select all the right answers from below. \n",
    "\n",
    "(a) $y'>2y$ if b is bigger than one.\n",
    "\n",
    "(b) $y'<2y$ if b is less than one.\n",
    "\n",
    "(c) $y'=2y$ in any case.\n",
    "\n",
    "(d) $y'$ increases by $(2^b-1)*100\\%$."
   ]
  },
  {
   "cell_type": "markdown",
   "metadata": {
    "collapsed": true
   },
   "source": [
    "## Solution\n",
    "\n",
    "### (a) y' > 2y if b is bigger than one.\n",
    "\n",
    "### (b) y' < 2y if b is less than one.\n",
    "\n",
    "### (d) y' increases by (2^b - 1) * 100% "
   ]
  },
  {
   "cell_type": "code",
   "execution_count": 3,
   "metadata": {
    "collapsed": false
   },
   "outputs": [],
   "source": [
    "import pandas as pd\n",
    "import numpy as np\n",
    "import statsmodels.formula.api as smf\n",
    "import matplotlib.pylab as plt\n",
    "%matplotlib inline"
   ]
  },
  {
   "cell_type": "markdown",
   "metadata": {},
   "source": [
    "### Question (3): (30 pt)\n"
   ]
  },
  {
   "cell_type": "code",
   "execution_count": 4,
   "metadata": {
    "collapsed": true
   },
   "outputs": [],
   "source": [
    "x=[0, 1, 2, 3, 4, 5, 6, 7, 8, 9, 10, 11, 12, 13, 14, 15, 16, 17, 18, 19]"
   ]
  },
  {
   "cell_type": "code",
   "execution_count": 5,
   "metadata": {
    "collapsed": true
   },
   "outputs": [],
   "source": [
    "y=[28.0, 24.0, 37.0, -7.0, 28.0, 71.0, 89.0, 60.0, 100.0, 108.0, 116.0, \n",
    "   110.0, 114.0, 123.0, 124.0, 165.0, 169.0, 211.0, 211.0, 208.0]"
   ]
  },
  {
   "cell_type": "markdown",
   "metadata": {},
   "source": [
    "#### (a) Calculate corr(x,y) without using a build-in function for the correlation coefficient."
   ]
  },
  {
   "cell_type": "markdown",
   "metadata": {},
   "source": [
    "#### (b) Estimate linear model $y=w_1*x+w_0$ using OLS formulas and without using build-in functions for the linear regression. What is  $w_1$ and $w_0$? What is $R^2$?"
   ]
  },
  {
   "cell_type": "markdown",
   "metadata": {},
   "source": [
    "#### (c) Use regression function to double check your answer making sure that your calculation is correct. "
   ]
  },
  {
   "cell_type": "code",
   "execution_count": 6,
   "metadata": {
    "collapsed": false
   },
   "outputs": [
    {
     "data": {
      "text/html": [
       "<div>\n",
       "<table border=\"1\" class=\"dataframe\">\n",
       "  <thead>\n",
       "    <tr style=\"text-align: right;\">\n",
       "      <th></th>\n",
       "      <th>X</th>\n",
       "      <th>Y</th>\n",
       "      <th>xy</th>\n",
       "      <th>x_sqr</th>\n",
       "    </tr>\n",
       "  </thead>\n",
       "  <tbody>\n",
       "    <tr>\n",
       "      <th>0</th>\n",
       "      <td>0.0</td>\n",
       "      <td>28.0</td>\n",
       "      <td>0.0</td>\n",
       "      <td>0.0</td>\n",
       "    </tr>\n",
       "    <tr>\n",
       "      <th>1</th>\n",
       "      <td>1.0</td>\n",
       "      <td>24.0</td>\n",
       "      <td>24.0</td>\n",
       "      <td>1.0</td>\n",
       "    </tr>\n",
       "    <tr>\n",
       "      <th>2</th>\n",
       "      <td>2.0</td>\n",
       "      <td>37.0</td>\n",
       "      <td>74.0</td>\n",
       "      <td>4.0</td>\n",
       "    </tr>\n",
       "    <tr>\n",
       "      <th>3</th>\n",
       "      <td>3.0</td>\n",
       "      <td>-7.0</td>\n",
       "      <td>-21.0</td>\n",
       "      <td>9.0</td>\n",
       "    </tr>\n",
       "    <tr>\n",
       "      <th>4</th>\n",
       "      <td>4.0</td>\n",
       "      <td>28.0</td>\n",
       "      <td>112.0</td>\n",
       "      <td>16.0</td>\n",
       "    </tr>\n",
       "  </tbody>\n",
       "</table>\n",
       "</div>"
      ],
      "text/plain": [
       "     X     Y     xy  x_sqr\n",
       "0  0.0  28.0    0.0    0.0\n",
       "1  1.0  24.0   24.0    1.0\n",
       "2  2.0  37.0   74.0    4.0\n",
       "3  3.0  -7.0  -21.0    9.0\n",
       "4  4.0  28.0  112.0   16.0"
      ]
     },
     "execution_count": 6,
     "metadata": {},
     "output_type": "execute_result"
    }
   ],
   "source": [
    "data = pd.DataFrame([list(x),list(y)]).T\n",
    "data\n",
    "data.columns = ['X','Y']\n",
    "#data.head(3)\n",
    "# plt.plot(x,y,'o')\n",
    "data.loc[:,'xy'] = data.X*data.Y\n",
    "data.loc[:,'x_sqr'] = data.X*data.X\n",
    "n = len(x)\n",
    "data.head(5)"
   ]
  },
  {
   "cell_type": "markdown",
   "metadata": {},
   "source": [
    "### 3a Corr(x,y) without using a build-in function for the correlation coefficient"
   ]
  },
  {
   "cell_type": "code",
   "execution_count": 7,
   "metadata": {
    "collapsed": false
   },
   "outputs": [
    {
     "name": "stdout",
     "output_type": "stream",
     "text": [
      "Pearson Correlation coeffient is 0.957143492915\n"
     ]
    }
   ],
   "source": [
    "w1=(data.xy.sum()-data.Y.sum()*data.X.sum()/len(data))/(data.x_sqr.sum()-data.X.sum()*data.X.sum()/len(data))\n",
    "w0 = (data.Y.sum()-w1*data.X.sum())/len(data)\n",
    "std_x = data.X.std()\n",
    "std_y = data.Y.std()\n",
    "rxy = w1 * std_x / std_y\n",
    "print(\"Pearson Correlation coeffient is %s\"%(rxy))"
   ]
  },
  {
   "cell_type": "markdown",
   "metadata": {},
   "source": [
    "### 3b Linear model  y=w1∗x+w0  using OLS formulas and without using build-in functions for the linear regression. What is  w1 and  w0 ? What is  R^2 ?"
   ]
  },
  {
   "cell_type": "code",
   "execution_count": 8,
   "metadata": {
    "collapsed": false
   },
   "outputs": [
    {
     "name": "stdout",
     "output_type": "stream",
     "text": [
      "w1 is 10.5466165414 and w0 is 4.25714285714\n",
      "y = 10.5466165414 * x + 4.25714285714\n",
      "r^2 is 0.91612366603\n"
     ]
    }
   ],
   "source": [
    "print(\"w1 is %s and w0 is %s\"%(w1,w0))\n",
    "print(\"y = %s * x + %s\"%(w1,w0))\n",
    "r2 = rxy*rxy\n",
    "print(\"r^2 is %s\"%(r2))"
   ]
  },
  {
   "cell_type": "markdown",
   "metadata": {},
   "source": [
    "### 3c Using regression function to check the answer"
   ]
  },
  {
   "cell_type": "code",
   "execution_count": 9,
   "metadata": {
    "collapsed": false
   },
   "outputs": [
    {
     "name": "stdout",
     "output_type": "stream",
     "text": [
      "                            OLS Regression Results                            \n",
      "==============================================================================\n",
      "Dep. Variable:                      Y   R-squared:                       0.916\n",
      "Model:                            OLS   Adj. R-squared:                  0.911\n",
      "Method:                 Least Squares   F-statistic:                     196.6\n",
      "Date:                Mon, 26 Sep 2016   Prob (F-statistic):           3.96e-11\n",
      "Time:                        11:25:03   Log-Likelihood:                -86.627\n",
      "No. Observations:                  20   AIC:                             177.3\n",
      "Df Residuals:                      18   BIC:                             179.2\n",
      "Df Model:                           1                                         \n",
      "Covariance Type:            nonrobust                                         \n",
      "==============================================================================\n",
      "                 coef    std err          t      P>|t|      [95.0% Conf. Int.]\n",
      "------------------------------------------------------------------------------\n",
      "Intercept      4.2571      8.359      0.509      0.617       -13.304    21.819\n",
      "X             10.5466      0.752     14.021      0.000         8.966    12.127\n",
      "==============================================================================\n",
      "Omnibus:                        1.463   Durbin-Watson:                   1.478\n",
      "Prob(Omnibus):                  0.481   Jarque-Bera (JB):                1.235\n",
      "Skew:                          -0.551   Prob(JB):                        0.539\n",
      "Kurtosis:                       2.481   Cond. No.                         21.5\n",
      "==============================================================================\n",
      "\n",
      "Warnings:\n",
      "[1] Standard Errors assume that the covariance matrix of the errors is correctly specified.\n"
     ]
    }
   ],
   "source": [
    "lm = smf.ols(formula = 'Y ~ X', data = data).fit()\n",
    "print(lm.summary())"
   ]
  },
  {
   "cell_type": "code",
   "execution_count": 10,
   "metadata": {
    "collapsed": false
   },
   "outputs": [
    {
     "name": "stdout",
     "output_type": "stream",
     "text": [
      "w0 is 4.25714285714  w1 is 10.5466165414\n"
     ]
    }
   ],
   "source": [
    "w0 = lm.params.Intercept\n",
    "w1 = lm.params.X\n",
    "print(\"w0 is %s  w1 is %s\"%(w0,w1))"
   ]
  },
  {
   "cell_type": "markdown",
   "metadata": {},
   "source": [
    "### Question (4): (30pt) "
   ]
  },
  {
   "cell_type": "markdown",
   "metadata": {},
   "source": [
    "For the data below estimate a model: AssessTot = w* LotArea (with and without intercept)\n",
    "\n",
    "LotArea: Total area of the tax lot\n",
    "\n",
    "AssessTot: The actual assessed total value of Final Year 2015"
   ]
  },
  {
   "cell_type": "code",
   "execution_count": 11,
   "metadata": {
    "collapsed": true
   },
   "outputs": [],
   "source": [
    "data_4=pd.read_csv(\"https://serv.cusp.nyu.edu/~lw1474/ADS_Data/Session02/Housing_Pluto_Session2.csv\")"
   ]
  },
  {
   "cell_type": "code",
   "execution_count": 12,
   "metadata": {
    "collapsed": false
   },
   "outputs": [
    {
     "data": {
      "text/html": [
       "<div>\n",
       "<table border=\"1\" class=\"dataframe\">\n",
       "  <thead>\n",
       "    <tr style=\"text-align: right;\">\n",
       "      <th></th>\n",
       "      <th>ZipCode</th>\n",
       "      <th>LotArea</th>\n",
       "      <th>AssessTot</th>\n",
       "    </tr>\n",
       "  </thead>\n",
       "  <tbody>\n",
       "    <tr>\n",
       "      <th>0</th>\n",
       "      <td>11201.0</td>\n",
       "      <td>151930</td>\n",
       "      <td>1164645</td>\n",
       "    </tr>\n",
       "    <tr>\n",
       "      <th>1</th>\n",
       "      <td>11201.0</td>\n",
       "      <td>9620</td>\n",
       "      <td>5864850</td>\n",
       "    </tr>\n",
       "    <tr>\n",
       "      <th>2</th>\n",
       "      <td>11201.0</td>\n",
       "      <td>19682</td>\n",
       "      <td>12019950</td>\n",
       "    </tr>\n",
       "    <tr>\n",
       "      <th>3</th>\n",
       "      <td>NaN</td>\n",
       "      <td>0</td>\n",
       "      <td>0</td>\n",
       "    </tr>\n",
       "    <tr>\n",
       "      <th>4</th>\n",
       "      <td>11201.0</td>\n",
       "      <td>387060</td>\n",
       "      <td>0</td>\n",
       "    </tr>\n",
       "  </tbody>\n",
       "</table>\n",
       "</div>"
      ],
      "text/plain": [
       "   ZipCode  LotArea  AssessTot\n",
       "0  11201.0   151930    1164645\n",
       "1  11201.0     9620    5864850\n",
       "2  11201.0    19682   12019950\n",
       "3      NaN        0          0\n",
       "4  11201.0   387060          0"
      ]
     },
     "execution_count": 12,
     "metadata": {},
     "output_type": "execute_result"
    }
   ],
   "source": [
    "data_4.head()"
   ]
  },
  {
   "cell_type": "markdown",
   "metadata": {},
   "source": [
    "#### (a). As we see, this data set is not clean.  Drop all the rows which contain \"NaN\" and 0 terms."
   ]
  },
  {
   "cell_type": "code",
   "execution_count": 13,
   "metadata": {
    "collapsed": false
   },
   "outputs": [
    {
     "data": {
      "text/html": [
       "<div>\n",
       "<table border=\"1\" class=\"dataframe\">\n",
       "  <thead>\n",
       "    <tr style=\"text-align: right;\">\n",
       "      <th></th>\n",
       "      <th>ZipCode</th>\n",
       "      <th>LotArea</th>\n",
       "      <th>AssessTot</th>\n",
       "    </tr>\n",
       "  </thead>\n",
       "  <tbody>\n",
       "    <tr>\n",
       "      <th>0</th>\n",
       "      <td>11201.0</td>\n",
       "      <td>151930.0</td>\n",
       "      <td>1164645.0</td>\n",
       "    </tr>\n",
       "    <tr>\n",
       "      <th>1</th>\n",
       "      <td>11201.0</td>\n",
       "      <td>9620.0</td>\n",
       "      <td>5864850.0</td>\n",
       "    </tr>\n",
       "    <tr>\n",
       "      <th>2</th>\n",
       "      <td>11201.0</td>\n",
       "      <td>19682.0</td>\n",
       "      <td>12019950.0</td>\n",
       "    </tr>\n",
       "    <tr>\n",
       "      <th>5</th>\n",
       "      <td>11201.0</td>\n",
       "      <td>6384.0</td>\n",
       "      <td>21150.0</td>\n",
       "    </tr>\n",
       "    <tr>\n",
       "      <th>10</th>\n",
       "      <td>11201.0</td>\n",
       "      <td>66889.0</td>\n",
       "      <td>11700.0</td>\n",
       "    </tr>\n",
       "  </tbody>\n",
       "</table>\n",
       "</div>"
      ],
      "text/plain": [
       "    ZipCode   LotArea   AssessTot\n",
       "0   11201.0  151930.0   1164645.0\n",
       "1   11201.0    9620.0   5864850.0\n",
       "2   11201.0   19682.0  12019950.0\n",
       "5   11201.0    6384.0     21150.0\n",
       "10  11201.0   66889.0     11700.0"
      ]
     },
     "execution_count": 13,
     "metadata": {},
     "output_type": "execute_result"
    }
   ],
   "source": [
    "data_4 = data_4[(data_4 != 0)]\n",
    "data_4.dropna(inplace = True)\n",
    "data_4.head()"
   ]
  },
  {
   "cell_type": "markdown",
   "metadata": {
    "collapsed": false
   },
   "source": [
    "#### (b). Visualize the data set."
   ]
  },
  {
   "cell_type": "code",
   "execution_count": 14,
   "metadata": {
    "collapsed": false
   },
   "outputs": [
    {
     "data": {
      "text/plain": [
       "<matplotlib.axes._subplots.AxesSubplot at 0x7ffb9c5547d0>"
      ]
     },
     "execution_count": 14,
     "metadata": {},
     "output_type": "execute_result"
    },
    {
     "data": {
      "image/png": "[encoded data removed]",
      "text/plain": [
       "<matplotlib.figure.Figure at 0x7ffb9ee93610>"
      ]
     },
     "metadata": {},
     "output_type": "display_data"
    }
   ],
   "source": [
    "data_4.plot(kind = 'scatter', x = 'LotArea', y = 'AssessTot')"
   ]
  },
  {
   "cell_type": "markdown",
   "metadata": {},
   "source": [
    "#### (c).  Build a model : AssessTot=$w_1$*LotArea + $w_2$. Get $w_1$, $w_2$ and $R^2$.  Plot your results together with observations. "
   ]
  },
  {
   "cell_type": "code",
   "execution_count": 15,
   "metadata": {
    "collapsed": false
   },
   "outputs": [
    {
     "name": "stdout",
     "output_type": "stream",
     "text": [
      "                            OLS Regression Results                            \n",
      "==============================================================================\n",
      "Dep. Variable:              AssessTot   R-squared:                       0.384\n",
      "Model:                            OLS   Adj. R-squared:                  0.384\n",
      "Method:                 Least Squares   F-statistic:                 1.724e+05\n",
      "Date:                Mon, 26 Sep 2016   Prob (F-statistic):               0.00\n",
      "Time:                        11:25:13   Log-Likelihood:            -4.6221e+06\n",
      "No. Observations:              275982   AIC:                         9.244e+06\n",
      "Df Residuals:                  275980   BIC:                         9.244e+06\n",
      "Df Model:                           1                                         \n",
      "Covariance Type:            nonrobust                                         \n",
      "==============================================================================\n",
      "                 coef    std err          t      P>|t|      [95.0% Conf. Int.]\n",
      "------------------------------------------------------------------------------\n",
      "Intercept   7.694e+04   8648.667      8.897      0.000         6e+04  9.39e+04\n",
      "LotArea       21.1604      0.051    415.180      0.000        21.060    21.260\n",
      "==============================================================================\n",
      "Omnibus:                  1261967.961   Durbin-Watson:                   2.280\n",
      "Prob(Omnibus):                  0.000   Jarque-Bera (JB):   60355909936267.648\n",
      "Skew:                         157.430   Prob(JB):                         0.00\n",
      "Kurtosis:                   72450.106   Cond. No.                     1.70e+05\n",
      "==============================================================================\n",
      "\n",
      "Warnings:\n",
      "[1] Standard Errors assume that the covariance matrix of the errors is correctly specified.\n",
      "[2] The condition number is large, 1.7e+05. This might indicate that there are\n",
      "strong multicollinearity or other numerical problems.\n"
     ]
    }
   ],
   "source": [
    "lm = smf.ols(formula = 'AssessTot ~ LotArea', data = data_4).fit()\n",
    "print(lm.summary())"
   ]
  },
  {
   "cell_type": "code",
   "execution_count": 16,
   "metadata": {
    "collapsed": false
   },
   "outputs": [
    {
     "name": "stdout",
     "output_type": "stream",
     "text": [
      "AssessTot= 21.16 *LotArea + 76944.30 \n",
      "R2 is 0.38446\n"
     ]
    }
   ],
   "source": [
    "w0 = lm.params.Intercept\n",
    "w1 = lm.params.LotArea\n",
    "r2 = lm.rsquared\n",
    "print(\"AssessTot= %.2f *LotArea + %.2f \"%(w1,w0))\n",
    "print(\"R2 is %.5f\"%r2)"
   ]
  },
  {
   "cell_type": "code",
   "execution_count": 17,
   "metadata": {
    "collapsed": false
   },
   "outputs": [
    {
     "data": {
      "text/plain": [
       "[<matplotlib.lines.Line2D at 0x7ffb97ba6b90>]"
      ]
     },
     "execution_count": 17,
     "metadata": {},
     "output_type": "execute_result"
    },
    {
     "data": {
      "image/png": "[encoded data removed]",
      "text/plain": [
       "<matplotlib.figure.Figure at 0x7ffb97ba6a90>"
      ]
     },
     "metadata": {},
     "output_type": "display_data"
    }
   ],
   "source": [
    "lm.rsquared\n",
    "data_4\n",
    "data_4.plot(kind = 'scatter', x = 'LotArea', y = 'AssessTot')\n",
    "#data_4.LotArea.shape\n",
    "#lm.predict().shape\n",
    "plt.plot(data_4.LotArea, lm.predict(), 'r')"
   ]
  },
  {
   "cell_type": "markdown",
   "metadata": {},
   "source": [
    "### Observations:\n",
    "#### In the given plot, the regression is not passing through origin and has a intercept of 76944.3.\n",
    "#### As observed, the prediction line is influenced by the RSS of the outliers with high AssessTot values or high LotArea values and hence may not be giving the most optimal prediction"
   ]
  },
  {
   "cell_type": "markdown",
   "metadata": {},
   "source": [
    "#### (d) Repeat (c) without intercept, i.e. with $w_2=0$."
   ]
  },
  {
   "cell_type": "code",
   "execution_count": 18,
   "metadata": {
    "collapsed": false
   },
   "outputs": [
    {
     "data": {
      "text/html": [
       "<div>\n",
       "<table border=\"1\" class=\"dataframe\">\n",
       "  <thead>\n",
       "    <tr style=\"text-align: right;\">\n",
       "      <th></th>\n",
       "      <th>ZipCode</th>\n",
       "      <th>LotArea</th>\n",
       "      <th>AssessTot</th>\n",
       "      <th>norm_AssessTot</th>\n",
       "      <th>norm_LotArea</th>\n",
       "    </tr>\n",
       "  </thead>\n",
       "  <tbody>\n",
       "    <tr>\n",
       "      <th>0</th>\n",
       "      <td>11201.0</td>\n",
       "      <td>151930.0</td>\n",
       "      <td>1164645.0</td>\n",
       "      <td>0.169159</td>\n",
       "      <td>0.865496</td>\n",
       "    </tr>\n",
       "    <tr>\n",
       "      <th>1</th>\n",
       "      <td>11201.0</td>\n",
       "      <td>9620.0</td>\n",
       "      <td>5864850.0</td>\n",
       "      <td>0.981158</td>\n",
       "      <td>0.026477</td>\n",
       "    </tr>\n",
       "    <tr>\n",
       "      <th>2</th>\n",
       "      <td>11201.0</td>\n",
       "      <td>19682.0</td>\n",
       "      <td>12019950.0</td>\n",
       "      <td>2.044502</td>\n",
       "      <td>0.085800</td>\n",
       "    </tr>\n",
       "    <tr>\n",
       "      <th>5</th>\n",
       "      <td>11201.0</td>\n",
       "      <td>6384.0</td>\n",
       "      <td>21150.0</td>\n",
       "      <td>-0.028389</td>\n",
       "      <td>0.007399</td>\n",
       "    </tr>\n",
       "    <tr>\n",
       "      <th>10</th>\n",
       "      <td>11201.0</td>\n",
       "      <td>66889.0</td>\n",
       "      <td>11700.0</td>\n",
       "      <td>-0.030021</td>\n",
       "      <td>0.364119</td>\n",
       "    </tr>\n",
       "  </tbody>\n",
       "</table>\n",
       "</div>"
      ],
      "text/plain": [
       "    ZipCode   LotArea   AssessTot  norm_AssessTot  norm_LotArea\n",
       "0   11201.0  151930.0   1164645.0        0.169159      0.865496\n",
       "1   11201.0    9620.0   5864850.0        0.981158      0.026477\n",
       "2   11201.0   19682.0  12019950.0        2.044502      0.085800\n",
       "5   11201.0    6384.0     21150.0       -0.028389      0.007399\n",
       "10  11201.0   66889.0     11700.0       -0.030021      0.364119"
      ]
     },
     "execution_count": 18,
     "metadata": {},
     "output_type": "execute_result"
    }
   ],
   "source": [
    "data_4.loc[:,'norm_AssessTot'] = (data_4.AssessTot - np.mean(data_4.AssessTot))/np.std(data_4.AssessTot)\n",
    "data_4.loc[:,'norm_LotArea'] = (data_4.LotArea - np.mean(data_4.LotArea))/np.std(data_4.LotArea)\n",
    "data_4.head(5)"
   ]
  },
  {
   "cell_type": "code",
   "execution_count": 19,
   "metadata": {
    "collapsed": false
   },
   "outputs": [
    {
     "name": "stdout",
     "output_type": "stream",
     "text": [
      "                            OLS Regression Results                            \n",
      "==============================================================================\n",
      "Dep. Variable:         norm_AssessTot   R-squared:                       0.384\n",
      "Model:                            OLS   Adj. R-squared:                  0.384\n",
      "Method:                 Least Squares   F-statistic:                 1.724e+05\n",
      "Date:                Mon, 26 Sep 2016   Prob (F-statistic):               0.00\n",
      "Time:                        11:25:18   Log-Likelihood:            -3.2464e+05\n",
      "No. Observations:              275982   AIC:                         6.493e+05\n",
      "Df Residuals:                  275980   BIC:                         6.493e+05\n",
      "Df Model:                           1                                         \n",
      "Covariance Type:            nonrobust                                         \n",
      "================================================================================\n",
      "                   coef    std err          t      P>|t|      [95.0% Conf. Int.]\n",
      "--------------------------------------------------------------------------------\n",
      "Intercept     2.472e-17      0.001   1.66e-14      1.000        -0.003     0.003\n",
      "norm_LotArea     0.6200      0.001    415.180      0.000         0.617     0.623\n",
      "==============================================================================\n",
      "Omnibus:                  1261967.961   Durbin-Watson:                   2.280\n",
      "Prob(Omnibus):                  0.000   Jarque-Bera (JB):   60355909936270.898\n",
      "Skew:                         157.430   Prob(JB):                         0.00\n",
      "Kurtosis:                   72450.106   Cond. No.                         1.00\n",
      "==============================================================================\n",
      "\n",
      "Warnings:\n",
      "[1] Standard Errors assume that the covariance matrix of the errors is correctly specified.\n"
     ]
    }
   ],
   "source": [
    "lm_norm = smf.ols(formula = 'norm_AssessTot ~ norm_LotArea', data = data_4).fit()\n",
    "print(lm_norm.summary())"
   ]
  },
  {
   "cell_type": "code",
   "execution_count": 20,
   "metadata": {
    "collapsed": false
   },
   "outputs": [
    {
     "name": "stdout",
     "output_type": "stream",
     "text": [
      "AssessTot= 0.62 *LotArea \n",
      "R2 is 0.38446\n"
     ]
    }
   ],
   "source": [
    "w0 = lm_norm.params.Intercept\n",
    "w1 = lm_norm.params.norm_LotArea\n",
    "r2 = lm_norm.rsquared\n",
    "print(\"AssessTot= %.2f *LotArea \"%(w1))\n",
    "print(\"R2 is %.5f\"%r2)"
   ]
  },
  {
   "cell_type": "code",
   "execution_count": 21,
   "metadata": {
    "collapsed": false
   },
   "outputs": [
    {
     "data": {
      "text/plain": [
       "[<matplotlib.lines.Line2D at 0x7ffb9c051090>]"
      ]
     },
     "execution_count": 21,
     "metadata": {},
     "output_type": "execute_result"
    },
    {
     "data": {
      "image/png": "[encoded data removed]",
      "text/plain": [
       "<matplotlib.figure.Figure at 0x7ffb9c051210>"
      ]
     },
     "metadata": {},
     "output_type": "display_data"
    }
   ],
   "source": [
    "data_4.plot(kind = 'scatter', x = 'norm_LotArea', y = 'norm_AssessTot')\n",
    "plt.plot(data_4.norm_LotArea, lm_norm.predict(), 'r')"
   ]
  },
  {
   "cell_type": "markdown",
   "metadata": {},
   "source": [
    "### Observations:\n",
    "#### In the given plot, the regression is  passing through origin and has a intercept of 0.\n",
    "#### As observed, the prediction line is influenced by the RSS of the outliers with high AssessTot values or high LotArea values and hence may not be giving the most optimal prediction. (value for w1)"
   ]
  },
  {
   "cell_type": "markdown",
   "metadata": {},
   "source": [
    "### Question (5): (20pt)\n",
    "\n",
    "For the same data as above try the model: log_AssessTot=$w_1$*log_LotArea + $w_2$. Get $w_1$, $w_2$ and $R^2$.  And plot your results together with observations. Explain the result - what does the estimated \"$w_1$\" means to you?"
   ]
  },
  {
   "cell_type": "code",
   "execution_count": 22,
   "metadata": {
    "collapsed": false
   },
   "outputs": [
    {
     "data": {
      "text/html": [
       "<div>\n",
       "<table border=\"1\" class=\"dataframe\">\n",
       "  <thead>\n",
       "    <tr style=\"text-align: right;\">\n",
       "      <th></th>\n",
       "      <th>ZipCode</th>\n",
       "      <th>LotArea</th>\n",
       "      <th>AssessTot</th>\n",
       "      <th>norm_AssessTot</th>\n",
       "      <th>norm_LotArea</th>\n",
       "    </tr>\n",
       "  </thead>\n",
       "  <tbody>\n",
       "    <tr>\n",
       "      <th>0</th>\n",
       "      <td>11201.0</td>\n",
       "      <td>151930.0</td>\n",
       "      <td>1164645.0</td>\n",
       "      <td>0.169159</td>\n",
       "      <td>0.865496</td>\n",
       "    </tr>\n",
       "    <tr>\n",
       "      <th>1</th>\n",
       "      <td>11201.0</td>\n",
       "      <td>9620.0</td>\n",
       "      <td>5864850.0</td>\n",
       "      <td>0.981158</td>\n",
       "      <td>0.026477</td>\n",
       "    </tr>\n",
       "    <tr>\n",
       "      <th>2</th>\n",
       "      <td>11201.0</td>\n",
       "      <td>19682.0</td>\n",
       "      <td>12019950.0</td>\n",
       "      <td>2.044502</td>\n",
       "      <td>0.085800</td>\n",
       "    </tr>\n",
       "    <tr>\n",
       "      <th>5</th>\n",
       "      <td>11201.0</td>\n",
       "      <td>6384.0</td>\n",
       "      <td>21150.0</td>\n",
       "      <td>-0.028389</td>\n",
       "      <td>0.007399</td>\n",
       "    </tr>\n",
       "    <tr>\n",
       "      <th>10</th>\n",
       "      <td>11201.0</td>\n",
       "      <td>66889.0</td>\n",
       "      <td>11700.0</td>\n",
       "      <td>-0.030021</td>\n",
       "      <td>0.364119</td>\n",
       "    </tr>\n",
       "  </tbody>\n",
       "</table>\n",
       "</div>"
      ],
      "text/plain": [
       "    ZipCode   LotArea   AssessTot  norm_AssessTot  norm_LotArea\n",
       "0   11201.0  151930.0   1164645.0        0.169159      0.865496\n",
       "1   11201.0    9620.0   5864850.0        0.981158      0.026477\n",
       "2   11201.0   19682.0  12019950.0        2.044502      0.085800\n",
       "5   11201.0    6384.0     21150.0       -0.028389      0.007399\n",
       "10  11201.0   66889.0     11700.0       -0.030021      0.364119"
      ]
     },
     "execution_count": 22,
     "metadata": {},
     "output_type": "execute_result"
    }
   ],
   "source": [
    "data_4.head()"
   ]
  },
  {
   "cell_type": "code",
   "execution_count": 23,
   "metadata": {
    "collapsed": false
   },
   "outputs": [],
   "source": [
    "data_4.loc[:,'log_AssessTot'] = np.log(data_4.AssessTot)\n",
    "data_4.loc[:,'log_LotArea'] = np.log(data_4.LotArea)"
   ]
  },
  {
   "cell_type": "code",
   "execution_count": 24,
   "metadata": {
    "collapsed": false
   },
   "outputs": [],
   "source": [
    "lm_log = smf.ols(formula = 'log_AssessTot ~ log_LotArea', data = data_4).fit()\n",
    "w0 = lm_log.params.Intercept\n",
    "w1 = lm_log.params.log_LotArea\n",
    "r2 = lm_log.rsquared"
   ]
  },
  {
   "cell_type": "code",
   "execution_count": 25,
   "metadata": {
    "collapsed": false
   },
   "outputs": [
    {
     "name": "stdout",
     "output_type": "stream",
     "text": [
      "log_AssessTot= 1.33 *log_LotArea + 0.21 \n",
      "R_sqr = 0.49\n"
     ]
    }
   ],
   "source": [
    "print(\"log_AssessTot= %.2f *log_LotArea + %.2f \"%(w1,w0))\n",
    "print(\"R_sqr = %.2f\"%r2)"
   ]
  },
  {
   "cell_type": "code",
   "execution_count": 26,
   "metadata": {
    "collapsed": false
   },
   "outputs": [
    {
     "data": {
      "text/plain": [
       "[<matplotlib.lines.Line2D at 0x7ffb97b36cd0>]"
      ]
     },
     "execution_count": 26,
     "metadata": {},
     "output_type": "execute_result"
    },
    {
     "data": {
      "image/png": "[encoded data removed]",
      "text/plain": [
       "<matplotlib.figure.Figure at 0x7ffb97b36fd0>"
      ]
     },
     "metadata": {},
     "output_type": "display_data"
    }
   ],
   "source": [
    "data_4.plot(kind = 'scatter', x = 'log_LotArea', y = 'log_AssessTot')\n",
    "plt.plot(data_4.log_LotArea, lm_log.predict(), 'r')"
   ]
  },
  {
   "cell_type": "markdown",
   "metadata": {},
   "source": [
    "### Observations:\n",
    "#### log(AssessTot) = w1 * log(LotArea) + w2\n",
    "#### log(AssessTot) = log(LotArea) ^ w1 + w2\n",
    "#### AssessTot = (LotArea ^ w1) + e ^ w2\n",
    "#### AssessTot = c * LotArea ^ w1     ; where c = e ^ w2\n",
    "#### Differentiating on both sides: d(AssessTot) / D(LotArea) = c * w1\n",
    "#### This means the change in AssessTot with respect to LotArea is proportional to w1 (and w2)"
   ]
  },
  {
   "cell_type": "markdown",
   "metadata": {},
   "source": [
    "### *Additional extra-credit question (Using the housing price data set from question (4)) (40 pt to be added to the cumulative homework score up to the maximum of 100%(for whole semester))"
   ]
  },
  {
   "cell_type": "markdown",
   "metadata": {},
   "source": [
    "#### (a) How many different zip codes are in the data? report the number of observations for each zipcode.\n",
    "\n",
    "#### (b) For each zip code having over 1000 observations, report the average assessed total value of houses.\n",
    "\n",
    "#### (c) For each zip code estimate the log scale model 'log_AssessTot ~ log_LotArea' and report the slope coefficient (scaling exponent).\n",
    "\n",
    "#### (d) Visualize the spatial distribution of the values from (b) and (c). Report the top 5 zip code with highest scaling exponents."
   ]
  },
  {
   "cell_type": "markdown",
   "metadata": {},
   "source": [
    "### (a)"
   ]
  },
  {
   "cell_type": "code",
   "execution_count": 27,
   "metadata": {
    "collapsed": false
   },
   "outputs": [
    {
     "data": {
      "text/html": [
       "<div>\n",
       "<table border=\"1\" class=\"dataframe\">\n",
       "  <thead>\n",
       "    <tr style=\"text-align: right;\">\n",
       "      <th></th>\n",
       "      <th>ZipCode</th>\n",
       "      <th>LotArea</th>\n",
       "      <th>AssessTot</th>\n",
       "    </tr>\n",
       "  </thead>\n",
       "  <tbody>\n",
       "    <tr>\n",
       "      <th>0</th>\n",
       "      <td>11201.0</td>\n",
       "      <td>151930</td>\n",
       "      <td>1164645</td>\n",
       "    </tr>\n",
       "    <tr>\n",
       "      <th>1</th>\n",
       "      <td>11201.0</td>\n",
       "      <td>9620</td>\n",
       "      <td>5864850</td>\n",
       "    </tr>\n",
       "    <tr>\n",
       "      <th>2</th>\n",
       "      <td>11201.0</td>\n",
       "      <td>19682</td>\n",
       "      <td>12019950</td>\n",
       "    </tr>\n",
       "    <tr>\n",
       "      <th>3</th>\n",
       "      <td>NaN</td>\n",
       "      <td>0</td>\n",
       "      <td>0</td>\n",
       "    </tr>\n",
       "    <tr>\n",
       "      <th>4</th>\n",
       "      <td>11201.0</td>\n",
       "      <td>387060</td>\n",
       "      <td>0</td>\n",
       "    </tr>\n",
       "  </tbody>\n",
       "</table>\n",
       "</div>"
      ],
      "text/plain": [
       "   ZipCode  LotArea  AssessTot\n",
       "0  11201.0   151930    1164645\n",
       "1  11201.0     9620    5864850\n",
       "2  11201.0    19682   12019950\n",
       "3      NaN        0          0\n",
       "4  11201.0   387060          0"
      ]
     },
     "execution_count": 27,
     "metadata": {},
     "output_type": "execute_result"
    }
   ],
   "source": [
    "data_5=pd.read_csv(\"https://serv.cusp.nyu.edu/~lw1474/ADS_Data/Session02/Housing_Pluto_Session2.csv\")\n",
    "data_5.head()"
   ]
  },
  {
   "cell_type": "code",
   "execution_count": 28,
   "metadata": {
    "collapsed": false
   },
   "outputs": [
    {
     "data": {
      "text/html": [
       "<div>\n",
       "<table border=\"1\" class=\"dataframe\">\n",
       "  <thead>\n",
       "    <tr style=\"text-align: right;\">\n",
       "      <th></th>\n",
       "      <th>ZipCode</th>\n",
       "      <th>LotArea</th>\n",
       "      <th>AssessTot</th>\n",
       "    </tr>\n",
       "  </thead>\n",
       "  <tbody>\n",
       "    <tr>\n",
       "      <th>0</th>\n",
       "      <td>11201.0</td>\n",
       "      <td>151930.0</td>\n",
       "      <td>1164645.0</td>\n",
       "    </tr>\n",
       "    <tr>\n",
       "      <th>1</th>\n",
       "      <td>11201.0</td>\n",
       "      <td>9620.0</td>\n",
       "      <td>5864850.0</td>\n",
       "    </tr>\n",
       "    <tr>\n",
       "      <th>2</th>\n",
       "      <td>11201.0</td>\n",
       "      <td>19682.0</td>\n",
       "      <td>12019950.0</td>\n",
       "    </tr>\n",
       "    <tr>\n",
       "      <th>5</th>\n",
       "      <td>11201.0</td>\n",
       "      <td>6384.0</td>\n",
       "      <td>21150.0</td>\n",
       "    </tr>\n",
       "    <tr>\n",
       "      <th>10</th>\n",
       "      <td>11201.0</td>\n",
       "      <td>66889.0</td>\n",
       "      <td>11700.0</td>\n",
       "    </tr>\n",
       "  </tbody>\n",
       "</table>\n",
       "</div>"
      ],
      "text/plain": [
       "    ZipCode   LotArea   AssessTot\n",
       "0   11201.0  151930.0   1164645.0\n",
       "1   11201.0    9620.0   5864850.0\n",
       "2   11201.0   19682.0  12019950.0\n",
       "5   11201.0    6384.0     21150.0\n",
       "10  11201.0   66889.0     11700.0"
      ]
     },
     "execution_count": 28,
     "metadata": {},
     "output_type": "execute_result"
    }
   ],
   "source": [
    "data_5 = data_5[(data_5 != 0)]\n",
    "data_5.dropna(inplace = True)\n",
    "data_5.head()"
   ]
  },
  {
   "cell_type": "code",
   "execution_count": 29,
   "metadata": {
    "collapsed": false
   },
   "outputs": [
    {
     "name": "stdout",
     "output_type": "stream",
     "text": [
      "No. of Zipcodes: 41\n"
     ]
    }
   ],
   "source": [
    "print 'No. of Zipcodes:', len(data_5.ZipCode.unique())"
   ]
  },
  {
   "cell_type": "code",
   "execution_count": 31,
   "metadata": {
    "collapsed": false
   },
   "outputs": [
    {
     "name": "stdout",
     "output_type": "stream",
     "text": [
      "Number of observations for each zipcode:\n",
      "11234.0    19318\n",
      "11236.0    14612\n",
      "11229.0    12063\n",
      "11207.0    11413\n",
      "11208.0    11284\n",
      "11203.0    11011\n",
      "11223.0    10322\n",
      "11204.0     9946\n",
      "11214.0     9513\n",
      "11221.0     9186\n",
      "11215.0     9056\n",
      "11220.0     9015\n",
      "11219.0     8656\n",
      "11210.0     8540\n",
      "11209.0     8451\n",
      "11233.0     8014\n",
      "11230.0     7987\n",
      "11235.0     7941\n",
      "11228.0     7857\n",
      "11218.0     6905\n",
      "11212.0     6578\n",
      "11216.0     6113\n",
      "11211.0     5462\n",
      "11226.0     5336\n",
      "11222.0     5311\n",
      "11213.0     5076\n",
      "11238.0     4876\n",
      "11231.0     4838\n",
      "11206.0     4665\n",
      "11237.0     4390\n",
      "11217.0     4035\n",
      "11225.0     3920\n",
      "11201.0     3361\n",
      "11205.0     3196\n",
      "11232.0     2946\n",
      "11224.0     2798\n",
      "11249.0     1561\n",
      "11239.0      424\n",
      "11416.0        4\n",
      "11251.0        1\n",
      "11241.0        1\n",
      "Name: ZipCode, dtype: int64\n"
     ]
    }
   ],
   "source": [
    "no_obs = data_5.ZipCode.value_counts()\n",
    "print 'Number of observations for each zipcode:\\n', no_obs"
   ]
  },
  {
   "cell_type": "markdown",
   "metadata": {},
   "source": [
    "### (b)"
   ]
  },
  {
   "cell_type": "code",
   "execution_count": 71,
   "metadata": {
    "collapsed": true
   },
   "outputs": [],
   "source": [
    "zips = no_obs[no_obs.values > 1000].index.values \n",
    "avg_zip = {}\n",
    "values = []"
   ]
  },
  {
   "cell_type": "code",
   "execution_count": 72,
   "metadata": {
    "collapsed": false
   },
   "outputs": [
    {
     "name": "stdout",
     "output_type": "stream",
     "text": [
      "Average Assessed Total value of houses:\n",
      "Zip\tAverage\n",
      "11234 154839.124599\n",
      "11236 77653.7649192\n",
      "11229 308220.279035\n",
      "11207 100342.272934\n",
      "11208 86440.452056\n",
      "11203 121020.278994\n",
      "11223 103472.525092\n",
      "11204 104542.541323\n",
      "11214 127064.431515\n",
      "11221 90601.8325713\n",
      "11215 169718.446996\n",
      "11220 134545.878092\n",
      "11219 140740.943392\n",
      "11210 119467.800585\n",
      "11209 173187.026742\n",
      "11233 83359.8287996\n",
      "11230 148870.195317\n",
      "11235 216932.072661\n",
      "11228 67127.9793814\n",
      "11218 130887.364084\n",
      "11212 166426.244147\n",
      "11216 125110.447571\n",
      "11211 249301.736726\n",
      "11226 259168.549288\n",
      "11222 203406.643758\n",
      "11213 169621.154846\n",
      "11238 265260.626743\n",
      "11231 187081.372881\n",
      "11206 311533.268167\n",
      "11237 152954.290205\n",
      "11217 483297.80347\n",
      "11225 219101.944898\n",
      "11201 1672253.17554\n",
      "11205 350940.932728\n",
      "11232 386084.401222\n",
      "11224 309679.677984\n",
      "11249 714632.45804\n"
     ]
    }
   ],
   "source": [
    "print 'Average Assessed Total value of houses:\\nZip\\tAverage'\n",
    "for zip in zips:\n",
    "    avg_zip[zip] = data_5[data_5['ZipCode'] == zip].AssessTot.mean()\n",
    "    values.append(data_5[data_5['ZipCode'] == zip].AssessTot.mean())\n",
    "    print int(zip) , data_5[data_5['ZipCode'] == zip].AssessTot.mean()"
   ]
  },
  {
   "cell_type": "markdown",
   "metadata": {},
   "source": [
    "### (c)"
   ]
  },
  {
   "cell_type": "code",
   "execution_count": 73,
   "metadata": {
    "collapsed": true
   },
   "outputs": [],
   "source": [
    "data_5.loc[:,\"log_AssessTot\"]=np.log(data_5.AssessTot)\n",
    "data_5.loc[:,\"log_LotArea\"]=np.log(data_5.LotArea)"
   ]
  },
  {
   "cell_type": "code",
   "execution_count": 74,
   "metadata": {
    "collapsed": false
   },
   "outputs": [
    {
     "name": "stdout",
     "output_type": "stream",
     "text": [
      "Slope coefficient (scaling exponent)\n",
      "Zip\tScaling Exponent\n",
      "11234 1.01963639501\n",
      "11236 1.11844318796\n",
      "11229 1.33650586471\n",
      "11207 1.34199102675\n",
      "11208 1.16459274231\n",
      "11203 1.39184882177\n",
      "11223 1.25881960049\n",
      "11204 1.28016560775\n",
      "11214 1.11820720449\n",
      "11221 1.59281394386\n",
      "11215 1.54101337176\n",
      "11220 1.50079296563\n",
      "11219 1.45294452387\n",
      "11210 1.24589890036\n",
      "11209 1.24975116759\n",
      "11233 1.52139364215\n",
      "11230 1.3062454563\n",
      "11235 1.29918927061\n",
      "11228 0.923341730449\n",
      "11218 1.2825529719\n",
      "11212 1.48499248413\n",
      "11216 1.64911328535\n",
      "11211 1.4121424698\n",
      "11226 1.38624748791\n",
      "11222 1.15919644417\n",
      "11213 1.58430381989\n",
      "11238 1.62155780044\n",
      "11231 1.13532306805\n",
      "11206 1.48736635053\n",
      "11237 1.36836906802\n",
      "11217 1.41572985696\n",
      "11225 1.57818700108\n",
      "11201 1.40566238998\n",
      "11205 1.50368285463\n",
      "11232 1.37867527557\n",
      "11224 1.05739862789\n",
      "11249 1.24201538781\n"
     ]
    }
   ],
   "source": [
    "slope_coeff = {}\n",
    "print 'Slope coefficient (scaling exponent)\\nZip\\tScaling Exponent'\n",
    "for zip in zips:\n",
    "    lm = smf.ols(formula='log_AssessTot ~ log_LotArea', data = data_5[data_5['ZipCode'] == zip]).fit()\n",
    "    slope_coeff[zip] = lm.params.log_LotArea \n",
    "    print int(zip), lm.params.log_LotArea"
   ]
  },
  {
   "cell_type": "markdown",
   "metadata": {},
   "source": [
    "### (d)"
   ]
  },
  {
   "cell_type": "code",
   "execution_count": 75,
   "metadata": {
    "collapsed": false
   },
   "outputs": [
    {
     "data": {
      "image/png": "[encoded data removed]",
      "text/plain": [
       "<matplotlib.figure.Figure at 0x7ffb965194d0>"
      ]
     },
     "metadata": {},
     "output_type": "display_data"
    }
   ],
   "source": [
    "plt.figure(figsize=(10,6))\n",
    "plt.plot(avg_zip.keys(),avg_zip.values(),'or', label = 'Avg. Assessed Values')\n",
    "plt.xticks(zips, zips, rotation='vertical')\n",
    "plt.xlabel('Zipcodes')\n",
    "plt.ylabel('Avg. Assessed Values')\n",
    "plt.legend()\n",
    "plt.title('Average Assessed total value of houses in Zipcodes', fontsize = 14)\n",
    "plt.show()"
   ]
  },
  {
   "cell_type": "code",
   "execution_count": 76,
   "metadata": {
    "collapsed": false
   },
   "outputs": [
    {
     "data": {
      "image/png": "[encoded data removed]",
      "text/plain": [
       "<matplotlib.figure.Figure at 0x7ffb95f2f610>"
      ]
     },
     "metadata": {},
     "output_type": "display_data"
    }
   ],
   "source": [
    "plt.figure(figsize=(10,6))\n",
    "plt.plot(slope_coeff.keys(),slope_coeff.values(),'-r',label = 'Scaling Exponent', )\n",
    "plt.xticks(zips, zips, rotation='vertical')\n",
    "plt.xlabel('Zipcode')\n",
    "plt.ylabel('Scaling Exponent')\n",
    "plt.legend()\n",
    "plt.title('Scaling Exponent for the zipcodes', fontsize = 14)\n",
    "plt.show()"
   ]
  },
  {
   "cell_type": "code",
   "execution_count": 77,
   "metadata": {
    "collapsed": false
   },
   "outputs": [
    {
     "name": "stdout",
     "output_type": "stream",
     "text": [
      "Top 5 zipcodes with highest scaling exponents are\n",
      "11216\n",
      "11238\n",
      "11221\n",
      "11213\n",
      "11225\n"
     ]
    }
   ],
   "source": [
    "print 'Top 5 zipcodes with highest scaling exponents are'\n",
    "s = sorted(slope_coeff.items(), key=lambda x:x[1], reverse=True)\n",
    "for i in range(5):\n",
    "    print int(s[i][0])"
   ]
  },
  {
   "cell_type": "code",
   "execution_count": null,
   "metadata": {
    "collapsed": true
   },
   "outputs": [],
   "source": []
  },
  {
   "cell_type": "code",
   "execution_count": null,
   "metadata": {
    "collapsed": true
   },
   "outputs": [],
   "source": []
  }
 ],
 "metadata": {
  "kernelspec": {
   "display_name": "Python [Root]",
   "language": "python",
   "name": "Python [Root]"
  },
  "language_info": {
   "codemirror_mode": {
    "name": "ipython",
    "version": 2
   },
   "file_extension": ".py",
   "mimetype": "text/x-python",
   "name": "python",
   "nbconvert_exporter": "python",
   "pygments_lexer": "ipython2",
   "version": "2.7.12"
  }
 },
 "nbformat": 4,
 "nbformat_minor": 0
}
