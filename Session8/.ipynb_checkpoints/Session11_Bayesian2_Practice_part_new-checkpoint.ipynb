{
 "cells": [
  {
   "cell_type": "markdown",
   "metadata": {},
   "source": [
    "# Bayesian linear regression"
   ]
  },
  {
   "cell_type": "markdown",
   "metadata": {},
   "source": [
    "## Example 1. Simple univariate regression - real-estate price prediction\n",
    "\n",
    "Consider an example of predicting prices of individual homes $y$ vs their sizes $x$:\n",
    "$$\n",
    "y=w x+\\varepsilon,\n",
    "$$\n",
    "given a series of single-dimensional observations $D=\\{(y_i,x_i), i=1..N\\}$, where $w$ is the slope coefficient to fit (in our case - average price of the square foot) and $\\epsilon$ is the error term (deviation of the specific price from the predicted value), assuming that \n",
    "$$\n",
    "\\varepsilon\\sim {\\cal N}(0,\\sigma^2).\n",
    "$$\n",
    "As we remember ordinary least square (OLS) estimate in the univariate case gives a simple estimate $\\hat{w}$ for the slope coefficient $w$:\n",
    "$$\n",
    "\\hat{w}=\\frac{\\sum_i y_i x_i}{\\sum_i x_i^2}.\n",
    "$$\n",
    "After we get $w=\\hat{w}$ it is easy to estimate the standard error \n",
    "$$\n",
    "\\sigma=\\sqrt{\\frac{\\sum_i (y_i-\\hat{w} x_i)^2}{N}}.\n",
    "$$"
   ]
  },
  {
   "cell_type": "code",
   "execution_count": 1,
   "metadata": {
    "collapsed": false
   },
   "outputs": [
    {
     "name": "stdout",
     "output_type": "stream",
     "text": [
      "Populating the interactive namespace from numpy and matplotlib\n"
     ]
    }
   ],
   "source": [
    "import numpy as np\n",
    "import pandas as pd\n",
    "%pylab inline\n",
    "import matplotlib.pyplot as plt\n",
    "#import Quandl\n",
    "import statsmodels.formula.api as smf\n",
    "from scipy import stats\n",
    "from pandas.stats.api import ols\n",
    "from sklearn import linear_model"
   ]
  },
  {
   "cell_type": "code",
   "execution_count": 2,
   "metadata": {
    "collapsed": true
   },
   "outputs": [],
   "source": [
    "path = 'https://serv.cusp.nyu.edu/~cq299/ADS2016/Data/Bayesian/'\n",
    "pylab.rcParams['figure.figsize'] = [12,8]"
   ]
  },
  {
   "cell_type": "code",
   "execution_count": 3,
   "metadata": {
    "collapsed": false
   },
   "outputs": [
    {
     "data": {
      "text/html": [
       "<div>\n",
       "<table border=\"1\" class=\"dataframe\">\n",
       "  <thead>\n",
       "    <tr style=\"text-align: right;\">\n",
       "      <th></th>\n",
       "      <th>Unnamed: 0</th>\n",
       "      <th>borough</th>\n",
       "      <th>neighborhood</th>\n",
       "      <th>building_class_category</th>\n",
       "      <th>tax_class_present</th>\n",
       "      <th>block</th>\n",
       "      <th>lot</th>\n",
       "      <th>easement</th>\n",
       "      <th>building_class_present</th>\n",
       "      <th>address</th>\n",
       "      <th>...</th>\n",
       "      <th>land_sq_feet</th>\n",
       "      <th>gross_sq_feet</th>\n",
       "      <th>year_built</th>\n",
       "      <th>tax_class_time_sale</th>\n",
       "      <th>build_class_time_sale</th>\n",
       "      <th>sale_price</th>\n",
       "      <th>sale_date</th>\n",
       "      <th>serialid</th>\n",
       "      <th>sale_year</th>\n",
       "      <th>sale_month</th>\n",
       "    </tr>\n",
       "  </thead>\n",
       "  <tbody>\n",
       "    <tr>\n",
       "      <th>0</th>\n",
       "      <td>5631</td>\n",
       "      <td>3</td>\n",
       "      <td>BAY RIDGE</td>\n",
       "      <td>01  ONE FAMILY HOMES</td>\n",
       "      <td>1</td>\n",
       "      <td>5871</td>\n",
       "      <td>91</td>\n",
       "      <td>NaN</td>\n",
       "      <td>A5</td>\n",
       "      <td>24 BAY RIDGE PLACE</td>\n",
       "      <td>...</td>\n",
       "      <td>1600</td>\n",
       "      <td>1400</td>\n",
       "      <td>1910</td>\n",
       "      <td>1</td>\n",
       "      <td>A5</td>\n",
       "      <td>585000</td>\n",
       "      <td>2009-10-29</td>\n",
       "      <td>5631</td>\n",
       "      <td>9</td>\n",
       "      <td>9</td>\n",
       "    </tr>\n",
       "    <tr>\n",
       "      <th>1</th>\n",
       "      <td>5635</td>\n",
       "      <td>3</td>\n",
       "      <td>BAY RIDGE</td>\n",
       "      <td>01  ONE FAMILY HOMES</td>\n",
       "      <td>1</td>\n",
       "      <td>5882</td>\n",
       "      <td>38</td>\n",
       "      <td>NaN</td>\n",
       "      <td>A5</td>\n",
       "      <td>7014 LOUISE TERRACE</td>\n",
       "      <td>...</td>\n",
       "      <td>1169</td>\n",
       "      <td>1224</td>\n",
       "      <td>1925</td>\n",
       "      <td>1</td>\n",
       "      <td>A5</td>\n",
       "      <td>515000</td>\n",
       "      <td>2009-10-15</td>\n",
       "      <td>5635</td>\n",
       "      <td>9</td>\n",
       "      <td>9</td>\n",
       "    </tr>\n",
       "    <tr>\n",
       "      <th>2</th>\n",
       "      <td>5636</td>\n",
       "      <td>3</td>\n",
       "      <td>BAY RIDGE</td>\n",
       "      <td>01  ONE FAMILY HOMES</td>\n",
       "      <td>1</td>\n",
       "      <td>5882</td>\n",
       "      <td>50</td>\n",
       "      <td>NaN</td>\n",
       "      <td>A5</td>\n",
       "      <td>7009 LOUISE TERRACE</td>\n",
       "      <td>...</td>\n",
       "      <td>945</td>\n",
       "      <td>1836</td>\n",
       "      <td>1925</td>\n",
       "      <td>1</td>\n",
       "      <td>A5</td>\n",
       "      <td>499900</td>\n",
       "      <td>2009-04-20</td>\n",
       "      <td>5636</td>\n",
       "      <td>9</td>\n",
       "      <td>3</td>\n",
       "    </tr>\n",
       "    <tr>\n",
       "      <th>3</th>\n",
       "      <td>5637</td>\n",
       "      <td>3</td>\n",
       "      <td>BAY RIDGE</td>\n",
       "      <td>01  ONE FAMILY HOMES</td>\n",
       "      <td>1</td>\n",
       "      <td>5882</td>\n",
       "      <td>80</td>\n",
       "      <td>NaN</td>\n",
       "      <td>A5</td>\n",
       "      <td>7002 COLONIAL ROAD</td>\n",
       "      <td>...</td>\n",
       "      <td>1121</td>\n",
       "      <td>1330</td>\n",
       "      <td>1925</td>\n",
       "      <td>1</td>\n",
       "      <td>A5</td>\n",
       "      <td>525000</td>\n",
       "      <td>2009-09-02</td>\n",
       "      <td>5637</td>\n",
       "      <td>9</td>\n",
       "      <td>8</td>\n",
       "    </tr>\n",
       "    <tr>\n",
       "      <th>4</th>\n",
       "      <td>5638</td>\n",
       "      <td>3</td>\n",
       "      <td>BAY RIDGE</td>\n",
       "      <td>01  ONE FAMILY HOMES</td>\n",
       "      <td>1</td>\n",
       "      <td>5882</td>\n",
       "      <td>81</td>\n",
       "      <td>NaN</td>\n",
       "      <td>A5</td>\n",
       "      <td>7004 COLONIAL ROAD</td>\n",
       "      <td>...</td>\n",
       "      <td>1118</td>\n",
       "      <td>1224</td>\n",
       "      <td>1925</td>\n",
       "      <td>1</td>\n",
       "      <td>A5</td>\n",
       "      <td>400000</td>\n",
       "      <td>2009-07-24</td>\n",
       "      <td>5638</td>\n",
       "      <td>9</td>\n",
       "      <td>6</td>\n",
       "    </tr>\n",
       "  </tbody>\n",
       "</table>\n",
       "<p>5 rows × 25 columns</p>\n",
       "</div>"
      ],
      "text/plain": [
       "   Unnamed: 0  borough neighborhood building_class_category  \\\n",
       "0        5631        3    BAY RIDGE    01  ONE FAMILY HOMES   \n",
       "1        5635        3    BAY RIDGE    01  ONE FAMILY HOMES   \n",
       "2        5636        3    BAY RIDGE    01  ONE FAMILY HOMES   \n",
       "3        5637        3    BAY RIDGE    01  ONE FAMILY HOMES   \n",
       "4        5638        3    BAY RIDGE    01  ONE FAMILY HOMES   \n",
       "\n",
       "   tax_class_present  block  lot  easement building_class_present  \\\n",
       "0                  1   5871   91       NaN                     A5   \n",
       "1                  1   5882   38       NaN                     A5   \n",
       "2                  1   5882   50       NaN                     A5   \n",
       "3                  1   5882   80       NaN                     A5   \n",
       "4                  1   5882   81       NaN                     A5   \n",
       "\n",
       "               address    ...      land_sq_feet  gross_sq_feet  year_built  \\\n",
       "0   24 BAY RIDGE PLACE    ...              1600           1400        1910   \n",
       "1  7014 LOUISE TERRACE    ...              1169           1224        1925   \n",
       "2  7009 LOUISE TERRACE    ...               945           1836        1925   \n",
       "3   7002 COLONIAL ROAD    ...              1121           1330        1925   \n",
       "4   7004 COLONIAL ROAD    ...              1118           1224        1925   \n",
       "\n",
       "   tax_class_time_sale  build_class_time_sale  sale_price   sale_date  \\\n",
       "0                    1                     A5      585000  2009-10-29   \n",
       "1                    1                     A5      515000  2009-10-15   \n",
       "2                    1                     A5      499900  2009-04-20   \n",
       "3                    1                     A5      525000  2009-09-02   \n",
       "4                    1                     A5      400000  2009-07-24   \n",
       "\n",
       "   serialid  sale_year sale_month  \n",
       "0      5631          9          9  \n",
       "1      5635          9          9  \n",
       "2      5636          9          3  \n",
       "3      5637          9          8  \n",
       "4      5638          9          6  \n",
       "\n",
       "[5 rows x 25 columns]"
      ]
     },
     "execution_count": 3,
     "metadata": {},
     "output_type": "execute_result"
    }
   ],
   "source": [
    "#read real estate sample data\n",
    "REsample1 = pd.read_csv(path + 'REsample1.csv')\n",
    "REsample1.head()"
   ]
  },
  {
   "cell_type": "code",
   "execution_count": 4,
   "metadata": {
    "collapsed": false
   },
   "outputs": [
    {
     "name": "stdout",
     "output_type": "stream",
     "text": [
      "Estimated w=423.262774919, sigma=387363.577755\n"
     ]
    }
   ],
   "source": [
    "#first fit the regression for the entire sample\n",
    "RE1w=sum(REsample1.sale_price*REsample1.gross_sq_feet)/sum(REsample1.gross_sq_feet**2)\n",
    "#estimate the standard error sigma\n",
    "sigma=np.std(REsample1.sale_price-REsample1.gross_sq_feet*RE1w)\n",
    "print('Estimated w={0}, sigma={1}'.format(RE1w,sigma))"
   ]
  },
  {
   "cell_type": "code",
   "execution_count": 5,
   "metadata": {
    "collapsed": false
   },
   "outputs": [
    {
     "name": "stdout",
     "output_type": "stream",
     "text": [
      "Estimated w=369.713904612\n"
     ]
    }
   ],
   "source": [
    "#now redo the regression for just the first 100 records\n",
    "REsample11=REsample1.loc[0:99]\n",
    "RE11w=sum(REsample11.sale_price*REsample11.gross_sq_feet)/sum(REsample11.gross_sq_feet**2)\n",
    "print('Estimated w={0}'.format(RE11w))"
   ]
  },
  {
   "cell_type": "code",
   "execution_count": 6,
   "metadata": {
    "collapsed": false
   },
   "outputs": [
    {
     "data": {
      "text/plain": [
       "[<matplotlib.lines.Line2D at 0xc33c7f0>]"
      ]
     },
     "execution_count": 6,
     "metadata": {},
     "output_type": "execute_result"
    },
    {
     "data": {
      "image/png": "[encoded data removed]",
      "text/plain": [
       "<matplotlib.figure.Figure at 0x4288e10>"
      ]
     },
     "metadata": {},
     "output_type": "display_data"
    }
   ],
   "source": [
    "#visualize the fit\n",
    "REsample11.plot(kind='scatter',x='gross_sq_feet',y='sale_price')\n",
    "y1=RE11w*REsample11.gross_sq_feet\n",
    "plt.plot(REsample11.gross_sq_feet,y1,'r-')"
   ]
  },
  {
   "cell_type": "markdown",
   "metadata": {},
   "source": [
    "We see quite a deviation in the estimates $\\hat{w}$ obtained - so the OLS estimate depends on the sample choice and uses to vary from one sample to another. So for any particular choice of the training sample there is no guarantee that the estimate $\\hat{w}$ is indeed a true value for $w$ - we should admit uncertainty in our estimate, which OLS does not really allow to do so, but the further Bayesian framework will."
   ]
  },
  {
   "cell_type": "markdown",
   "metadata": {},
   "source": [
    "# Bayesian univariate regression\n",
    "\n",
    "Also imagine that we already have certain prior knowledge about $w$ for example this would be the case if we already studied some sample of house prices before. Can we take this into account somehow? The prior knowledge can be expressed through a prior distribution $p(w)$.\n",
    "\n",
    "Consider a probabilistic version of a univariate regression:\n",
    "$$\n",
    "y\\sim {\\cal N}(w x,\\sigma^2),\n",
    "$$\n",
    "assuming that the variance $\\sigma^2$ is given or at least independent on $w$ and the only real-valued single dimensional coefficient to estimate based on a series of single-dimensional observations $D=(Y,X)=\\{(y_i,x_i), i=1..N\\}$ is $w$. In a similar manner as we just did for fitting a normal distribution, each single observation changes a given conjugate normal prior\n",
    "$$\n",
    "w\\sim {\\cal N}(w^*,\\sigma^*)\n",
    "$$\n",
    "to a posterior\n",
    "$$\n",
    "p(w|y=y_i, x=x_i)\\sim p(y=y_i|w,x=x_i)p(w)\\sim e^{-\\frac{(y_i-w x_i)^2}{2\\sigma^2}-\\frac{(w-w^*)^2}{2(\\sigma^*)^2}}\\sim\n",
    "$$$$\n",
    "\\sim e^{-w^2 \\frac{x_i^2(\\sigma^*)^2+\\sigma^2}{2\\sigma^2(\\sigma^*)^2}+w \\frac{(\\sigma^*)^2 y_i x_i+\\sigma^2 w^*}{2\\sigma^2(\\sigma^*)^2}}\n",
    "\\sim e^{\\frac{\\left(w-\\frac{ \\sigma^{-2} y_i x_i +(\\sigma^*)^{-2} w^*}{ \\left(x_i^2\\sigma^{-2}+(\\sigma^*)^{-2}\\right)}\\right)^2}{\\frac{2 }{(\\sigma^*)^{-2}+x_i^2\\sigma^{-2}}}}\n",
    "$$\n",
    "so posterior distribution is also normal.\n"
   ]
  },
  {
   "cell_type": "markdown",
   "metadata": {},
   "source": [
    "In order to add all the observations from $D$ one can either iterate the above process or consider a single equation based on a multi-variable probability distribution, which is easy to handle assuming that different observations are independent:\n",
    "$$\n",
    "p(w|Y, X)\\sim p(Y|w,X)p(w)=p(w)\\prod\\limits_i p(y=y_i|w,x=x_i)\\sim e^{-\\sum\\limits_i \\frac{(y_i-w x_i)^2}{2\\sigma^2}-\\frac{(w-w^*)^2}{2(\\sigma^*)^2}}=e^{-\\frac{RSS(w)}{2\\sigma^2}-\\frac{(w-w^*)^2}{2(\\sigma^*)^2}}\\hspace{5ex} (1)\n",
    "$$\n",
    "If one needs a specific estimate $\\hat{w}$ for $w$ then it could be found as the most probable value from\n",
    "$$\n",
    "\\hat{w}=argmax_w p(w|Y, X)=argmin_w\\left[\\frac{RSS(w)}{2\\sigma^2}+\\frac{(w-w^*)^2}{2(\\sigma^*)^2}\\right]\\hspace{5ex} (2)\n",
    "$$"
   ]
  },
  {
   "cell_type": "markdown",
   "metadata": {},
   "source": [
    "$$\n",
    "p(w|Y, X)\\sim e^{-w^2 \\frac{\\sum_i x_i^2(\\sigma^*)^2+\\sigma^2}{2\\sigma^2(\\sigma^*)^2}+w \\frac{(\\sigma^*)^2 \\sum_i y_i x_i+\\sigma^2 w^*}{2\\sigma^2(\\sigma^*)^2}}\\sim e^{\\frac{\\left(w-\\frac{ \\sigma^{-2} \\sum_i y_i x_i +(\\sigma^*)^{-2} w^*}{\\left(\\sum_i x_i^2\\sigma^{-2}+(\\sigma^*)^{-2}\\right)}\\right)^2}{\\frac{2}{(\\sigma^*)^{-2}+\\sum_i x_i^2\\sigma^{-2}}}}\\sim\n",
    "$$"
   ]
  },
  {
   "cell_type": "markdown",
   "metadata": {},
   "source": [
    "$$\n",
    "\\sim {\\cal N}\\left(\\frac{ \\sigma^{-2} \\sum_i y_i x_i +(\\sigma^*)^{-2} w^*}{\\left(\\sum_i x_i^2\\sigma^{-2}+(\\sigma^*)^{-2}\\right)},\n",
    "\\frac{1}{\\sqrt{(\\sigma^*)^{-2}+\\sum_i x_i^2\\sigma^{-2}}}\\right)\n",
    "$$"
   ]
  },
  {
   "cell_type": "markdown",
   "metadata": {},
   "source": [
    "### Uninformed prior\n",
    "\n",
    "In case of an uninformed prior with $\\sigma^*\\to \\infty$, the above estimate (2) tends to be equivalent to the one given by the regular OLS, i.e.\n",
    "$$\n",
    "RSS(w)\\to \\min\n",
    "$$\n",
    "However, in addition to the single best fit slope coefficient estimate (2), Bayesian regression also provides an entire probabilistic normal distribution\n",
    "$$\n",
    "w\\sim {\\cal N}\\left(\\frac{\\sum_i x_i y_i}{\\sum_i x_i^2},\\frac{\\sigma}{\\sqrt{\\sum_i x_i^2}}\\right)\n",
    "$$\n",
    "for the possible values of $w$, being able to explain from the rigorous probabilistic standpoint the meaning behind the confidence intervals and hypothesis testing.\n",
    "\n",
    "One point here is that so far we consider $\\sigma$ as given. There is a more sophisticated Bayesian framework which allows to estimate it together with $w$ (conceptually just enough to consider a vector of two latent variables $w,\\sigma$ instead of $w$ and specify its joint prior distribution, although math is much heavier in that case). For now we can simply rely on the straightforward max-likelihood estimate\n",
    "$$\n",
    "\\hat{\\sigma}^2=\\frac{RSS(\\hat{w})}{N}\n",
    "$$\n",
    "also being an actual sample standard deviation of the set of observed prediction errors for the optimal $w=\\hat{w}$."
   ]
  },
  {
   "cell_type": "markdown",
   "metadata": {},
   "source": [
    "## Example 1 revisited. Distribution for the sq.foot price"
   ]
  },
  {
   "cell_type": "code",
   "execution_count": 7,
   "metadata": {
    "collapsed": true
   },
   "outputs": [],
   "source": [
    "#we just need to select sigma here - take the one we estimated for the entire sample\n",
    "RE11s=sigma/(sum(REsample11.gross_sq_feet**2)**0.5)"
   ]
  },
  {
   "cell_type": "code",
   "execution_count": 8,
   "metadata": {
    "collapsed": false
   },
   "outputs": [
    {
     "name": "stdout",
     "output_type": "stream",
     "text": [
      "w ~ N(369.713904612,18.293523802)\n"
     ]
    }
   ],
   "source": [
    "print('w ~ N({0},{1})'.format(RE11w,RE11s))"
   ]
  },
  {
   "cell_type": "markdown",
   "metadata": {},
   "source": [
    "notice that the standard deviation we found for $w$ depends on the choice of $\\sigma$ and might become different if we take $\\sigma$ based on the considered sub-sample rather than the entire sample as we did."
   ]
  },
  {
   "cell_type": "markdown",
   "metadata": {},
   "source": [
    "## Example 2. Bayesian regression example - tuning the houses price regression trained above"
   ]
  },
  {
   "cell_type": "markdown",
   "metadata": {},
   "source": [
    "Now if we have the results of the previos estimate (but not retain the training data anymore) and later find more training data to consider, we can further adjust the former estimate through the above Bayesian framework."
   ]
  },
  {
   "cell_type": "code",
   "execution_count": 9,
   "metadata": {
    "collapsed": false
   },
   "outputs": [
    {
     "name": "stdout",
     "output_type": "stream",
     "text": [
      "Estimated w=450.921318897\n"
     ]
    }
   ],
   "source": [
    "#consider the remaining part of the housing prices data separately\n",
    "REsample12=REsample1.loc[100:]\n",
    "#and compute the OLS estimate\n",
    "RE12w0=sum(REsample12.sale_price*REsample12.gross_sq_feet)/sum(REsample12.gross_sq_feet**2)\n",
    "print('Estimated w={0}'.format(RE12w0))"
   ]
  },
  {
   "cell_type": "code",
   "execution_count": 10,
   "metadata": {
    "collapsed": false
   },
   "outputs": [
    {
     "name": "stdout",
     "output_type": "stream",
     "text": [
      "w ~ N(423.262774919,10.6761381647)\n"
     ]
    }
   ],
   "source": [
    "#now implement Bayesian regression starting from the prior obtained based on the first sample w ~ N(369.713904612,18.293523802)\n",
    "RE12w0=sum(REsample12.sale_price*REsample12.gross_sq_feet)/sum(REsample12.gross_sq_feet**2)\n",
    "s22=sigma**-2; s12=RE11s**-2\n",
    "RE12w=(s22*sum(REsample12.sale_price*REsample12.gross_sq_feet)+s12*RE11w)/(s22*sum(REsample12.gross_sq_feet**2)+s12)\n",
    "RE12s=(s22*sum(REsample12.gross_sq_feet**2)+s12)**(-0.5)\n",
    "print('w ~ N({0},{1})'.format(RE12w,RE12s))"
   ]
  },
  {
   "cell_type": "markdown",
   "metadata": {},
   "source": [
    "This is already pretty consistent with what python will give us if we take the entire training sample at once"
   ]
  },
  {
   "cell_type": "code",
   "execution_count": 11,
   "metadata": {
    "collapsed": false
   },
   "outputs": [
    {
     "name": "stdout",
     "output_type": "stream",
     "text": [
      "                            OLS Regression Results                            \n",
      "==============================================================================\n",
      "Dep. Variable:             sale_price   R-squared:                       0.835\n",
      "Model:                            OLS   Adj. R-squared:                  0.835\n",
      "Method:                 Least Squares   F-statistic:                     1562.\n",
      "Date:                Sat, 12 Nov 2016   Prob (F-statistic):          1.13e-122\n",
      "Time:                        23:28:13   Log-Likelihood:                -4414.8\n",
      "No. Observations:                 309   AIC:                             8832.\n",
      "Df Residuals:                     308   BIC:                             8835.\n",
      "Df Model:                           1                                         \n",
      "Covariance Type:            nonrobust                                         \n",
      "=================================================================================\n",
      "                    coef    std err          t      P>|t|      [95.0% Conf. Int.]\n",
      "---------------------------------------------------------------------------------\n",
      "gross_sq_feet   423.2628     10.708     39.528      0.000       402.193   444.332\n",
      "==============================================================================\n",
      "Omnibus:                      208.010   Durbin-Watson:                   1.811\n",
      "Prob(Omnibus):                  0.000   Jarque-Bera (JB):             3821.940\n",
      "Skew:                           2.438   Prob(JB):                         0.00\n",
      "Kurtosis:                      19.525   Cond. No.                         1.00\n",
      "==============================================================================\n",
      "\n",
      "Warnings:\n",
      "[1] Standard Errors assume that the covariance matrix of the errors is correctly specified.\n"
     ]
    }
   ],
   "source": [
    "lm = smf.ols(formula='sale_price ~ gross_sq_feet -1', data = REsample1).fit()\n",
    "print(lm.summary())"
   ]
  },
  {
   "cell_type": "markdown",
   "metadata": {},
   "source": [
    "So Bayesian framework allows to efficiently utilize prior knowledge on the regression parameters to be estimated and also provides us not just with one single best estimate for them but with the entire distribution for the possible value, admitting uncertainty. \n",
    "\n",
    "Let's also give some intuition of how strongly the prior knowledge affects the result compared to the new knowledge obtained from the training sample. Clearly if the prior knowledge is obtained from just a few observations while the further sample considered is pretty big, the result should be dominated by the further observations with little impact of the prior. But it seems that there is no information about how big the initial sample was... However this is not actually the case! \n",
    "\n",
    "The key here is the deviation we have in the prior distribution - the fewer data was used to generate the prior estimate, the more uncertain it will be (higher deviation) and the smaller will be its impact on the posterior. For example uninformed prior having variance going to infinity, tends to have no impact on the result. On the other hand, a very narrow prior means that it has been obtained based on a very strong evidence and should have a major impact on the posterior despite further observations. So all necessary information is already in the prior - when we combine prior estimate based on one sample and with the further observations from the second sample, the first sample size is somehow \"encoded\" in the prior variance and all the necessary information is already there."
   ]
  },
  {
   "cell_type": "markdown",
   "metadata": {},
   "source": [
    "# Multivariate case and regularization\n",
    "\n",
    "Now consider a multivatiate linear regression model\n",
    "$$\n",
    "y\\sim {\\cal N}(w^T x,\\sigma^2).\n",
    "$$\n",
    "Again assume that $\\sigma$ is known or independent on $w$, while for the components of the vector $w=(w_1,w_2,...w_n)$ the prior distributions are known to be pairwise independent normal distributions\n",
    "$$\n",
    "w_j\\sim{\\cal N}(w_j^*,\\sigma_j^*).\n",
    "$$"
   ]
  },
  {
   "cell_type": "markdown",
   "metadata": {},
   "source": [
    "$$\n",
    "p(w|Y,X)\\sim p(Y|w,X)p(w)=p(w)\\prod\\limits_i p(y=y_i|w,x=x_i)p(w)=\\prod_i p(y=y_i|w,x=x_i)\\prod_j p(w_j)\\sim \n",
    "$$\n",
    "$$\n",
    "\\sim\\prod\\limits_i e^{\\frac{-(y_i-w^T x_i)^2}{2\\sigma^2}}\\prod\\limits_j e^{-\\frac{(w_j-w_j^*)^2}{2(\\sigma_i^*)^2}}=e^{-\\frac{RSS(w)}{2\\sigma^2}-\\sum\\limits_j \\frac{(w_j-w_j^*)^2}{2(\\sigma_i^*)^2}},\n",
    "$$"
   ]
  },
  {
   "cell_type": "markdown",
   "metadata": {
    "collapsed": true
   },
   "source": [
    "so the estimate for the best fit $\\hat{w}$ could be found from\n",
    "$$\n",
    "\\hat{w}=argmax_w p(w|Y, X)=argmin_w\\left[\\frac{RSS(w)}{\\sigma^2}+\\sum\\limits_j\\frac{(w_j-w_j^*)^2}{(\\sigma_j^*)^2}\\right]\\hspace{5ex}\n",
    "$$"
   ]
  },
  {
   "cell_type": "markdown",
   "metadata": {},
   "source": [
    "An important particular case of all the components of $w$ having the same prior $w_j\\sim{\\cal N}(0,\\sigma/\\sqrt{\\lambda})$ leads to\n",
    "\n",
    "$$\n",
    "\\hat{w}=argmin_w\\left[RSS(w)+\\lambda||w||_2^2\\right]\\hspace{5ex}(3)\n",
    "$$\n",
    "\n",
    "where $||w||_2=\\sqrt{\\sum\\limits_j w_j^2}$, known as Ridge regression.\n",
    "\n",
    "An alternative choice of the Laplacian prior distribution $p(w_j)\\sim e^{-\\lambda|w_j|/\\sigma}$ leads to  \n",
    "$$\n",
    "\\hat{w}=argmin_w\\left[RSS(w)+\\lambda||w||_1\\right],\\hspace{5ex}(4)\n",
    "$$\n",
    "where $||w||_1=\\sum\\limits_j |w_j|$, known as Lasso (least absolute shrinkage and selection operator) regression.\n",
    "\n",
    "Both Ridge and Lasso could be shown to be equivalent to a constrained minimization of $RSS$:\n",
    "\n",
    "$$\n",
    "RSS(w)\\to min, \\ ||w||_p\\leq \\alpha,\\hspace{5ex}(5)\n",
    "$$\n",
    "\n",
    "with $p=1,2$ respectively, although analytic relation between constants $\\alpha$ and $\\lambda$ is somewhat nontrivial. In practice however the choice of $\\lambda$ or $\\alpha$ is usually empirical anyway, so both regularized (i.e. (3)-(4) with adding a regularization term ||w||) or constrained forms (5) of the optimization problem are equally applicable."
   ]
  },
  {
   "cell_type": "markdown",
   "metadata": {},
   "source": [
    "Optimization problems (3) and (4) tend to minimize $RSS$ at the same time penalizing the regression for having $||w||$ too large (regularization) which often leads to the model complexity through multiple regressors with large coefficients canceling effect of each other. So in a sense Lasso and Ridge are trying to avoid this situation, looking for relatively simple \"regular\" models with best possible fit. \n",
    "\n",
    "Their Bayesian derivation show that Lasso and Ridge simply perform the regression with the prior belief that all the components of the $w$ are limited through the fixed variance of the priors. Such a belief affects the final outcome of the model making solutions with large $||w||$ to be particularly unlikely.\n",
    "\n",
    "This helps Ridge and Lasso to fight overfitting also dealing with multicollinearity of regressors to some extent, preventing from learning noise through particularly complex \"unnatural\" combinations of the regressors.\n",
    "\n",
    "Ridge regression admits solution in the closed form (consider partial derivatives of the objective function with respect to $w_j$):\n",
    "\n",
    "$$\n",
    "\\hat{w}=(X^T X+\\lambda I)^{-1}X^T Y, \\hspace{5ex} (6)\n",
    "$$\n",
    "\n",
    "where $I$ is the identity $n\\times n$ matrix, while $n$ being the number of regressors. The formulae (6) shows that the Ridge regression can in theory deal with the case of multicollinearity, when the matrix $X^T X$ is singular and OLS estimate does not exist.\n",
    "\n",
    "Lasso does not admit solution in the closed form and requires numerical methods (like subgradient methods) to be fit. \n",
    "Lasso however has an advantage of being able to completely eliminate impact of certain irrelevant regressors setting the corresponding slope coefficients to zero.  "
   ]
  },
  {
   "cell_type": "markdown",
   "metadata": {},
   "source": [
    "# Bias-variance trade-off"
   ]
  },
  {
   "cell_type": "markdown",
   "metadata": {},
   "source": [
    "Suppose that the data considered have been indeed generated by a certain \"true\" model\n",
    "$$\n",
    "y\\sim {\\cal N}(w^T x,\\sigma^2),\n",
    "$$\n",
    "while \"true\" $w$ is not known to us and is being approximated by our estimates $\\hat{w}$ picked up from the posterior distribution given by our model (e.g. OLS, Ridge, Lasso etc).\n",
    "\n",
    "The ability of the model to predict future values of $y$ for specific $x$ can be expressed as (using $E[X^2]=E[X]^2+Var[X]$ and $E[y]=E[w^T x]$):\n",
    "\n",
    "$$\n",
    "E\\left[(y-\\hat{w}^T x)^2\\right]=Bias[\\hat{w}^T x]^2+Var[\\hat{w}^T x]^2+\\sigma^2,\n",
    "$$\n",
    "\n",
    "where for each specific $x$\n",
    "$$\n",
    "{\\rm Bias}[\\hat{w}^T x]=(E[\\hat{w}^T x]-w^T x) \n",
    "$$\n",
    "shows how shifted on average will our prediction be vs the unknown \"true\" model prediction, while\n",
    "$$\n",
    "Var[\\hat{w}^T x]=E[(\\hat{w}^T x-E[\\hat{w}^T x])^2]\n",
    "$$\n",
    "shows how uncertain is our prediction given the variation of the estimate $\\hat{w}$. The third term $\\sigma^2$ corresponds to an irreducible error, caused by the noise in the data generation process."
   ]
  },
  {
   "cell_type": "markdown",
   "metadata": {},
   "source": [
    "So the ability of the model to predict future values of $y$ depends (besides the irreducible error which we're not in control of) on both - the variance in our estimate of $\\hat{w}$ as well as the bias in our estimation (i.e. systematic shift like under or overestimation) of the true values of $w$ and $y$. \n",
    "\n",
    "The OLS estimate in theory is known to be unbiased (tends to have zero bias provided that the training sample is large enough), however might have pretty high variance in $\\hat{w}$ especially when the regressors are highly correlated. This reduces its generalizability. Regularized regression, like Ridge and Lasso, can introduce some bias (might not fit the training sample that well), but may largely reduce variance by limiting the $||w||$ (and become much less sensitive to small changes in the training data, reducing the risk of overfitting)."
   ]
  },
  {
   "cell_type": "code",
   "execution_count": 12,
   "metadata": {
    "collapsed": false
   },
   "outputs": [
    {
     "data": {
      "image/png": "[encoded data removed]",
      "text/plain": [
       "<PIL.PngImagePlugin.PngImageFile image mode=RGBA size=562x511 at 0xC6D13C8>"
      ]
     },
     "execution_count": 12,
     "metadata": {},
     "output_type": "execute_result"
    }
   ],
   "source": [
    "from PIL import Image\n",
    "import urllib, cStringIO\n",
    "Image.open(cStringIO.StringIO(urllib.urlopen(path + 'biasvariance.png').read())) "
   ]
  },
  {
   "cell_type": "markdown",
   "metadata": {},
   "source": [
    "Generally, often the more complex model able to better learn from the training sample (lower bias) have higher variance, which leads to overfitting and high error for predicting the future values of the output variable.\n",
    "\n",
    "### Validation and cross-validation\n",
    "\n",
    "A good way to validate the model is to use a test set separate from the training sample to evaluate the model performance. Additionally if the model depends on the certain parameters (like $\\alpha,\\lambda$ for Lasso/Ridge) which are not supposed to be fit during the training phase, a separate validation sample could be used for the selection of model parameters (we pick up those which optimize model performance over the validation set). Usually test and validation sets are got as subsamples (often random) of the available dataset, while the remaining data is used as the training sample. \n",
    "\n",
    "But often the available dataset is small enough, so splitting into even smaller traning, validation and test sets could have negative impact on the model training, leading to noisy and unreliable models. In such cases cross-validation is often applied, performing not one but several random splits of the sample with further averaging of the model performance scores. "
   ]
  },
  {
   "cell_type": "markdown",
   "metadata": {},
   "source": [
    "## Choice of $\\lambda$ or $\\alpha$. Model validation.\n",
    "\n",
    "In both - constrained and regularized forms - the parameter $\\alpha$ or $\\lambda$ of Lasso/Ridge regression is somewhat arbitrary and can take any value from $0$ to $+\\infty$. Small values of $\\lambda$ or high values of $\\alpha$ lead to the result close to OLS (identical to $\\lambda=0$ or $\\alpha=+\\infty$), while large $\\lambda$ or small $\\alpha$ tend to overemphasize the impact of regularization over the fit itself. There is no single best way of choosing the value of the regularization parameter - what is usually suggested is to fit it by evaluating the model for different values of the parameter over the separate validation set and picking up the value for which the validation performance is the best one. As for the performance metric one can use RSS or, equivalently, R2."
   ]
  },
  {
   "cell_type": "markdown",
   "metadata": {},
   "source": [
    "## Example 3. Regularization with artifical data"
   ]
  },
  {
   "cell_type": "code",
   "execution_count": 13,
   "metadata": {
    "collapsed": false
   },
   "outputs": [
    {
     "name": "stdout",
     "output_type": "stream",
     "text": [
      "50\n"
     ]
    },
    {
     "data": {
      "text/html": [
       "<div>\n",
       "<table border=\"1\" class=\"dataframe\">\n",
       "  <thead>\n",
       "    <tr style=\"text-align: right;\">\n",
       "      <th></th>\n",
       "      <th>x0</th>\n",
       "      <th>x1</th>\n",
       "      <th>x2</th>\n",
       "      <th>x3</th>\n",
       "      <th>x4</th>\n",
       "      <th>x5</th>\n",
       "      <th>x6</th>\n",
       "      <th>x7</th>\n",
       "      <th>x8</th>\n",
       "      <th>x9</th>\n",
       "      <th>...</th>\n",
       "      <th>x20</th>\n",
       "      <th>x21</th>\n",
       "      <th>x22</th>\n",
       "      <th>x23</th>\n",
       "      <th>x24</th>\n",
       "      <th>x25</th>\n",
       "      <th>x26</th>\n",
       "      <th>x27</th>\n",
       "      <th>x28</th>\n",
       "      <th>Y</th>\n",
       "    </tr>\n",
       "  </thead>\n",
       "  <tbody>\n",
       "    <tr>\n",
       "      <th>0</th>\n",
       "      <td>26</td>\n",
       "      <td>22.415927</td>\n",
       "      <td>1.481339</td>\n",
       "      <td>9.634145</td>\n",
       "      <td>-15.316976</td>\n",
       "      <td>3.707672</td>\n",
       "      <td>44.960785</td>\n",
       "      <td>27.480018</td>\n",
       "      <td>48.835505</td>\n",
       "      <td>5.382629</td>\n",
       "      <td>...</td>\n",
       "      <td>42.863416</td>\n",
       "      <td>39</td>\n",
       "      <td>26</td>\n",
       "      <td>95</td>\n",
       "      <td>83</td>\n",
       "      <td>16</td>\n",
       "      <td>21</td>\n",
       "      <td>66</td>\n",
       "      <td>87</td>\n",
       "      <td>17.023843</td>\n",
       "    </tr>\n",
       "    <tr>\n",
       "      <th>1</th>\n",
       "      <td>68</td>\n",
       "      <td>59.433665</td>\n",
       "      <td>14.979972</td>\n",
       "      <td>22.192560</td>\n",
       "      <td>-35.872848</td>\n",
       "      <td>12.682355</td>\n",
       "      <td>117.701114</td>\n",
       "      <td>66.681792</td>\n",
       "      <td>124.983058</td>\n",
       "      <td>18.150923</td>\n",
       "      <td>...</td>\n",
       "      <td>101.877161</td>\n",
       "      <td>45</td>\n",
       "      <td>52</td>\n",
       "      <td>24</td>\n",
       "      <td>42</td>\n",
       "      <td>97</td>\n",
       "      <td>65</td>\n",
       "      <td>47</td>\n",
       "      <td>94</td>\n",
       "      <td>73.075316</td>\n",
       "    </tr>\n",
       "    <tr>\n",
       "      <th>2</th>\n",
       "      <td>45</td>\n",
       "      <td>39.162046</td>\n",
       "      <td>7.587863</td>\n",
       "      <td>15.315333</td>\n",
       "      <td>-24.616061</td>\n",
       "      <td>7.767647</td>\n",
       "      <td>77.867124</td>\n",
       "      <td>45.214154</td>\n",
       "      <td>83.283207</td>\n",
       "      <td>11.158762</td>\n",
       "      <td>...</td>\n",
       "      <td>69.560110</td>\n",
       "      <td>53</td>\n",
       "      <td>64</td>\n",
       "      <td>31</td>\n",
       "      <td>31</td>\n",
       "      <td>64</td>\n",
       "      <td>74</td>\n",
       "      <td>19</td>\n",
       "      <td>55</td>\n",
       "      <td>34.872741</td>\n",
       "    </tr>\n",
       "    <tr>\n",
       "      <th>3</th>\n",
       "      <td>91</td>\n",
       "      <td>79.705283</td>\n",
       "      <td>22.372081</td>\n",
       "      <td>29.069787</td>\n",
       "      <td>-47.129635</td>\n",
       "      <td>17.597062</td>\n",
       "      <td>157.535104</td>\n",
       "      <td>88.149430</td>\n",
       "      <td>166.682908</td>\n",
       "      <td>25.143084</td>\n",
       "      <td>...</td>\n",
       "      <td>134.194211</td>\n",
       "      <td>90</td>\n",
       "      <td>50</td>\n",
       "      <td>49</td>\n",
       "      <td>30</td>\n",
       "      <td>95</td>\n",
       "      <td>65</td>\n",
       "      <td>80</td>\n",
       "      <td>77</td>\n",
       "      <td>64.479635</td>\n",
       "    </tr>\n",
       "    <tr>\n",
       "      <th>4</th>\n",
       "      <td>15</td>\n",
       "      <td>12.720805</td>\n",
       "      <td>-2.054018</td>\n",
       "      <td>6.345036</td>\n",
       "      <td>-9.933295</td>\n",
       "      <td>1.357160</td>\n",
       "      <td>25.909746</td>\n",
       "      <td>17.212886</td>\n",
       "      <td>28.892098</td>\n",
       "      <td>2.038551</td>\n",
       "      <td>...</td>\n",
       "      <td>27.407435</td>\n",
       "      <td>9</td>\n",
       "      <td>49</td>\n",
       "      <td>73</td>\n",
       "      <td>23</td>\n",
       "      <td>76</td>\n",
       "      <td>37</td>\n",
       "      <td>44</td>\n",
       "      <td>55</td>\n",
       "      <td>19.937208</td>\n",
       "    </tr>\n",
       "  </tbody>\n",
       "</table>\n",
       "<p>5 rows × 30 columns</p>\n",
       "</div>"
      ],
      "text/plain": [
       "   x0         x1         x2         x3         x4         x5          x6  \\\n",
       "0  26  22.415927   1.481339   9.634145 -15.316976   3.707672   44.960785   \n",
       "1  68  59.433665  14.979972  22.192560 -35.872848  12.682355  117.701114   \n",
       "2  45  39.162046   7.587863  15.315333 -24.616061   7.767647   77.867124   \n",
       "3  91  79.705283  22.372081  29.069787 -47.129635  17.597062  157.535104   \n",
       "4  15  12.720805  -2.054018   6.345036  -9.933295   1.357160   25.909746   \n",
       "\n",
       "          x7          x8         x9    ...             x20  x21  x22  x23  \\\n",
       "0  27.480018   48.835505   5.382629    ...       42.863416   39   26   95   \n",
       "1  66.681792  124.983058  18.150923    ...      101.877161   45   52   24   \n",
       "2  45.214154   83.283207  11.158762    ...       69.560110   53   64   31   \n",
       "3  88.149430  166.682908  25.143084    ...      134.194211   90   50   49   \n",
       "4  17.212886   28.892098   2.038551    ...       27.407435    9   49   73   \n",
       "\n",
       "   x24  x25  x26  x27  x28          Y  \n",
       "0   83   16   21   66   87  17.023843  \n",
       "1   42   97   65   47   94  73.075316  \n",
       "2   31   64   74   19   55  34.872741  \n",
       "3   30   95   65   80   77  64.479635  \n",
       "4   23   76   37   44   55  19.937208  \n",
       "\n",
       "[5 rows x 30 columns]"
      ]
     },
     "execution_count": 13,
     "metadata": {},
     "output_type": "execute_result"
    }
   ],
   "source": [
    "data3=pd.read_csv(path+\"example3.csv\")\n",
    "print(len(data3))\n",
    "data3.head()"
   ]
  },
  {
   "cell_type": "code",
   "execution_count": 14,
   "metadata": {
    "collapsed": false
   },
   "outputs": [
    {
     "name": "stdout",
     "output_type": "stream",
     "text": [
      "                            OLS Regression Results                            \n",
      "==============================================================================\n",
      "Dep. Variable:                      Y   R-squared:                       0.903\n",
      "Model:                            OLS   Adj. R-squared:                  0.762\n",
      "Method:                 Least Squares   F-statistic:                     6.404\n",
      "Date:                Sat, 12 Nov 2016   Prob (F-statistic):           3.27e-05\n",
      "Time:                        23:28:14   Log-Likelihood:                -161.27\n",
      "No. Observations:                  50   AIC:                             382.5\n",
      "Df Residuals:                      20   BIC:                             439.9\n",
      "Df Model:                          29                                         \n",
      "Covariance Type:            nonrobust                                         \n",
      "==============================================================================\n",
      "                 coef    std err          t      P>|t|      [95.0% Conf. Int.]\n",
      "------------------------------------------------------------------------------\n",
      "Intercept  -1.641e+10   7.67e+10     -0.214      0.833     -1.76e+11  1.43e+11\n",
      "x0          3.757e+08   2.18e+09      0.172      0.865     -4.18e+09  4.93e+09\n",
      "x1         -7.498e+07   1.02e+09     -0.074      0.942      -2.2e+09  2.05e+09\n",
      "x2          9.354e+08   1.61e+09      0.580      0.568     -2.43e+09   4.3e+09\n",
      "x3          2.537e+09   1.09e+09      2.328      0.031      2.64e+08  4.81e+09\n",
      "x4         -4.953e+08   9.59e+08     -0.516      0.611      -2.5e+09  1.51e+09\n",
      "x5          8.663e+08   1.52e+09      0.568      0.576     -2.31e+09  4.05e+09\n",
      "x6          1.194e+08    1.2e+08      0.993      0.332     -1.31e+08   3.7e+08\n",
      "x7         -5.983e+08   7.43e+08     -0.805      0.430     -2.15e+09  9.52e+08\n",
      "x8          1.651e+07    1.4e+08      0.118      0.907     -2.76e+08  3.09e+08\n",
      "x9         -2.163e+09   1.01e+09     -2.143      0.045     -4.27e+09 -5.79e+07\n",
      "x10         3.144e+08   9.17e+08      0.343      0.735      -1.6e+09  2.23e+09\n",
      "x11        -5.027e+08    7.4e+08     -0.679      0.505     -2.05e+09  1.04e+09\n",
      "x12        -5.629e+07   1.28e+08     -0.441      0.664     -3.23e+08   2.1e+08\n",
      "x13        -2.189e+09   8.34e+09     -0.262      0.796     -1.96e+10  1.52e+10\n",
      "x14          1.24e+09   1.48e+09      0.837      0.413     -1.85e+09  4.33e+09\n",
      "x15        -7.543e+08   8.05e+08     -0.937      0.360     -2.43e+09  9.24e+08\n",
      "x16        -6.821e+09   7.96e+09     -0.857      0.402     -2.34e+10  9.79e+09\n",
      "x17         5.683e+08   8.18e+08      0.695      0.495     -1.14e+09  2.27e+09\n",
      "x18         1.267e+08   1.42e+08      0.895      0.382     -1.69e+08  4.22e+08\n",
      "x19         1.923e+09   9.55e+08      2.015      0.058     -6.79e+07  3.91e+09\n",
      "x20        -2.541e+07    1.4e+08     -0.182      0.857     -3.17e+08  2.66e+08\n",
      "x21           -0.0725      0.081     -0.893      0.383        -0.242     0.097\n",
      "x22            0.0101      0.084      0.121      0.905        -0.164     0.184\n",
      "x23           -0.0042      0.063     -0.067      0.947        -0.135     0.127\n",
      "x24            0.1370      0.071      1.924      0.069        -0.012     0.286\n",
      "x25            0.0388      0.077      0.501      0.622        -0.123     0.200\n",
      "x26           -0.0051      0.075     -0.068      0.946        -0.161     0.151\n",
      "x27           -0.1540      0.076     -2.037      0.055        -0.312     0.004\n",
      "x28           -0.1093      0.076     -1.432      0.168        -0.269     0.050\n",
      "==============================================================================\n",
      "Omnibus:                        9.237   Durbin-Watson:                   1.897\n",
      "Prob(Omnibus):                  0.010   Jarque-Bera (JB):               12.740\n",
      "Skew:                          -0.548   Prob(JB):                      0.00171\n",
      "Kurtosis:                       5.217   Cond. No.                     1.59e+13\n",
      "==============================================================================\n",
      "\n",
      "Warnings:\n",
      "[1] Standard Errors assume that the covariance matrix of the errors is correctly specified.\n",
      "[2] The smallest eigenvalue is 1.55e-20. This might indicate that there are\n",
      "strong multicollinearity problems or that the design matrix is singular.\n"
     ]
    }
   ],
   "source": [
    "result = smf.ols(formula = 'Y ~ '+ '+'.join(data3.columns[:-1]), data = data3).fit()\n",
    "OLS_coef=result.params\n",
    "print(result.summary())"
   ]
  },
  {
   "cell_type": "markdown",
   "metadata": {},
   "source": [
    "Let's evaluate if this OLS model for such a dataset is actually generalizable. For that purpose let us divide the dataset into training set and the test set."
   ]
  },
  {
   "cell_type": "code",
   "execution_count": 15,
   "metadata": {
    "collapsed": true
   },
   "outputs": [],
   "source": [
    "np.random.seed(2016)\n",
    "Shuffle = np.random.permutation(len(data3))\n",
    "train = data3.take(Shuffle)[:30]\n",
    "test = data3.take(Shuffle)[30:]"
   ]
  },
  {
   "cell_type": "code",
   "execution_count": 16,
   "metadata": {
    "collapsed": true
   },
   "outputs": [],
   "source": [
    "# An anonymous function that returns your regression model for future usage\n",
    "Regress = lambda feature: smf.ols(formula = 'Y ~ %s'%feature, data = train).fit()\n",
    "\n",
    "# For displaying R^2 and linear model summary\n",
    "def modelEval(lm, key = 'Y'):\n",
    "    lmy = lm.predict(test)\n",
    "    y_err = lmy - test[key]\n",
    "    y_norm = test[key]-np.mean(test[key])\n",
    "    return 1-y_err.dot(y_err)/y_norm.dot(y_norm)  # R2 w.r.t. test set"
   ]
  },
  {
   "cell_type": "code",
   "execution_count": 17,
   "metadata": {
    "collapsed": false
   },
   "outputs": [
    {
     "name": "stdout",
     "output_type": "stream",
     "text": [
      "In sample R-squared: 1.000000\n",
      "Out of sample R-squared: -85.509569\n",
      "Fitted coefficients:\n",
      "Intercept   -5.121152e+10\n",
      "x0           5.105456e+10\n",
      "x1          -8.763016e+09\n",
      "x2           2.375640e+09\n",
      "x3           2.051534e+10\n",
      "x4           1.855679e+10\n",
      "x5           2.562883e+09\n",
      "x6          -3.846955e+09\n",
      "x7          -1.731715e+09\n",
      "x8          -3.627390e+09\n",
      "x9           8.760615e+09\n",
      "x10          3.579061e+09\n",
      "x11          3.279274e+09\n",
      "x12          1.251950e+09\n",
      "x13         -3.030257e+08\n",
      "x14          1.697250e+10\n",
      "x15         -2.260182e+10\n",
      "x16         -1.826776e+10\n",
      "x17          2.268466e+10\n",
      "x18         -2.557064e+09\n",
      "x19          4.516872e+09\n",
      "x20          2.076960e+09\n",
      "x21         -6.042103e-01\n",
      "x22         -7.705596e-01\n",
      "x23          6.603614e-01\n",
      "x24         -4.361453e-01\n",
      "x25          5.270533e-01\n",
      "x26         -1.136571e+00\n",
      "x27         -2.998356e-01\n",
      "x28         -1.032848e+00\n",
      "dtype: float64\n"
     ]
    }
   ],
   "source": [
    "result = smf.ols(formula = 'Y ~ '+ '+'.join(data3.columns[:-1]), data = train).fit()\n",
    "print('In sample R-squared: %f'%result.rsquared)\n",
    "print('Out of sample R-squared: %f'%modelEval(result))\n",
    "print('Fitted coefficients:')\n",
    "print result.params"
   ]
  },
  {
   "cell_type": "markdown",
   "metadata": {},
   "source": [
    "So while OLS reached almost perfect IS performance over the training set (which is not too suprising as one would expect 29 regressors to be able to learn nearly all the infromation from the sample of 30 observations) it's generalizability is quite poor (OS R2 goes way below zero). So there is clearly an overfitting problem. Let's track its dynamics adding variables to the regression one by one."
   ]
  },
  {
   "cell_type": "code",
   "execution_count": 18,
   "metadata": {
    "collapsed": false
   },
   "outputs": [
    {
     "data": {
      "image/png": "[encoded data removed]",
      "text/plain": [
       "<matplotlib.figure.Figure at 0xc848eb8>"
      ]
     },
     "metadata": {},
     "output_type": "display_data"
    }
   ],
   "source": [
    "Number_variables=range(len(data3.columns[:-1]))\n",
    "OLS_R_2_OS_F=[]\n",
    "OLS_R_2_IS_F=[]\n",
    "\n",
    "for i in Number_variables:\n",
    "    \n",
    "    lm = smf.ols(formula = 'Y ~ '+ '+'.join(data3.columns[:i+1]), data = train).fit()\n",
    "    R2 = modelEval(lm)\n",
    "    OLS_R_2_IS_F.append(lm.rsquared)\n",
    "    OLS_R_2_OS_F.append(R2 if R2 > 0 else 0)\n",
    "\n",
    "plt.title('OS performance of OLS when we subsequently add variables')\n",
    "plt.plot(Number_variables,OLS_R_2_OS_F,'b',label='R_squared_OLS_OS')\n",
    "plt.plot(Number_variables,OLS_R_2_IS_F,'g',label='R_squared_OLS_IS')\n",
    "plt.legend(loc='lower left')\n",
    "plt.xlabel('Number of independent variables')\n",
    "plt.ylabel('R-squared')\n",
    "plt.show()"
   ]
  },
  {
   "cell_type": "markdown",
   "metadata": {},
   "source": [
    "As we see OS OLS R2 is pretty different for IS R2 and the difference starts to grow especially rapidly for $t>20$, so there is clearly a major overfitting problem with OLS at that point. Let's see if Lasso/Ridge are able to fix this issue."
   ]
  },
  {
   "cell_type": "code",
   "execution_count": 19,
   "metadata": {
    "collapsed": false
   },
   "outputs": [],
   "source": [
    "from sklearn.model_selection import train_test_split\n",
    "X_train, X_test, y_train, y_test = train_test_split(data3.ix[:,:-1],\n",
    "                                    data3.ix[:,-1], test_size = 0.4, random_state = 200)"
   ]
  },
  {
   "cell_type": "code",
   "execution_count": 20,
   "metadata": {
    "collapsed": false
   },
   "outputs": [
    {
     "name": "stdout",
     "output_type": "stream",
     "text": [
      "The R-squared we found for IS Ridge is: 0.761228474634\n",
      "The R-squared we found for OS Ridge is: 0.737554781378\n"
     ]
    }
   ],
   "source": [
    "Ridge=linear_model.Ridge(fit_intercept=True, alpha=1) #try Ridge with an arbitrary regularization parameter lambda=1\n",
    "\n",
    "Ridge.fit(X_train,y_train)\n",
    "# In the sample:\n",
    "p_IS=Ridge.predict(X_train)\n",
    "err_IS=p_IS-y_train\n",
    "R_2_IS_Ridge=1-np.var(err_IS)/np.var(y_train)\n",
    "print(\"The R-squared we found for IS Ridge is: {0}\".format(R_2_IS_Ridge))\n",
    "\n",
    "Ridge_coef=Ridge.coef_\n",
    "\n",
    "#Out of sample\n",
    "p_OS=Ridge.predict(X_test)\n",
    "err_OS=p_OS-y_test\n",
    "R_2_OS_Ridge=1-np.var(err_OS)/np.var(y_test)\n",
    "print(\"The R-squared we found for OS Ridge is: {0}\".format(R_2_OS_Ridge))"
   ]
  },
  {
   "cell_type": "markdown",
   "metadata": {},
   "source": [
    "So even with a pretty arbitrary choice of lambda Ridge works pretty well, mostly fixing the overfitting issue. Let's see if one can do better with a more sophisticated choice - for that purpose further split the former training set into training and validation, so that for each lambda the model is being trained over the smaller training sample and optimal lambda is selected based on the model performance over the validation set. Then final result is evaluated over the test set as before."
   ]
  },
  {
   "cell_type": "markdown",
   "metadata": {},
   "source": [
    "### Lab Practice. \n",
    "\n",
    "Part one: Before we go to next step, let us try some arbitary \"alpha\" for the Ridge regression and what is your IS and OS R-squared. Please feel free to check any real number you like. (0.000001,0.1,1000000)"
   ]
  },
  {
   "cell_type": "markdown",
   "metadata": {},
   "source": [
    "Part two: Find the best Alpha from the list:\n",
    "[0.0000001,0.00001,0.1,1,1000,10000000,10000000000] by comparing the OS R-squared. "
   ]
  },
  {
   "cell_type": "markdown",
   "metadata": {},
   "source": [
    "#### Find the optimal Lambda(Alpha). "
   ]
  },
  {
   "cell_type": "code",
   "execution_count": 50,
   "metadata": {
    "collapsed": false
   },
   "outputs": [],
   "source": [
    "#Find the Alpha and report best test performance for Ridge/Lasso.\n",
    "def Regularization_fit_lambda(model,X_train,y_train,lambdas,p=0.4,Graph=False, logl=False):\n",
    "    #model = 1-Ridge, 2-Lasso\n",
    "    #lambdas: a list of lambda values to try\n",
    "    #p: ratio of the validation sample size / total training size\n",
    "    #Graph: plot the graph of R^2 values for different lambda\n",
    "\n",
    "    R_2_OS=[]\n",
    "    X_train0, X_valid, y_train0, y_valid = train_test_split(X_train,\n",
    "                                    y_train, test_size = 0.4, random_state = 200)\n",
    "\n",
    "    if model==1:\n",
    "        RM = lambda a: linear_model.Ridge(fit_intercept=True, alpha=a)\n",
    "        model_label='Ridge'\n",
    "    else:\n",
    "        RM = lambda a: linear_model.Lasso(fit_intercept=True, alpha=a)\n",
    "        model_label='Lasso'\n",
    "    \n",
    "    best_R2 = -1\n",
    "    best_lambda = lambdas[0]\n",
    "    \n",
    "    for i in lambdas:\n",
    "        lm = RM(i)\n",
    "        lm.fit(X_train0,y_train0)  #fit the regularization model\n",
    "        y_predict=lm.predict(X_valid) #compute the prediction for the validation sample \n",
    "        err_OS=y_predict-y_valid\n",
    "        R_2_OS_=1-np.var(err_OS)/np.var(y_valid)\n",
    "        R_2_OS.append(R_2_OS_)\n",
    "        if R_2_OS_ > best_R2:\n",
    "            best_R2 = R_2_OS_\n",
    "            best_lambda = i\n",
    "    \n",
    "    if Graph==True:\n",
    "        plt.title('IS R-squared vs OS-R-squared for different Lambda')\n",
    "        if logl:\n",
    "            plt.xlabel('ln(Lambda)')\n",
    "            l=log(lambdas)\n",
    "            bl=log(best_lambda)\n",
    "        else:\n",
    "            plt.xlabel('Lambda')\n",
    "            l=lambdas\n",
    "            bl=best_lambda\n",
    "        plt.plot(l,R_2_OS,'b',label=model_label)\n",
    "        plt.legend(loc='upper right')\n",
    "        plt.ylabel('R-squared')\n",
    "        plt.axvline(bl,color='r',linestyle='--')\n",
    "\n",
    "        plt.show()\n",
    "    \n",
    "    return best_lambda"
   ]
  },
  {
   "cell_type": "code",
   "execution_count": 51,
   "metadata": {
    "collapsed": false
   },
   "outputs": [
    {
     "data": {
      "image/png": "[encoded data removed]",
      "text/plain": [
       "<matplotlib.figure.Figure at 0xca76fd0>"
      ]
     },
     "metadata": {},
     "output_type": "display_data"
    },
    {
     "name": "stdout",
     "output_type": "stream",
     "text": [
      "Optimal lambda for Ridge=35148.481067\n"
     ]
    }
   ],
   "source": [
    "#select best lambda for Ridge\n",
    "lambdas = np.exp(np.linspace(-5,13,200))\n",
    "lambda_r_optimal=Regularization_fit_lambda(1,X_train,y_train,lambdas,p=0.4,Graph=True)\n",
    "print('Optimal lambda for Ridge={0}'.format(lambda_r_optimal))"
   ]
  },
  {
   "cell_type": "code",
   "execution_count": 52,
   "metadata": {
    "collapsed": false
   },
   "outputs": [
    {
     "name": "stdout",
     "output_type": "stream",
     "text": [
      "The R-squared we found for IS Ridge is: 0.742207299547\n",
      "The R-squared we found for OS Ridge is: 0.780701435339\n"
     ]
    }
   ],
   "source": [
    "Ridge = linear_model.Ridge(fit_intercept=True,alpha=lambda_r_optimal) #try Ridge with a selected regularization parameter lambda\n",
    "\n",
    "Ridge.fit(X_train,y_train)\n",
    "# In the sample:\n",
    "p_IS=Ridge.predict(X_train)\n",
    "err_IS=p_IS-y_train\n",
    "R_2_IS_Ridge=1-np.var(err_IS)/np.var(y_train)\n",
    "print(\"The R-squared we found for IS Ridge is: {0}\".format(R_2_IS_Ridge))\n",
    "\n",
    "Ridge_coef=Ridge.coef_\n",
    "#Out of sample\n",
    "p_OS=Ridge.predict(X_test)\n",
    "err_OS=p_OS-y_test\n",
    "R_2_OS_Ridge=1-np.var(err_OS)/np.var(y_test)\n",
    "print(\"The R-squared we found for OS Ridge is: {0}\".format(R_2_OS_Ridge))"
   ]
  },
  {
   "cell_type": "code",
   "execution_count": 53,
   "metadata": {
    "collapsed": false
   },
   "outputs": [
    {
     "data": {
      "text/plain": [
       "array([ 0.02881129,  0.02539354,  0.00925983,  0.00861486, -0.01410098,\n",
       "        0.00615648,  0.04989863,  0.02689175,  0.05223593,  0.00875883,\n",
       "       -0.02103895,  0.01121923, -0.04407578, -0.00329772, -0.01020266,\n",
       "        0.02698789, -0.00128078, -0.01110813, -0.05093097,  0.00887995,\n",
       "        0.04048243, -0.01010968,  0.02179515,  0.00118145,  0.00480227,\n",
       "        0.01052376,  0.01526727, -0.02922452,  0.01134913])"
      ]
     },
     "execution_count": 53,
     "metadata": {},
     "output_type": "execute_result"
    }
   ],
   "source": [
    "Ridge_coef"
   ]
  },
  {
   "cell_type": "code",
   "execution_count": null,
   "metadata": {
    "collapsed": true
   },
   "outputs": [],
   "source": []
  },
  {
   "cell_type": "markdown",
   "metadata": {},
   "source": [
    "#### Lasso. "
   ]
  },
  {
   "cell_type": "code",
   "execution_count": 54,
   "metadata": {
    "collapsed": false
   },
   "outputs": [
    {
     "name": "stdout",
     "output_type": "stream",
     "text": [
      "The R-squared we found for IS Lasso is: 0.742207299547\n",
      "The R-squared we found for OS Lasso is: 0.742525885408\n"
     ]
    }
   ],
   "source": [
    "Lasso=linear_model.Lasso(fit_intercept=True,alpha=1)\n",
    "#try Ridge with a selected regularization parameter lambda\n",
    "\n",
    "Lasso.fit(X_train,y_train)\n",
    "# In the sample:\n",
    "p_IS=Lasso.predict(X_train)\n",
    "err_IS=p_IS-y_train\n",
    "R_2_IS_Lasso=1-np.var(err_IS)/np.var(y_train)\n",
    "print(\"The R-squared we found for IS Lasso is: {0}\".format(R_2_IS_Ridge))\n",
    "\n",
    "Lasso_coef=Lasso.coef_\n",
    "#Out of sample\n",
    "p_OS=Lasso.predict(X_test)\n",
    "err_OS=p_OS-y_test\n",
    "R_2_OS_Lasso=1-np.var(err_OS)/np.var(y_test)\n",
    "print(\"The R-squared we found for OS Lasso is: {0}\".format(R_2_OS_Lasso))"
   ]
  },
  {
   "cell_type": "markdown",
   "metadata": {},
   "source": [
    "### Lab Practice. \n",
    "\n",
    "Part One: Try some arbitary \"alpha\" for Lasso and report your IS and OS R-squared for Lasso. (You will find that Lasso model's result is more sensitive to \"alpha\" in this case)"
   ]
  },
  {
   "cell_type": "markdown",
   "metadata": {},
   "source": [
    "Part two: Find the best Alpha from the list:\n",
    "[0.001,0.1,1,10,100,1000] by comparing the OS R-squared. "
   ]
  },
  {
   "cell_type": "markdown",
   "metadata": {},
   "source": [
    "#### Picking optimal alpha for Lasso model "
   ]
  },
  {
   "cell_type": "code",
   "execution_count": 71,
   "metadata": {
    "collapsed": false
   },
   "outputs": [
    {
     "data": {
      "image/png": "[encoded data removed]",
      "text/plain": [
       "<matplotlib.figure.Figure at 0xcb3f4e0>"
      ]
     },
     "metadata": {},
     "output_type": "display_data"
    },
    {
     "name": "stdout",
     "output_type": "stream",
     "text": [
      "Optimal lambda for Lasso=73.996670615\n"
     ]
    }
   ],
   "source": [
    "#select lambdas for Lasso \n",
    "lambdas=np.exp(np.linspace(-5,6.5,200))\n",
    "lambda_l_optimal=Regularization_fit_lambda(2,X_train,y_train,lambdas,p=0.4,Graph=True)\n",
    "print('Optimal lambda for Lasso={0}'.format(lambda_l_optimal))"
   ]
  },
  {
   "cell_type": "code",
   "execution_count": 61,
   "metadata": {
    "collapsed": false
   },
   "outputs": [
    {
     "name": "stdout",
     "output_type": "stream",
     "text": [
      "The R-squared we found for IS Lasso is: 0.742207299547\n",
      "The R-squared we found for OS Lasso is: 0.778702599968\n"
     ]
    }
   ],
   "source": [
    "Lasso=linear_model.Lasso(fit_intercept=True,alpha=lambda_l_optimal)\n",
    "#try Ridge with a selected regularization parameter lambda\n",
    "\n",
    "Lasso.fit(X_train,y_train)\n",
    "# In the sample:\n",
    "p_IS=Lasso.predict(X_train)\n",
    "err_IS=p_IS-y_train\n",
    "R_2_IS_Lasso=1-np.var(err_IS)/np.var(y_train)\n",
    "print(\"The R-squared we found for IS Lasso is: {0}\".format(R_2_IS_Ridge))\n",
    "\n",
    "Lasso_coef=Lasso.coef_\n",
    "#Out of sample\n",
    "p_OS=Lasso.predict(X_test)\n",
    "err_OS=p_OS-y_test\n",
    "R_2_OS_Lasso=1-np.var(err_OS)/np.var(y_test)\n",
    "print(\"The R-squared we found for OS Lasso is: {0}\".format(R_2_OS_Lasso))"
   ]
  },
  {
   "cell_type": "code",
   "execution_count": 62,
   "metadata": {
    "collapsed": false
   },
   "outputs": [
    {
     "data": {
      "text/plain": [
       "array([ 0.        ,  0.        ,  0.        ,  0.        , -0.        ,\n",
       "        0.        ,  0.        ,  0.        ,  0.28747248,  0.        ,\n",
       "       -0.        ,  0.        , -0.        , -0.        , -0.        ,\n",
       "        0.        , -0.        , -0.        , -0.        ,  0.        ,\n",
       "        0.        , -0.        ,  0.        ,  0.        ,  0.        ,\n",
       "        0.        ,  0.        , -0.        ,  0.        ])"
      ]
     },
     "execution_count": 62,
     "metadata": {},
     "output_type": "execute_result"
    }
   ],
   "source": [
    "Lasso_coef"
   ]
  },
  {
   "cell_type": "markdown",
   "metadata": {},
   "source": [
    "#### Look at the coefficients of three models now.  "
   ]
  },
  {
   "cell_type": "code",
   "execution_count": 54,
   "metadata": {
    "collapsed": false
   },
   "outputs": [
    {
     "data": {
      "image/png": "[encoded data removed]",
      "text/plain": [
       "<matplotlib.figure.Figure at 0x7fa03311d590>"
      ]
     },
     "metadata": {},
     "output_type": "display_data"
    }
   ],
   "source": [
    "OLS_R_2_OS_F=[]\n",
    "OLS_R_2_IS_F=[]\n",
    "OLS_R_2_Ridge_OS_F=[]\n",
    "OLS_R_2_Ridge_IS_F=[]\n",
    "OLS_R_2_Lasso_OS_F=[]\n",
    "OLS_R_2_Lasso_IS_F=[]\n",
    "\n",
    "Ridge=linear_model.Ridge(fit_intercept=True,alpha=lambda_r_optimal)\n",
    "Lasso=linear_model.Lasso(fit_intercept=True, alpha=lambda_l_optimal)\n",
    "\n",
    "for j in Number_variables:\n",
    "    # OLS\n",
    "    lm = smf.ols(formula = 'Y ~ '+ '+'.join(data3.columns[:j+1]), \n",
    "                 data = pd.concat([X_train.ix[:,:j+1],y_train], axis = 1)).fit()\n",
    "    error = lm.predict(X_test.ix[:,:j+1]) - y_test\n",
    "    R_2_OS_OLS=1-error.var()/y_test.var()\n",
    "    R_2_IS_OLS = lm.rsquared\n",
    "    OLS_R_2_IS_F.append(R_2_IS_OLS)\n",
    "    OLS_R_2_OS_F.append(max(R_2_OS_OLS,0))\n",
    "    \n",
    "    # Ridge\n",
    "    Ridge.fit(X_train.ix[:,:j+1],y_train)\n",
    "    \n",
    "    # In sample:\n",
    "    err_IS=Ridge.predict(X_train.ix[:,:j+1]) - y_train\n",
    "    R_2_IS_Ridge=1-np.var(err_IS)/np.var(y_train)\n",
    "    OLS_R_2_Ridge_IS_F.append(R_2_IS_Ridge)\n",
    "    \n",
    "    #Out of sample\n",
    "    err_OS=Ridge.predict(X_test.ix[:,:j+1]) - y_test\n",
    "    R_2_OS_Ridge=1-np.var(err_OS)/np.var(y_test)\n",
    "    OLS_R_2_Ridge_OS_F.append(max(R_2_OS_Ridge,0))\n",
    "\n",
    "    # Lasso\n",
    "    \n",
    "    Lasso.fit(X_train.ix[:,0:j+1],y_train)\n",
    "    \n",
    "    #In sample:\n",
    "    p_IS=Lasso.predict(X_train.ix[:,0:j+1])\n",
    "    err_IS=p_IS-y_train\n",
    "    R_2_IS_Lasso=1-np.var(err_IS)/np.var(y_train)\n",
    "    OLS_R_2_Lasso_IS_F.append(R_2_IS_Lasso)\n",
    "\n",
    "    #Out of sample\n",
    "    p_OS=Lasso.predict(X_test.ix[:,0:j+1])\n",
    "    err_OS=p_OS-y_test\n",
    "    R_2_OS_Lasso=1-np.var(err_OS)/np.var(y_test)\n",
    "    OLS_R_2_Lasso_OS_F.append(max(R_2_OS_Lasso,0))\n",
    "\n",
    "plt.title('OS performance of OLS when we subsequently add variables')\n",
    "\n",
    "plt.plot(Number_variables,OLS_R_2_IS_F,'g',label='OLS_IS')\n",
    "plt.plot(Number_variables,OLS_R_2_Lasso_IS_F,'y',label='Lasso_IS')\n",
    "plt.plot(Number_variables,OLS_R_2_Ridge_IS_F,'k',label='Ridge_IS')\n",
    "\n",
    "plt.plot(Number_variables,OLS_R_2_OS_F,'b',label='OLS_OS')\n",
    "plt.plot(Number_variables,OLS_R_2_Lasso_OS_F,'c',label='Lasso_OS')\n",
    "plt.plot(Number_variables,OLS_R_2_Ridge_OS_F,'r',label='Ridge_OS')\n",
    "\n",
    "plt.legend(loc='lower right')\n",
    "plt.xlabel('Number of independent variables')\n",
    "plt.ylabel('R-squared')\n",
    "plt.show()"
   ]
  },
  {
   "cell_type": "code",
   "execution_count": 30,
   "metadata": {
    "collapsed": false
   },
   "outputs": [
    {
     "data": {
      "text/html": [
       "<div>\n",
       "<table border=\"1\" class=\"dataframe\">\n",
       "  <thead>\n",
       "    <tr style=\"text-align: right;\">\n",
       "      <th></th>\n",
       "      <th>OLS</th>\n",
       "      <th>Ridge</th>\n",
       "      <th>Lasso</th>\n",
       "    </tr>\n",
       "    <tr>\n",
       "      <th></th>\n",
       "      <th></th>\n",
       "      <th></th>\n",
       "      <th></th>\n",
       "    </tr>\n",
       "  </thead>\n",
       "  <tbody>\n",
       "    <tr>\n",
       "      <th>var_1</th>\n",
       "      <td>-1.64119e+10</td>\n",
       "      <td>0.0288113</td>\n",
       "      <td>0</td>\n",
       "    </tr>\n",
       "    <tr>\n",
       "      <th>var_2</th>\n",
       "      <td>3.75712e+08</td>\n",
       "      <td>0.0253935</td>\n",
       "      <td>0</td>\n",
       "    </tr>\n",
       "    <tr>\n",
       "      <th>var_3</th>\n",
       "      <td>-7.4975e+07</td>\n",
       "      <td>0.00925983</td>\n",
       "      <td>0</td>\n",
       "    </tr>\n",
       "    <tr>\n",
       "      <th>var_4</th>\n",
       "      <td>9.35405e+08</td>\n",
       "      <td>0.00861486</td>\n",
       "      <td>0</td>\n",
       "    </tr>\n",
       "    <tr>\n",
       "      <th>var_5</th>\n",
       "      <td>2.53711e+09</td>\n",
       "      <td>-0.014101</td>\n",
       "      <td>-0</td>\n",
       "    </tr>\n",
       "    <tr>\n",
       "      <th>var_6</th>\n",
       "      <td>-4.95265e+08</td>\n",
       "      <td>0.00615648</td>\n",
       "      <td>0</td>\n",
       "    </tr>\n",
       "    <tr>\n",
       "      <th>var_7</th>\n",
       "      <td>8.66316e+08</td>\n",
       "      <td>0.0498986</td>\n",
       "      <td>0</td>\n",
       "    </tr>\n",
       "    <tr>\n",
       "      <th>var_8</th>\n",
       "      <td>1.19437e+08</td>\n",
       "      <td>0.0268918</td>\n",
       "      <td>0</td>\n",
       "    </tr>\n",
       "    <tr>\n",
       "      <th>var_9</th>\n",
       "      <td>-5.98329e+08</td>\n",
       "      <td>0.0522359</td>\n",
       "      <td>0.287472</td>\n",
       "    </tr>\n",
       "    <tr>\n",
       "      <th>var_10</th>\n",
       "      <td>1.65147e+07</td>\n",
       "      <td>0.00875883</td>\n",
       "      <td>0</td>\n",
       "    </tr>\n",
       "    <tr>\n",
       "      <th>var_11</th>\n",
       "      <td>-2.16289e+09</td>\n",
       "      <td>-0.0210389</td>\n",
       "      <td>-0</td>\n",
       "    </tr>\n",
       "    <tr>\n",
       "      <th>var_12</th>\n",
       "      <td>3.14434e+08</td>\n",
       "      <td>0.0112192</td>\n",
       "      <td>0</td>\n",
       "    </tr>\n",
       "    <tr>\n",
       "      <th>var_13</th>\n",
       "      <td>-5.02723e+08</td>\n",
       "      <td>-0.0440758</td>\n",
       "      <td>-0</td>\n",
       "    </tr>\n",
       "    <tr>\n",
       "      <th>var_14</th>\n",
       "      <td>-5.62943e+07</td>\n",
       "      <td>-0.00329772</td>\n",
       "      <td>-0</td>\n",
       "    </tr>\n",
       "    <tr>\n",
       "      <th>var_15</th>\n",
       "      <td>-2.18862e+09</td>\n",
       "      <td>-0.0102027</td>\n",
       "      <td>-0</td>\n",
       "    </tr>\n",
       "    <tr>\n",
       "      <th>var_16</th>\n",
       "      <td>1.23972e+09</td>\n",
       "      <td>0.0269879</td>\n",
       "      <td>0</td>\n",
       "    </tr>\n",
       "    <tr>\n",
       "      <th>var_17</th>\n",
       "      <td>-7.54275e+08</td>\n",
       "      <td>-0.00128078</td>\n",
       "      <td>-0</td>\n",
       "    </tr>\n",
       "    <tr>\n",
       "      <th>var_18</th>\n",
       "      <td>-6.82075e+09</td>\n",
       "      <td>-0.0111081</td>\n",
       "      <td>-0</td>\n",
       "    </tr>\n",
       "    <tr>\n",
       "      <th>var_19</th>\n",
       "      <td>5.68349e+08</td>\n",
       "      <td>-0.050931</td>\n",
       "      <td>-0</td>\n",
       "    </tr>\n",
       "    <tr>\n",
       "      <th>var_20</th>\n",
       "      <td>1.26724e+08</td>\n",
       "      <td>0.00887995</td>\n",
       "      <td>0</td>\n",
       "    </tr>\n",
       "    <tr>\n",
       "      <th>var_21</th>\n",
       "      <td>1.92313e+09</td>\n",
       "      <td>0.0404824</td>\n",
       "      <td>0</td>\n",
       "    </tr>\n",
       "    <tr>\n",
       "      <th>var_22</th>\n",
       "      <td>-2.54084e+07</td>\n",
       "      <td>-0.0101097</td>\n",
       "      <td>-0</td>\n",
       "    </tr>\n",
       "    <tr>\n",
       "      <th>var_23</th>\n",
       "      <td>-0.0725004</td>\n",
       "      <td>0.0217951</td>\n",
       "      <td>0</td>\n",
       "    </tr>\n",
       "    <tr>\n",
       "      <th>var_24</th>\n",
       "      <td>0.0100749</td>\n",
       "      <td>0.00118145</td>\n",
       "      <td>0</td>\n",
       "    </tr>\n",
       "    <tr>\n",
       "      <th>var_25</th>\n",
       "      <td>-0.00421027</td>\n",
       "      <td>0.00480227</td>\n",
       "      <td>0</td>\n",
       "    </tr>\n",
       "    <tr>\n",
       "      <th>var_26</th>\n",
       "      <td>0.136983</td>\n",
       "      <td>0.0105238</td>\n",
       "      <td>0</td>\n",
       "    </tr>\n",
       "    <tr>\n",
       "      <th>var_27</th>\n",
       "      <td>0.038848</td>\n",
       "      <td>0.0152673</td>\n",
       "      <td>0</td>\n",
       "    </tr>\n",
       "    <tr>\n",
       "      <th>var_28</th>\n",
       "      <td>-0.00510532</td>\n",
       "      <td>-0.0292245</td>\n",
       "      <td>-0</td>\n",
       "    </tr>\n",
       "    <tr>\n",
       "      <th>var_29</th>\n",
       "      <td>-0.15399</td>\n",
       "      <td>0.0113491</td>\n",
       "      <td>0</td>\n",
       "    </tr>\n",
       "    <tr>\n",
       "      <th>R2_IS</th>\n",
       "      <td>1</td>\n",
       "      <td>0.742207</td>\n",
       "      <td>0.721719</td>\n",
       "    </tr>\n",
       "    <tr>\n",
       "      <th>R2_OS</th>\n",
       "      <td>-23.6562</td>\n",
       "      <td>0.780701</td>\n",
       "      <td>0.778703</td>\n",
       "    </tr>\n",
       "  </tbody>\n",
       "</table>\n",
       "</div>"
      ],
      "text/plain": [
       "                OLS       Ridge     Lasso\n",
       "                                         \n",
       "var_1  -1.64119e+10   0.0288113         0\n",
       "var_2   3.75712e+08   0.0253935         0\n",
       "var_3   -7.4975e+07  0.00925983         0\n",
       "var_4   9.35405e+08  0.00861486         0\n",
       "var_5   2.53711e+09   -0.014101        -0\n",
       "var_6  -4.95265e+08  0.00615648         0\n",
       "var_7   8.66316e+08   0.0498986         0\n",
       "var_8   1.19437e+08   0.0268918         0\n",
       "var_9  -5.98329e+08   0.0522359  0.287472\n",
       "var_10  1.65147e+07  0.00875883         0\n",
       "var_11 -2.16289e+09  -0.0210389        -0\n",
       "var_12  3.14434e+08   0.0112192         0\n",
       "var_13 -5.02723e+08  -0.0440758        -0\n",
       "var_14 -5.62943e+07 -0.00329772        -0\n",
       "var_15 -2.18862e+09  -0.0102027        -0\n",
       "var_16  1.23972e+09   0.0269879         0\n",
       "var_17 -7.54275e+08 -0.00128078        -0\n",
       "var_18 -6.82075e+09  -0.0111081        -0\n",
       "var_19  5.68349e+08   -0.050931        -0\n",
       "var_20  1.26724e+08  0.00887995         0\n",
       "var_21  1.92313e+09   0.0404824         0\n",
       "var_22 -2.54084e+07  -0.0101097        -0\n",
       "var_23   -0.0725004   0.0217951         0\n",
       "var_24    0.0100749  0.00118145         0\n",
       "var_25  -0.00421027  0.00480227         0\n",
       "var_26     0.136983   0.0105238         0\n",
       "var_27     0.038848   0.0152673         0\n",
       "var_28  -0.00510532  -0.0292245        -0\n",
       "var_29     -0.15399   0.0113491         0\n",
       "R2_IS             1    0.742207  0.721719\n",
       "R2_OS      -23.6562    0.780701  0.778703"
      ]
     },
     "execution_count": 30,
     "metadata": {},
     "output_type": "execute_result"
    }
   ],
   "source": [
    "#let's look at the final coefficients\n",
    "name=[\"var_{0}\".format(i+1) for i in range(len(OLS_coef)-1)] # Generate name of rows/variables\n",
    "\n",
    "result=[name, np.ndarray.tolist(np.asarray(OLS_coef[0:len(OLS_coef)-1])),np.ndarray.tolist(Ridge_coef),\n",
    "        np.ndarray.tolist(Lasso_coef)] # put all the estimations of different models together(it is same for OS and IS)\n",
    "temp=pd.DataFrame(result).T\n",
    "R2_IS=pd.DataFrame(['R2_IS',R_2_IS_OLS, R_2_IS_Ridge,R_2_IS_Lasso]).T # paste the In sample R2 in the end of temp\n",
    "R2_OS=pd.DataFrame(['R2_OS',R_2_OS_OLS, R_2_OS_Ridge,R_2_OS_Lasso]).T # paste the Out of sample R2 in the end of temp\n",
    "\n",
    "temp=temp.append(R2_IS)\n",
    "result=temp.append(R2_OS)\n",
    "result.columns=['','OLS','Ridge','Lasso'] # Change the column name\n",
    "result.set_index('')"
   ]
  },
  {
   "cell_type": "markdown",
   "metadata": {},
   "source": [
    "#### Cross-validation. \n",
    "Certainly on such a small sample performance might largely depend on the split between training, validation and test sets. In order to verify that efficiency of Lasso and Ridge is not just a random consequence of a favorable split perform a cross-validation, reporting average IS/OS performance for each model averaged over 10 different random splits."
   ]
  },
  {
   "cell_type": "markdown",
   "metadata": {},
   "source": [
    "# Example 4. Predicting real-estate prices using location parameters\n",
    "\n",
    "Before we tried to use some parameters of the house (size) to predict its price. However notice that location matters as well. Below we upload a sample (approximately 30% of the total) of more than 2000 individual house sales all around NYC in 2012. Each record together with the parameters of the house also contains important characteristics of the location (zip code) - average income of its residents (according to US census), as well as the relative structure of 311 complaints happening in the area."
   ]
  },
  {
   "cell_type": "code",
   "execution_count": 55,
   "metadata": {
    "collapsed": false
   },
   "outputs": [],
   "source": [
    "#load the data\n",
    "data4=pd.read_csv(path + \"example4.csv\", low_memory=False)"
   ]
  },
  {
   "cell_type": "code",
   "execution_count": 56,
   "metadata": {
    "collapsed": false
   },
   "outputs": [
    {
     "data": {
      "text/html": [
       "<div>\n",
       "<table border=\"1\" class=\"dataframe\">\n",
       "  <thead>\n",
       "    <tr style=\"text-align: right;\">\n",
       "      <th></th>\n",
       "      <th>Unnamed: 0</th>\n",
       "      <th>Unnamed: 0.1</th>\n",
       "      <th>borough</th>\n",
       "      <th>neighborhood</th>\n",
       "      <th>building_class_category</th>\n",
       "      <th>tax_class_present</th>\n",
       "      <th>block</th>\n",
       "      <th>lot</th>\n",
       "      <th>easement</th>\n",
       "      <th>building_class_present</th>\n",
       "      <th>...</th>\n",
       "      <th>Unsanitary Pigeon Condition</th>\n",
       "      <th>Urinating in Public</th>\n",
       "      <th>Vacant Lot</th>\n",
       "      <th>Vending</th>\n",
       "      <th>Violation of Park Rules</th>\n",
       "      <th>Water Conservation</th>\n",
       "      <th>Water Quality</th>\n",
       "      <th>Water System</th>\n",
       "      <th>Window Guard</th>\n",
       "      <th>X Ray Machine Equipment</th>\n",
       "    </tr>\n",
       "  </thead>\n",
       "  <tbody>\n",
       "    <tr>\n",
       "      <th>0</th>\n",
       "      <td>0</td>\n",
       "      <td>0</td>\n",
       "      <td>4</td>\n",
       "      <td>COLLEGE POINT</td>\n",
       "      <td>01  ONE FAMILY HOMES</td>\n",
       "      <td>1</td>\n",
       "      <td>3937</td>\n",
       "      <td>31</td>\n",
       "      <td>NaN</td>\n",
       "      <td>A9</td>\n",
       "      <td>...</td>\n",
       "      <td>0.000000</td>\n",
       "      <td>0.000000</td>\n",
       "      <td>0.000000</td>\n",
       "      <td>0.001797</td>\n",
       "      <td>0.001540</td>\n",
       "      <td>0.003850</td>\n",
       "      <td>0.002053</td>\n",
       "      <td>0.049281</td>\n",
       "      <td>0.0</td>\n",
       "      <td>0.0</td>\n",
       "    </tr>\n",
       "    <tr>\n",
       "      <th>1</th>\n",
       "      <td>1</td>\n",
       "      <td>1</td>\n",
       "      <td>1</td>\n",
       "      <td>MIDTOWN EAST</td>\n",
       "      <td>01  ONE FAMILY HOMES</td>\n",
       "      <td>1</td>\n",
       "      <td>1322</td>\n",
       "      <td>18</td>\n",
       "      <td>NaN</td>\n",
       "      <td>A4</td>\n",
       "      <td>...</td>\n",
       "      <td>0.000227</td>\n",
       "      <td>0.000227</td>\n",
       "      <td>0.000000</td>\n",
       "      <td>0.010675</td>\n",
       "      <td>0.000454</td>\n",
       "      <td>0.001817</td>\n",
       "      <td>0.000227</td>\n",
       "      <td>0.050874</td>\n",
       "      <td>0.0</td>\n",
       "      <td>0.0</td>\n",
       "    </tr>\n",
       "    <tr>\n",
       "      <th>2</th>\n",
       "      <td>2</td>\n",
       "      <td>2</td>\n",
       "      <td>4</td>\n",
       "      <td>SPRINGFIELD GARDENS</td>\n",
       "      <td>01  ONE FAMILY HOMES</td>\n",
       "      <td>1</td>\n",
       "      <td>13029</td>\n",
       "      <td>24</td>\n",
       "      <td>NaN</td>\n",
       "      <td>A1</td>\n",
       "      <td>...</td>\n",
       "      <td>0.000000</td>\n",
       "      <td>0.000000</td>\n",
       "      <td>0.004484</td>\n",
       "      <td>0.000000</td>\n",
       "      <td>0.000179</td>\n",
       "      <td>0.007354</td>\n",
       "      <td>0.001256</td>\n",
       "      <td>0.069058</td>\n",
       "      <td>0.0</td>\n",
       "      <td>0.0</td>\n",
       "    </tr>\n",
       "    <tr>\n",
       "      <th>3</th>\n",
       "      <td>3</td>\n",
       "      <td>3</td>\n",
       "      <td>3</td>\n",
       "      <td>CROWN HEIGHTS</td>\n",
       "      <td>01  ONE FAMILY HOMES</td>\n",
       "      <td>1</td>\n",
       "      <td>1222</td>\n",
       "      <td>53</td>\n",
       "      <td>NaN</td>\n",
       "      <td>A4</td>\n",
       "      <td>...</td>\n",
       "      <td>0.000170</td>\n",
       "      <td>0.000170</td>\n",
       "      <td>0.000908</td>\n",
       "      <td>0.000568</td>\n",
       "      <td>0.000170</td>\n",
       "      <td>0.000454</td>\n",
       "      <td>0.000341</td>\n",
       "      <td>0.012433</td>\n",
       "      <td>0.0</td>\n",
       "      <td>0.0</td>\n",
       "    </tr>\n",
       "    <tr>\n",
       "      <th>4</th>\n",
       "      <td>4</td>\n",
       "      <td>4</td>\n",
       "      <td>3</td>\n",
       "      <td>CYPRESS HILLS</td>\n",
       "      <td>01  ONE FAMILY HOMES</td>\n",
       "      <td>1</td>\n",
       "      <td>3919</td>\n",
       "      <td>4</td>\n",
       "      <td>NaN</td>\n",
       "      <td>A5</td>\n",
       "      <td>...</td>\n",
       "      <td>0.000491</td>\n",
       "      <td>0.000197</td>\n",
       "      <td>0.005897</td>\n",
       "      <td>0.000590</td>\n",
       "      <td>0.000393</td>\n",
       "      <td>0.001622</td>\n",
       "      <td>0.000442</td>\n",
       "      <td>0.037445</td>\n",
       "      <td>0.0</td>\n",
       "      <td>0.0</td>\n",
       "    </tr>\n",
       "  </tbody>\n",
       "</table>\n",
       "<p>5 rows × 184 columns</p>\n",
       "</div>"
      ],
      "text/plain": [
       "   Unnamed: 0  Unnamed: 0.1  borough         neighborhood  \\\n",
       "0           0             0        4        COLLEGE POINT   \n",
       "1           1             1        1         MIDTOWN EAST   \n",
       "2           2             2        4  SPRINGFIELD GARDENS   \n",
       "3           3             3        3        CROWN HEIGHTS   \n",
       "4           4             4        3        CYPRESS HILLS   \n",
       "\n",
       "  building_class_category  tax_class_present  block  lot  easement  \\\n",
       "0    01  ONE FAMILY HOMES                  1   3937   31       NaN   \n",
       "1    01  ONE FAMILY HOMES                  1   1322   18       NaN   \n",
       "2    01  ONE FAMILY HOMES                  1  13029   24       NaN   \n",
       "3    01  ONE FAMILY HOMES                  1   1222   53       NaN   \n",
       "4    01  ONE FAMILY HOMES                  1   3919    4       NaN   \n",
       "\n",
       "  building_class_present           ...            Unsanitary Pigeon Condition  \\\n",
       "0                     A9           ...                               0.000000   \n",
       "1                     A4           ...                               0.000227   \n",
       "2                     A1           ...                               0.000000   \n",
       "3                     A4           ...                               0.000170   \n",
       "4                     A5           ...                               0.000491   \n",
       "\n",
       "   Urinating in Public  Vacant Lot   Vending  Violation of Park Rules  \\\n",
       "0             0.000000    0.000000  0.001797                 0.001540   \n",
       "1             0.000227    0.000000  0.010675                 0.000454   \n",
       "2             0.000000    0.004484  0.000000                 0.000179   \n",
       "3             0.000170    0.000908  0.000568                 0.000170   \n",
       "4             0.000197    0.005897  0.000590                 0.000393   \n",
       "\n",
       "   Water Conservation  Water Quality  Water System Window Guard  \\\n",
       "0            0.003850       0.002053      0.049281          0.0   \n",
       "1            0.001817       0.000227      0.050874          0.0   \n",
       "2            0.007354       0.001256      0.069058          0.0   \n",
       "3            0.000454       0.000341      0.012433          0.0   \n",
       "4            0.001622       0.000442      0.037445          0.0   \n",
       "\n",
       "   X Ray Machine Equipment  \n",
       "0                      0.0  \n",
       "1                      0.0  \n",
       "2                      0.0  \n",
       "3                      0.0  \n",
       "4                      0.0  \n",
       "\n",
       "[5 rows x 184 columns]"
      ]
     },
     "execution_count": 56,
     "metadata": {},
     "output_type": "execute_result"
    }
   ],
   "source": [
    "data4.head()"
   ]
  },
  {
   "cell_type": "code",
   "execution_count": 58,
   "metadata": {
    "collapsed": false
   },
   "outputs": [
    {
     "name": "stdout",
     "output_type": "stream",
     "text": [
      " The R-Squared of this model is:\n",
      "0.329693239244\n"
     ]
    },
    {
     "data": {
      "text/html": [
       "<div>\n",
       "<table border=\"1\" class=\"dataframe\">\n",
       "  <thead>\n",
       "    <tr style=\"text-align: right;\">\n",
       "      <th></th>\n",
       "      <th>beta</th>\n",
       "      <th>p-value</th>\n",
       "      <th>std err</th>\n",
       "      <th>t-stat</th>\n",
       "    </tr>\n",
       "  </thead>\n",
       "  <tbody>\n",
       "    <tr>\n",
       "      <th>x</th>\n",
       "      <td>9.004682e+02</td>\n",
       "      <td>2.130323e-208</td>\n",
       "      <td>26.357322</td>\n",
       "      <td>34.163872</td>\n",
       "    </tr>\n",
       "    <tr>\n",
       "      <th>intercept</th>\n",
       "      <td>-1.011268e+06</td>\n",
       "      <td>1.885970e-74</td>\n",
       "      <td>53457.538558</td>\n",
       "      <td>-18.917228</td>\n",
       "    </tr>\n",
       "  </tbody>\n",
       "</table>\n",
       "</div>"
      ],
      "text/plain": [
       "                   beta        p-value       std err     t-stat\n",
       "x          9.004682e+02  2.130323e-208     26.357322  34.163872\n",
       "intercept -1.011268e+06   1.885970e-74  53457.538558 -18.917228"
      ]
     },
     "execution_count": 58,
     "metadata": {},
     "output_type": "execute_result"
    }
   ],
   "source": [
    "# Run OLS\n",
    "y=data4['sale_price']\n",
    "X=data4['gross_sq_feet']\n",
    "result=ols(y=y,x=X)\n",
    "print(\" The R-Squared of this model is:\")\n",
    "print(result.r2)\n",
    "result.summary_as_matrix.T"
   ]
  },
  {
   "cell_type": "markdown",
   "metadata": {},
   "source": [
    "Even with the intercept, R2 is not too high - perhaps because of the spatial heterogeniety of the pricing. Let's see if this could be improved by considering other properties of the location but first move to the log scale as the properties of the location are likely to have multiplicative rather than additive impact on the price."
   ]
  },
  {
   "cell_type": "code",
   "execution_count": 59,
   "metadata": {
    "collapsed": false
   },
   "outputs": [
    {
     "name": "stdout",
     "output_type": "stream",
     "text": [
      " The R-Squared of this model is:\n",
      "0.295837837416\n"
     ]
    },
    {
     "data": {
      "text/html": [
       "<div>\n",
       "<table border=\"1\" class=\"dataframe\">\n",
       "  <thead>\n",
       "    <tr style=\"text-align: right;\">\n",
       "      <th></th>\n",
       "      <th>beta</th>\n",
       "      <th>p-value</th>\n",
       "      <th>std err</th>\n",
       "      <th>t-stat</th>\n",
       "    </tr>\n",
       "  </thead>\n",
       "  <tbody>\n",
       "    <tr>\n",
       "      <th>x</th>\n",
       "      <td>0.992956</td>\n",
       "      <td>5.519823e-183</td>\n",
       "      <td>0.031448</td>\n",
       "      <td>31.574711</td>\n",
       "    </tr>\n",
       "    <tr>\n",
       "      <th>intercept</th>\n",
       "      <td>5.622858</td>\n",
       "      <td>1.502389e-114</td>\n",
       "      <td>0.233807</td>\n",
       "      <td>24.049125</td>\n",
       "    </tr>\n",
       "  </tbody>\n",
       "</table>\n",
       "</div>"
      ],
      "text/plain": [
       "               beta        p-value   std err     t-stat\n",
       "x          0.992956  5.519823e-183  0.031448  31.574711\n",
       "intercept  5.622858  1.502389e-114  0.233807  24.049125"
      ]
     },
     "execution_count": 59,
     "metadata": {},
     "output_type": "execute_result"
    }
   ],
   "source": [
    "#Take logs of our variabes and repeat the regression\n",
    "data4['sale_price_log']=np.log(data4['sale_price']).round(decimals=3)\n",
    "data4['gross_sq_feet_log']=np.log(data4['gross_sq_feet']).round(decimals=3)\n",
    "y=data4['sale_price_log']\n",
    "X=data4['gross_sq_feet_log']\n",
    "result=ols(y=y,x=X)\n",
    "print(\" The R-Squared of this model is:\")\n",
    "print(result.r2)\n",
    "result.summary_as_matrix.T"
   ]
  },
  {
   "cell_type": "markdown",
   "metadata": {},
   "source": [
    "This regression is actually a power-law non-linear model already. No surprise that the slope coefficient for the log of house size is close to 1 with a very narrow confidence interval - one would expect to have the price of the house to be in the approximately linear proportion to its size "
   ]
  },
  {
   "cell_type": "markdown",
   "metadata": {},
   "source": [
    "Now try adding the first characteristic of the location - average income (also on the log scale)"
   ]
  },
  {
   "cell_type": "code",
   "execution_count": 60,
   "metadata": {
    "collapsed": false
   },
   "outputs": [
    {
     "name": "stdout",
     "output_type": "stream",
     "text": [
      " The R-Squared of this model is:\n",
      "0.344496603562\n"
     ]
    },
    {
     "data": {
      "text/html": [
       "<div>\n",
       "<table border=\"1\" class=\"dataframe\">\n",
       "  <thead>\n",
       "    <tr style=\"text-align: right;\">\n",
       "      <th></th>\n",
       "      <th>beta</th>\n",
       "      <th>p-value</th>\n",
       "      <th>std err</th>\n",
       "      <th>t-stat</th>\n",
       "    </tr>\n",
       "  </thead>\n",
       "  <tbody>\n",
       "    <tr>\n",
       "      <th>mean_log</th>\n",
       "      <td>0.505073</td>\n",
       "      <td>8.132877e-39</td>\n",
       "      <td>0.038063</td>\n",
       "      <td>13.269373</td>\n",
       "    </tr>\n",
       "    <tr>\n",
       "      <th>gross_sq_feet_log</th>\n",
       "      <td>0.928775</td>\n",
       "      <td>5.063411e-170</td>\n",
       "      <td>0.030731</td>\n",
       "      <td>30.222480</td>\n",
       "    </tr>\n",
       "    <tr>\n",
       "      <th>intercept</th>\n",
       "      <td>0.441324</td>\n",
       "      <td>3.278924e-01</td>\n",
       "      <td>0.450989</td>\n",
       "      <td>0.978570</td>\n",
       "    </tr>\n",
       "  </tbody>\n",
       "</table>\n",
       "</div>"
      ],
      "text/plain": [
       "                       beta        p-value   std err     t-stat\n",
       "mean_log           0.505073   8.132877e-39  0.038063  13.269373\n",
       "gross_sq_feet_log  0.928775  5.063411e-170  0.030731  30.222480\n",
       "intercept          0.441324   3.278924e-01  0.450989   0.978570"
      ]
     },
     "execution_count": 60,
     "metadata": {},
     "output_type": "execute_result"
    }
   ],
   "source": [
    "#Take logs of our variabes and repeat the regression\n",
    "data4['mean_log']=np.log(data4['mean']).round(decimals=3)\n",
    "y=data4['sale_price_log']\n",
    "X=data4[['mean_log','gross_sq_feet_log']]\n",
    "result=ols(y=y,x=X)\n",
    "print(\" The R-Squared of this model is:\")\n",
    "print(result.r2)\n",
    "result.summary_as_matrix.T"
   ]
  },
  {
   "cell_type": "markdown",
   "metadata": {},
   "source": [
    "The model fitting is slightly improved and it seems that the price is proportional to the square root of the location wealth. Although wealth is important, it seems it does not tell the whole story as 30% R2 is still not too high. Let's see if the patterns of people complaints tell more relevant infromation about the context of the location."
   ]
  },
  {
   "cell_type": "code",
   "execution_count": 61,
   "metadata": {
    "collapsed": false
   },
   "outputs": [
    {
     "data": {
      "image/png": "[encoded data removed]",
      "text/plain": [
       "<matplotlib.figure.Figure at 0x7fa0334d9090>"
      ]
     },
     "metadata": {},
     "output_type": "display_data"
    }
   ],
   "source": [
    "# Track the model performance while we add more 311-related variables (R2 vs the number of variables t)\n",
    "list_comp=data4.columns[data4.columns.get_loc(\"Adopt A Basket\"):data4.columns.get_loc(\"X Ray Machine Equipment\")+1]\n",
    "list_comp=list(list_comp.values.tolist())\n",
    "\n",
    "#In the sample test\n",
    "Number_variables_L=[]\n",
    "OLS_R_2_L=[]\n",
    "depend_variable_L=['mean_log']\n",
    "t=0\n",
    "# Do it for more dependent variables from 311\n",
    "for j in (['gross_sq_feet_log']+[list_comp[i] for i in range(len(list_comp))]):\n",
    "    \n",
    "    t=t+1\n",
    "    Number_variables_L.append(t)\n",
    "    depend_variable_L.append(j)\n",
    "    X=data4[depend_variable_L]\n",
    "    y=data4['sale_price_log']\n",
    "    result=ols(y=y,x=X)\n",
    "    OLS_R_2_L.append(result.r2)\n",
    "    \n",
    "#####################################################################################\n",
    "\n",
    "pylab.title('In sample R-squared')\n",
    "pylab.plot(Number_variables_L,OLS_R_2_L,'r',label='R_squared(in the sample)')\n",
    "pylab.legend(loc='upper left')\n",
    "pylab.xlabel('Number of independent variables')\n",
    "pylab.ylabel('R-squared')\n",
    "pylab.show()\n",
    "\n"
   ]
  },
  {
   "cell_type": "markdown",
   "metadata": {},
   "source": [
    "So looks like the new variables did a perfect job rising R2 to 65%! But is the model generalizable or do we simply overfit? In order to test that let's split the data into the separate training and test set and re-run the model."
   ]
  },
  {
   "cell_type": "code",
   "execution_count": 68,
   "metadata": {
    "collapsed": false
   },
   "outputs": [
    {
     "data": {
      "image/png": "[encoded data removed]",
      "text/plain": [
       "<matplotlib.figure.Figure at 0x7fa031643910>"
      ]
     },
     "metadata": {},
     "output_type": "display_data"
    }
   ],
   "source": [
    "var=len(list_comp)\n",
    "\n",
    "# p= training sample size/ total sample size\n",
    "\n",
    "p=0.7 # we use 70% data for training and 30% data for prediction.\n",
    "\n",
    "#####################################################################################################################################\n",
    "# Split data by p\n",
    "\n",
    "X=data4\n",
    "\n",
    "#train_index=random.sample(list(range(len(X))),int(len(X)*p))\n",
    "\n",
    "#####################################################################################################################################\n",
    "#For the example just fix one of the splits\n",
    "np.random.seed(324)\n",
    "train_index=np.random.choice(range(len(X)),len(X)*7/10,replace=False)\n",
    "test_index=[x for x in range(len(X)) if x not in train_index]\n",
    "####################################################################################################################################\n",
    "\n",
    "#Data for training\n",
    "data_train=data4.iloc[train_index]\n",
    "#Data for predicting\n",
    "data_test=data4.iloc[test_index]\n",
    "\n",
    "#In the sample test\n",
    "Number_variables=[]\n",
    "OLS_R_2_IS=[] # make a list to store our in the sample R_squared\n",
    "OLS_R_2_OS=[] #make a list to store our out the sample R_squared\n",
    "depend_variable=['mean_log','gross_sq_feet_log']\n",
    "t=0\n",
    "\n",
    "# Do a loop to run OLS after adding additional independent variables from 311 subsequently\n",
    "for j in ([list_comp[i] for i in range(var)]):\n",
    "\n",
    "    t+=1\n",
    "    Number_variables.append(t)\n",
    "\n",
    "    depend_variable.append(j)\n",
    "    X=data_train[depend_variable]\n",
    "    y=data_train['sale_price_log']\n",
    "    result=ols(y=y,x=X)\n",
    "    OLS_R_2_IS.append(result.r2)\n",
    "\n",
    "#Out of the sample test\n",
    "\n",
    "    temp=data_test[depend_variable]\n",
    "\n",
    "    a=np.array(temp)\n",
    "    b=np.array(result.beta)\n",
    "    c=np.sum(a*b[0:-1],axis=1)+b[-1]\n",
    "\n",
    "    error=data_test['sale_price_log']-c\n",
    "    R_2=1-error.var()/data_test['sale_price_log'].var()\n",
    "    if R_2>0:\n",
    "        OLS_R_2_OS.append(R_2)\n",
    "    else:\n",
    "        OLS_R_2_OS.append(0)\n",
    "\n",
    "#plot\n",
    "pylab.title('In sample R-squared vs out of sample R-squared')\n",
    "pylab.plot(Number_variables,OLS_R_2_IS,'r',label='R_squared(in the sample)')\n",
    "pylab.plot(Number_variables,OLS_R_2_OS,'b',label='R_squared(outof the sample)')\n",
    "pylab.legend(loc='lower left')\n",
    "pylab.xlabel('Number of independent variables')\n",
    "pylab.ylabel('R-squared')\n",
    "pylab.draw()"
   ]
  },
  {
   "cell_type": "markdown",
   "metadata": {},
   "source": [
    "So clearly, the new 311-related regressors add considerable value, however OLS runs into overfitting and start to crash after $t=90$ approximately. Let's see if Ridge and Lasso can fix it"
   ]
  },
  {
   "cell_type": "code",
   "execution_count": 69,
   "metadata": {
    "collapsed": false
   },
   "outputs": [
    {
     "name": "stdout",
     "output_type": "stream",
     "text": [
      "The R-squared we found for IS Ridge is: 0.492620508267\n",
      "The R-squared we found for OS Ridge is: 0.546417825781\n",
      "The R-squared we found for IS Lasso is: 0.0\n",
      "The R-squared we found for OS Lasso is: 0.0\n"
     ]
    }
   ],
   "source": [
    "Ridge=linear_model.Ridge(fit_intercept=True,alpha=1) #try Ridge and Lasso with an arbitrary regularization parameter lambda\n",
    "Lasso=linear_model.Lasso(fit_intercept=True,alpha=1)\n",
    "\n",
    "X_train=np.matrix(data_train[depend_variable])\n",
    "y_train=np.array(data_train['sale_price_log'])\n",
    "X_test=np.matrix(data_test[depend_variable])\n",
    "y_test=np.array(data_test['sale_price_log'])\n",
    "Ridge.fit(X_train,y_train)\n",
    "Lasso.fit(X_train,y_train)\n",
    "# In the sample:\n",
    "p_IS=Ridge.predict(X_train)\n",
    "err_IS=p_IS-y_train\n",
    "R_2_IS_Ridge=1-np.var(err_IS)/np.var(y_train)\n",
    "\n",
    "p_IS=Lasso.predict(X_train)\n",
    "err_IS=p_IS-y_train\n",
    "R_2_IS_Lasso=1-np.var(err_IS)/np.var(y_train)\n",
    "\n",
    "Ridge_coef=Ridge.coef_\n",
    "Lasso_coef=Lasso.coef_\n",
    "############################################################################    \n",
    "    \n",
    "#Out of sample\n",
    "p_OS=Ridge.predict(X_test)\n",
    "err_OS=p_OS-y_test\n",
    "R_2_OS_Ridge=1-np.var(err_OS)/np.var(y_test)\n",
    "\n",
    "p_OS=Lasso.predict(X_test)\n",
    "err_OS=p_OS-y_test\n",
    "R_2_OS_Lasso=1-np.var(err_OS)/np.var(y_test)\n",
    "print(\"The R-squared we found for IS Ridge is: {0}\".format(R_2_IS_Ridge))\n",
    "print(\"The R-squared we found for OS Ridge is: {0}\".format(R_2_OS_Ridge))\n",
    "print(\"The R-squared we found for IS Lasso is: {0}\".format(R_2_IS_Lasso))\n",
    "print(\"The R-squared we found for OS Lasso is: {0}\".format(R_2_OS_Lasso))"
   ]
  },
  {
   "cell_type": "markdown",
   "metadata": {},
   "source": [
    "So Ridge works ok even with an arbitrary $\\lambda=1$, while for Lasso tuning of the parameter is certainly needed. Let use the previous function to make it for both regularization models"
   ]
  },
  {
   "cell_type": "code",
   "execution_count": 70,
   "metadata": {
    "collapsed": false
   },
   "outputs": [
    {
     "data": {
      "image/png": "[encoded data removed]",
      "text/plain": [
       "<matplotlib.figure.Figure at 0x7fa033dee150>"
      ]
     },
     "metadata": {},
     "output_type": "display_data"
    },
    {
     "name": "stdout",
     "output_type": "stream",
     "text": [
      "Optimal lambda for Ridge=0.00116204283557\n"
     ]
    }
   ],
   "source": [
    "#select best lambda for Ridge\n",
    "lambdas = np.linspace(-15,1,100)\n",
    "lambdas=[math.exp(i) for i in lambdas]\n",
    "lambda_r_optimal=Regularization_fit_lambda(1,X_train,y_train,lambdas,p=0.4,Graph=True,logl=True)\n",
    "print('Optimal lambda for Ridge={0}'.format(lambda_r_optimal))"
   ]
  },
  {
   "cell_type": "code",
   "execution_count": 71,
   "metadata": {
    "collapsed": false
   },
   "outputs": [
    {
     "data": {
      "image/png": "[encoded data removed]",
      "text/plain": [
       "<matplotlib.figure.Figure at 0x7fa033460550>"
      ]
     },
     "metadata": {},
     "output_type": "display_data"
    },
    {
     "name": "stdout",
     "output_type": "stream",
     "text": [
      "Optimal lambda for Lasso=0.00116204283557\n"
     ]
    }
   ],
   "source": [
    "#select best lambda for Lasso\n",
    "lambdas = np.linspace(-15,1,100)\n",
    "lambdas=[math.exp(i) for i in lambdas]\n",
    "lambda_l_optimal=Regularization_fit_lambda(2,X_train,y_train,lambdas,p=0.4,Graph=True,logl=True)\n",
    "print('Optimal lambda for Lasso={0}'.format(lambda_r_optimal))"
   ]
  },
  {
   "cell_type": "code",
   "execution_count": 72,
   "metadata": {
    "collapsed": false
   },
   "outputs": [
    {
     "name": "stdout",
     "output_type": "stream",
     "text": [
      "The R-squared we found for IS Ridge is: 0.603125878169\n",
      "The R-squared we found for OS Ridge is: 0.643586811861\n",
      "The R-squared we found for IS Lasso is: 0.600158922972\n",
      "The R-squared we found for OS Lasso is: 0.638120946769\n"
     ]
    }
   ],
   "source": [
    "Ridge=linear_model.Ridge(fit_intercept=True,alpha=lambda_r_optimal) #redo Ridge and Lasso with selected regularization parameter lambda\n",
    "Lasso=linear_model.Lasso(fit_intercept=True,alpha=lambda_l_optimal)\n",
    "\n",
    "X_train=np.matrix(data_train[depend_variable])\n",
    "y_train=np.array(data_train['sale_price_log'])\n",
    "X_test=np.matrix(data_test[depend_variable])\n",
    "y_test=np.array(data_test['sale_price_log'])\n",
    "Ridge.fit(X_train,y_train)\n",
    "Lasso.fit(X_train,y_train)\n",
    "# In the sample:\n",
    "p_IS=Ridge.predict(X_train)\n",
    "err_IS=p_IS-y_train\n",
    "R_2_IS_Ridge=1-np.var(err_IS)/np.var(y_train)\n",
    "\n",
    "p_IS=Lasso.predict(X_train)\n",
    "err_IS=p_IS-y_train\n",
    "R_2_IS_Lasso=1-np.var(err_IS)/np.var(y_train)\n",
    "\n",
    "Ridge_coef=Ridge.coef_\n",
    "Lasso_coef=Lasso.coef_\n",
    "############################################################################    \n",
    "    \n",
    "#Out of sample\n",
    "p_OS=Ridge.predict(X_test)\n",
    "err_OS=p_OS-y_test\n",
    "R_2_OS_Ridge=1-np.var(err_OS)/np.var(y_test)\n",
    "\n",
    "p_OS=Lasso.predict(X_test)\n",
    "err_OS=p_OS-y_test\n",
    "R_2_OS_Lasso=1-np.var(err_OS)/np.var(y_test)\n",
    "print(\"The R-squared we found for IS Ridge is: {0}\".format(R_2_IS_Ridge))\n",
    "print(\"The R-squared we found for OS Ridge is: {0}\".format(R_2_OS_Ridge))\n",
    "print(\"The R-squared we found for IS Lasso is: {0}\".format(R_2_IS_Lasso))\n",
    "print(\"The R-squared we found for OS Lasso is: {0}\".format(R_2_OS_Lasso))"
   ]
  },
  {
   "cell_type": "markdown",
   "metadata": {},
   "source": [
    "This is much better now - we can see that R2 values are much improved - both Lasso and Ridge provide 56% OS R2. And as IS and OS R2 are close there is almost no overfitting left - both Lasso and Ridge manage it efficiently. Finally let's reproduce the learning curves - IS/OS R2 depending on t for all three models - OLS, Lasso and Ridge - in order to track the dynamics. "
   ]
  },
  {
   "cell_type": "code",
   "execution_count": 73,
   "metadata": {
    "collapsed": false
   },
   "outputs": [
    {
     "data": {
      "image/png": "[encoded data removed]",
      "text/plain": [
       "<matplotlib.figure.Figure at 0x7fa03306d610>"
      ]
     },
     "metadata": {},
     "output_type": "display_data"
    }
   ],
   "source": [
    "#In the sample test\n",
    "Number_variables=[]\n",
    "OLS_R_2_IS=[] # make a list to store our in the sample R_squared\n",
    "Ridge_R_2_IS=[]\n",
    "Lasso_R_2_IS=[]\n",
    "OLS_R_2_OS=[] #make a list to store our out the sample R_squared\n",
    "Ridge_R_2_OS=[]\n",
    "Lasso_R_2_OS=[]\n",
    "depend_variable=['mean_log','gross_sq_feet_log']\n",
    "t=0\n",
    "\n",
    "# Do a loop to run OLS after adding additional independent variables from 311 subsequently\n",
    "for j in ([list_comp[i] for i in range(var)]):\n",
    "\n",
    "    t+=1\n",
    "    Number_variables.append(t)\n",
    "\n",
    "    depend_variable.append(j)\n",
    "# In the sample:\n",
    "\n",
    "    X=data_train[depend_variable]\n",
    "    y=data_train['sale_price_log']\n",
    "    result=ols(y=y,x=X)\n",
    "    OLS_R_2_IS.append(result.r2)\n",
    "    \n",
    "    X=np.matrix(data_train[depend_variable])\n",
    "    y=np.array(data_train['sale_price_log'])\n",
    "    Ridge=linear_model.Ridge(fit_intercept=True,alpha=lambda_r_optimal)\n",
    "    Lasso=linear_model.Lasso(fit_intercept=True,alpha=lambda_l_optimal)\n",
    "    Ridge.fit(X,y)\n",
    "    Lasso.fit(X,y)\n",
    "    p_IS=Ridge.predict(X)\n",
    "    err_IS=p_IS-y\n",
    "    R_2_IS_Ridge=1-np.var(err_IS)/np.var(y)\n",
    "    p_IS=Lasso.predict(X)\n",
    "    err_IS=p_IS-y\n",
    "    R_2_IS_Lasso=1-np.var(err_IS)/np.var(y)\n",
    "    Ridge_R_2_IS.append(R_2_IS_Ridge)\n",
    "    Lasso_R_2_IS.append(R_2_IS_Lasso)\n",
    "\n",
    "############################################################################\n",
    "#Out of the sample test\n",
    "\n",
    "    temp=data_test[depend_variable]\n",
    "\n",
    "    a=np.array(temp)\n",
    "    b=np.array(result.beta)\n",
    "    c=np.sum(a*b[0:-1],axis=1)+b[-1]\n",
    "    \n",
    "    X_test=np.matrix(data_test[depend_variable])\n",
    "    y_test=np.array(data_test['sale_price_log'])\n",
    "\n",
    "    error=data_test['sale_price_log']-c\n",
    "    R_2=1-error.var()/data_test['sale_price_log'].var()\n",
    "    if R_2>0:\n",
    "        OLS_R_2_OS.append(R_2)\n",
    "    else:\n",
    "        OLS_R_2_OS.append(0)\n",
    "        \n",
    "    p_OS=Ridge.predict(X_test)\n",
    "    err_OS=p_OS-y_test\n",
    "    R_2_OS_Ridge=1-np.var(err_OS)/np.var(y_test)\n",
    "\n",
    "    p_OS=Lasso.predict(X_test)\n",
    "    err_OS=p_OS-y_test\n",
    "    R_2_OS_Lasso=1-np.var(err_OS)/np.var(y_test) \n",
    "    Ridge_R_2_OS.append(R_2_OS_Ridge)\n",
    "    Lasso_R_2_OS.append(R_2_OS_Lasso)\n",
    "\n",
    "#plot\n",
    "pylab.title('In sample R-squared vs out of sample R-squared')\n",
    "pylab.plot(Number_variables,OLS_R_2_IS,'g',label='R_squared(in the sample)')\n",
    "pylab.plot(Number_variables,OLS_R_2_OS,'b',label='R_squared(out of the sample)')\n",
    "pylab.plot(Number_variables,Ridge_R_2_IS,'k',label='Ridge_R_squared(IS)')\n",
    "pylab.plot(Number_variables,Ridge_R_2_OS,'r',label='Ridge_R_squared(OS)')\n",
    "pylab.plot(Number_variables,Lasso_R_2_IS,'y',label='Lasso_R_squared(IS)')\n",
    "pylab.plot(Number_variables,Lasso_R_2_OS,'c',label='Lasso_R_squared(OS)')\n",
    "pylab.legend(loc='lower left')\n",
    "pylab.xlabel('Number of independent variables')\n",
    "pylab.ylabel('R-squared')\n",
    "pylab.draw()"
   ]
  },
  {
   "cell_type": "markdown",
   "metadata": {},
   "source": [
    "So we see that Lasso and Ridge perform perfectly stable and unlike OLS, their OS R2 steadily grows with $t$"
   ]
  },
  {
   "cell_type": "markdown",
   "metadata": {},
   "source": [
    "Finally look at the coefficients of Lasso performing feature selection for us - most of the coefficients are zero while the non-zero ones indicate the regressors left in the model"
   ]
  },
  {
   "cell_type": "code",
   "execution_count": 74,
   "metadata": {
    "collapsed": false
   },
   "outputs": [
    {
     "data": {
      "text/plain": [
       "array([  0.28398216,   0.65315402,  -0.        ,   0.        ,\n",
       "       -34.68181073,  -0.        ,   0.        , -16.07478403,\n",
       "         0.        ,  -0.        ,   0.        ,   0.        ,\n",
       "        -0.        ,  -0.19497243,   0.        ,   0.        ,\n",
       "         0.        ,   1.91445533,  -0.        ,   0.        ,\n",
       "        -0.79207724,  -0.        ,  -0.        ,  -0.        ,\n",
       "        -0.        ,  -0.        ,   1.72145798,   0.        ,\n",
       "        -0.        ,   5.29755963,   4.48016745,  84.61102726,\n",
       "         0.82360987,  -8.16286764,  -2.35680936,  -0.        ,\n",
       "         0.        ,   0.        ,   0.        ,  -0.        ,\n",
       "         0.        ,  -2.29801334,  -0.        ,  16.78983903,\n",
       "         0.        ,   0.        ,  -0.        ,  -0.        ,\n",
       "        -0.        ,  -0.        ,  -0.        ,  -0.        ,\n",
       "         0.        ,  -0.        ,   0.        ,  -0.        ,\n",
       "         1.60200725,   0.77506234,   4.32240768,   0.        ,\n",
       "         0.        ,   0.        ,  -0.65300995,  -5.11756138,\n",
       "         0.        ,  -0.        ,  -0.        ,  26.5910645 ,\n",
       "         0.        ,  -0.        ,  -0.        ,  -0.        ,\n",
       "         3.54740513,   0.        ,   0.        ,   0.        ,\n",
       "        -0.        ,   0.        ,   0.        ,   0.        ,\n",
       "         0.        ,   3.17255356,  -1.98561546,   0.        ,\n",
       "         1.25150056,  -0.        ,  -0.        ,   6.95606954,\n",
       "         3.32349671,   0.        ,  -0.        ,   0.        ,\n",
       "         4.34711023,  -3.16766741,   0.        ,  -0.        ,\n",
       "         0.        ,  -3.57965822, -22.07373015,  -0.        ,\n",
       "        -0.        ,   0.        ,  -0.        ,   3.8556978 ,\n",
       "         0.        ,  -0.        ,  -0.        ,  -0.        ,\n",
       "        -0.        ,   0.        ,   0.        ,  -0.        ,\n",
       "        -0.        ,   0.        ,   0.        ,  -0.75810727,\n",
       "        -1.60061332,   0.76191319,  -0.        ,  -0.        ,\n",
       "         0.        ,  -0.        ,   1.35479417,   8.23566826,\n",
       "         0.        ,   0.        ,  -0.        ,   0.        ,\n",
       "         0.        ,   0.        ,  -0.        ,  -0.        ,\n",
       "        -0.        ,  -0.        ,  -2.14645639,  -1.37264046,\n",
       "         3.06684365,  -0.        ,  -0.        ,  -0.        ,\n",
       "        -0.        ,   0.        ,   0.        ,   4.98050589,\n",
       "        28.14340835,  -0.52678364,  -0.        ,  -0.        ,\n",
       "        -0.        ,  -0.        ,  -9.22486954,  -0.        ,\n",
       "        -0.        , -25.45741052,  -0.        ,  -0.        ,\n",
       "        -5.91139057,  -0.        ,  -1.61683627,   0.        ,  -0.        ])"
      ]
     },
     "execution_count": 74,
     "metadata": {},
     "output_type": "execute_result"
    }
   ],
   "source": [
    "Lasso_coef"
   ]
  },
  {
   "cell_type": "code",
   "execution_count": null,
   "metadata": {
    "collapsed": true
   },
   "outputs": [],
   "source": []
  },
  {
   "cell_type": "code",
   "execution_count": null,
   "metadata": {
    "collapsed": true
   },
   "outputs": [],
   "source": []
  }
 ],
 "metadata": {
  "anaconda-cloud": {},
  "kernelspec": {
   "display_name": "Python [Root]",
   "language": "python",
   "name": "Python [Root]"
  },
  "language_info": {
   "codemirror_mode": {
    "name": "ipython",
    "version": 2
   },
   "file_extension": ".py",
   "mimetype": "text/x-python",
   "name": "python",
   "nbconvert_exporter": "python",
   "pygments_lexer": "ipython2",
   "version": "2.7.12"
  }
 },
 "nbformat": 4,
 "nbformat_minor": 0
}
