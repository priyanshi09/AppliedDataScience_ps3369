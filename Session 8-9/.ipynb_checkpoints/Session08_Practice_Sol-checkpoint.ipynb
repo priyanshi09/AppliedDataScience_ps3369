{
 "cells": [
  {
   "cell_type": "code",
   "execution_count": 1,
   "metadata": {
    "collapsed": false
   },
   "outputs": [
    {
     "name": "stdout",
     "output_type": "stream",
     "text": [
      "Populating the interactive namespace from numpy and matplotlib\n"
     ]
    }
   ],
   "source": [
    "import numpy as np\n",
    "import pandas as pd\n",
    "import matplotlib.pyplot as plt\n",
    "import statsmodels.formula.api as smf\n",
    "%pylab inline\n",
    "from sklearn.model_selection import train_test_split"
   ]
  },
  {
   "cell_type": "markdown",
   "metadata": {},
   "source": [
    "Crime Rate in 47 states of the USA with 13 explanatory variables  \n",
    "The crime rate (**Y**) in 47 states in the U.S. was reported together with possible factors that might influence it. The factors recorded are as follows;  \n",
    "X1 = the number of males aged 14 - 24 per 1000 of total state population  \n",
    "X2 = binary variable distinguishing southern states (X2 =1) from the rest (X2=0).  \n",
    "X3 = the mean number of years of schooling x 10 of the population, 25 years old and over  \n",
    "X4 = police expenditure (in dollars) per person by state and local government in 1960  \n",
    "X5 = police expenditure (in dollars) per person by state and local government in 1959  \n",
    "X6 = labour force participation rate per 1000 civilian urban males in the age group 14-24  \n",
    "X7 = the number of males per 1000 females  \n",
    "X8 = state population size in hundred thousands  \n",
    "X9 = unemployment rate of urban males per 1000 in the age group 14-24    \n",
    "X10 = unemployment rate of urban males per 1000 in the age group 35-59.  \n",
    "X11 = the median value of family income or transferable goods and assets (unit 10 dollars)  \n",
    "X12 = the number of families per 1000 earning below one-half of the median income.  "
   ]
  },
  {
   "cell_type": "code",
   "execution_count": 2,
   "metadata": {
    "collapsed": true
   },
   "outputs": [],
   "source": [
    "data = pd.read_excel('https://serv.cusp.nyu.edu/~cq299/ADS2016/Data/Crime.xlsx')"
   ]
  },
  {
   "cell_type": "code",
   "execution_count": 3,
   "metadata": {
    "collapsed": true
   },
   "outputs": [],
   "source": [
    "feature = ['males','south','yrsSch','policExp60','policeExp59','labour',\n",
    "           'M/F','statePop','unemp14','unemp35','income','proverty']"
   ]
  },
  {
   "cell_type": "code",
   "execution_count": 4,
   "metadata": {
    "collapsed": false
   },
   "outputs": [
    {
     "data": {
      "text/html": [
       "<div>\n",
       "<table border=\"1\" class=\"dataframe\">\n",
       "  <thead>\n",
       "    <tr style=\"text-align: right;\">\n",
       "      <th></th>\n",
       "      <th>X1</th>\n",
       "      <th>X2</th>\n",
       "      <th>X3</th>\n",
       "      <th>X4</th>\n",
       "      <th>X5</th>\n",
       "      <th>X6</th>\n",
       "      <th>X7</th>\n",
       "      <th>X8</th>\n",
       "      <th>X9</th>\n",
       "      <th>X10</th>\n",
       "      <th>X11</th>\n",
       "      <th>X12</th>\n",
       "      <th>Y</th>\n",
       "    </tr>\n",
       "  </thead>\n",
       "  <tbody>\n",
       "    <tr>\n",
       "      <th>0</th>\n",
       "      <td>151</td>\n",
       "      <td>1</td>\n",
       "      <td>91</td>\n",
       "      <td>58</td>\n",
       "      <td>56</td>\n",
       "      <td>510</td>\n",
       "      <td>950</td>\n",
       "      <td>33</td>\n",
       "      <td>108</td>\n",
       "      <td>41</td>\n",
       "      <td>394</td>\n",
       "      <td>261</td>\n",
       "      <td>79.1</td>\n",
       "    </tr>\n",
       "    <tr>\n",
       "      <th>1</th>\n",
       "      <td>143</td>\n",
       "      <td>0</td>\n",
       "      <td>113</td>\n",
       "      <td>103</td>\n",
       "      <td>95</td>\n",
       "      <td>583</td>\n",
       "      <td>1012</td>\n",
       "      <td>13</td>\n",
       "      <td>96</td>\n",
       "      <td>36</td>\n",
       "      <td>557</td>\n",
       "      <td>194</td>\n",
       "      <td>163.5</td>\n",
       "    </tr>\n",
       "    <tr>\n",
       "      <th>2</th>\n",
       "      <td>142</td>\n",
       "      <td>1</td>\n",
       "      <td>89</td>\n",
       "      <td>45</td>\n",
       "      <td>44</td>\n",
       "      <td>533</td>\n",
       "      <td>969</td>\n",
       "      <td>18</td>\n",
       "      <td>94</td>\n",
       "      <td>33</td>\n",
       "      <td>318</td>\n",
       "      <td>250</td>\n",
       "      <td>57.8</td>\n",
       "    </tr>\n",
       "    <tr>\n",
       "      <th>3</th>\n",
       "      <td>136</td>\n",
       "      <td>0</td>\n",
       "      <td>121</td>\n",
       "      <td>149</td>\n",
       "      <td>141</td>\n",
       "      <td>577</td>\n",
       "      <td>994</td>\n",
       "      <td>157</td>\n",
       "      <td>102</td>\n",
       "      <td>39</td>\n",
       "      <td>673</td>\n",
       "      <td>167</td>\n",
       "      <td>196.9</td>\n",
       "    </tr>\n",
       "    <tr>\n",
       "      <th>4</th>\n",
       "      <td>141</td>\n",
       "      <td>0</td>\n",
       "      <td>121</td>\n",
       "      <td>109</td>\n",
       "      <td>101</td>\n",
       "      <td>591</td>\n",
       "      <td>985</td>\n",
       "      <td>18</td>\n",
       "      <td>91</td>\n",
       "      <td>20</td>\n",
       "      <td>578</td>\n",
       "      <td>174</td>\n",
       "      <td>123.4</td>\n",
       "    </tr>\n",
       "  </tbody>\n",
       "</table>\n",
       "</div>"
      ],
      "text/plain": [
       "    X1  X2   X3   X4   X5   X6    X7   X8   X9  X10  X11  X12      Y\n",
       "0  151   1   91   58   56  510   950   33  108   41  394  261   79.1\n",
       "1  143   0  113  103   95  583  1012   13   96   36  557  194  163.5\n",
       "2  142   1   89   45   44  533   969   18   94   33  318  250   57.8\n",
       "3  136   0  121  149  141  577   994  157  102   39  673  167  196.9\n",
       "4  141   0  121  109  101  591   985   18   91   20  578  174  123.4"
      ]
     },
     "execution_count": 4,
     "metadata": {},
     "output_type": "execute_result"
    }
   ],
   "source": [
    "data.head()"
   ]
  },
  {
   "cell_type": "code",
   "execution_count": 5,
   "metadata": {
    "collapsed": true
   },
   "outputs": [],
   "source": [
    "# Q1. Looking at the impact of each feature separately (on all 47 observations)\n",
    "    # Fitting bi-variate regressions and reporting the statistics\n",
    "# Q2. Take for the further consideration only those which have p-value < 5% (in their bi-variate regressions)\n",
    "    # Compute correlation matrix among those\n",
    "# Q3. Fit the multi-variate regression with X3, X4, X8, X11, report statistics, visualize prediction vs reality\n",
    "# Q4. Run cross-validation with the regressors in Q3, report the Out-of-sample R2 (OS R2)\n",
    "    # Put 30 observations into training set and the remaining 17 into test set\n",
    "    # Run it 100 times, obtain the average value\n",
    "# Q5. Run cross-validation with X4 only, same settings as Q4, then compare your OS R2 with the counterpart in Q4"
   ]
  },
  {
   "cell_type": "markdown",
   "metadata": {
    "collapsed": true
   },
   "source": [
    "Q1"
   ]
  },
  {
   "cell_type": "code",
   "execution_count": 6,
   "metadata": {
    "collapsed": false
   },
   "outputs": [
    {
     "name": "stdout",
     "output_type": "stream",
     "text": [
      "X1: R2=0.008005, p-value=0.549789, model: Y~-0.275347*X1+128.664557\n",
      "X2: R2=0.008215, p-value=0.544586, model: Y~-7.318750*X2+93.000000\n",
      "X3: R2=0.104222, p-value=0.026878, model: Y~1.116121*X3+-27.396654\n",
      "X4: R2=0.472800, p-value=0.000000, model: Y~0.894848*X4+14.446398\n",
      "X5: R2=0.444508, p-value=0.000000, model: Y~0.922203*X5+16.516424\n",
      "X6: R2=0.035670, p-value=0.203581, model: Y~0.180755*X6+-10.929773\n",
      "X7: R2=0.045759, p-value=0.148794, model: Y~0.280765*X7+-185.489484\n",
      "X8: R2=0.113889, p-value=0.020351, model: Y~0.342838*X8+77.954816\n",
      "X9: R2=0.002548, p-value=0.736150, model: Y~-0.108288*X9+100.846541\n",
      "X10: R2=0.031443, p-value=0.233108, model: Y~0.812047*X10+62.916195\n",
      "X11: R2=0.194763, p-value=0.001902, model: Y~0.176893*X11+-2.428261\n"
     ]
    }
   ],
   "source": [
    "for i in range(1,12):\n",
    "    lm = smf.ols(formula='Y ~ X%d' % i, data = data).fit()\n",
    "    print('X%d: R2=%f, p-value=%f, model: Y~%f*X%d+%f' % (i,lm.rsquared,lm.pvalues[1],lm.params[1],i,lm.params[0]))\n",
    "\n"
   ]
  },
  {
   "cell_type": "markdown",
   "metadata": {},
   "source": [
    "Q2"
   ]
  },
  {
   "cell_type": "code",
   "execution_count": 7,
   "metadata": {
    "collapsed": false
   },
   "outputs": [
    {
     "data": {
      "text/html": [
       "<div>\n",
       "<table border=\"1\" class=\"dataframe\">\n",
       "  <thead>\n",
       "    <tr style=\"text-align: right;\">\n",
       "      <th></th>\n",
       "      <th>X3</th>\n",
       "      <th>X4</th>\n",
       "      <th>X5</th>\n",
       "      <th>X8</th>\n",
       "      <th>X11</th>\n",
       "    </tr>\n",
       "  </thead>\n",
       "  <tbody>\n",
       "    <tr>\n",
       "      <th>X3</th>\n",
       "      <td>1.000000</td>\n",
       "      <td>0.482952</td>\n",
       "      <td>0.499410</td>\n",
       "      <td>-0.017227</td>\n",
       "      <td>0.735997</td>\n",
       "    </tr>\n",
       "    <tr>\n",
       "      <th>X4</th>\n",
       "      <td>0.482952</td>\n",
       "      <td>1.000000</td>\n",
       "      <td>0.993586</td>\n",
       "      <td>0.526284</td>\n",
       "      <td>0.787225</td>\n",
       "    </tr>\n",
       "    <tr>\n",
       "      <th>X5</th>\n",
       "      <td>0.499410</td>\n",
       "      <td>0.993586</td>\n",
       "      <td>1.000000</td>\n",
       "      <td>0.513789</td>\n",
       "      <td>0.794262</td>\n",
       "    </tr>\n",
       "    <tr>\n",
       "      <th>X8</th>\n",
       "      <td>-0.017227</td>\n",
       "      <td>0.526284</td>\n",
       "      <td>0.513789</td>\n",
       "      <td>1.000000</td>\n",
       "      <td>0.308263</td>\n",
       "    </tr>\n",
       "    <tr>\n",
       "      <th>X11</th>\n",
       "      <td>0.735997</td>\n",
       "      <td>0.787225</td>\n",
       "      <td>0.794262</td>\n",
       "      <td>0.308263</td>\n",
       "      <td>1.000000</td>\n",
       "    </tr>\n",
       "  </tbody>\n",
       "</table>\n",
       "</div>"
      ],
      "text/plain": [
       "           X3        X4        X5        X8       X11\n",
       "X3   1.000000  0.482952  0.499410 -0.017227  0.735997\n",
       "X4   0.482952  1.000000  0.993586  0.526284  0.787225\n",
       "X5   0.499410  0.993586  1.000000  0.513789  0.794262\n",
       "X8  -0.017227  0.526284  0.513789  1.000000  0.308263\n",
       "X11  0.735997  0.787225  0.794262  0.308263  1.000000"
      ]
     },
     "execution_count": 7,
     "metadata": {},
     "output_type": "execute_result"
    }
   ],
   "source": [
    "data[['X3','X4','X5','X8','X11']].corr()"
   ]
  },
  {
   "cell_type": "markdown",
   "metadata": {},
   "source": [
    "Q3"
   ]
  },
  {
   "cell_type": "code",
   "execution_count": 8,
   "metadata": {
    "collapsed": false
   },
   "outputs": [
    {
     "name": "stdout",
     "output_type": "stream",
     "text": [
      "                            OLS Regression Results                            \n",
      "==============================================================================\n",
      "Dep. Variable:                      Y   R-squared:                       0.534\n",
      "Model:                            OLS   Adj. R-squared:                  0.478\n",
      "Method:                 Least Squares   F-statistic:                     9.411\n",
      "Date:                Fri, 04 Nov 2016   Prob (F-statistic):           4.96e-06\n",
      "Time:                        10:48:05   Log-Likelihood:                -220.02\n",
      "No. Observations:                  47   AIC:                             452.0\n",
      "Df Residuals:                      41   BIC:                             463.1\n",
      "Df Model:                           5                                         \n",
      "Covariance Type:            nonrobust                                         \n",
      "==============================================================================\n",
      "                 coef    std err          t      P>|t|      [95.0% Conf. Int.]\n",
      "------------------------------------------------------------------------------\n",
      "Intercept      3.9177     42.504      0.092      0.927       -81.920    89.755\n",
      "X3             0.7043      0.592      1.190      0.241        -0.491     1.900\n",
      "X4             2.8086      1.250      2.246      0.030         0.283     5.334\n",
      "X5            -1.6935      1.333     -1.271      0.211        -4.385     0.998\n",
      "X8            -0.0355      0.137     -0.259      0.797        -0.312     0.241\n",
      "X11           -0.1701      0.092     -1.841      0.073        -0.357     0.016\n",
      "==============================================================================\n",
      "Omnibus:                        0.308   Durbin-Watson:                   2.244\n",
      "Prob(Omnibus):                  0.857   Jarque-Bera (JB):                0.089\n",
      "Skew:                          -0.107   Prob(JB):                        0.956\n",
      "Kurtosis:                       3.007   Cond. No.                     5.83e+03\n",
      "==============================================================================\n",
      "\n",
      "Warnings:\n",
      "[1] Standard Errors assume that the covariance matrix of the errors is correctly specified.\n",
      "[2] The condition number is large, 5.83e+03. This might indicate that there are\n",
      "strong multicollinearity or other numerical problems.\n"
     ]
    }
   ],
   "source": [
    "lm = smf.ols(formula='Y ~ X3+X4+X5+X8+X11', data = data).fit()\n",
    "print(lm.summary())"
   ]
  },
  {
   "cell_type": "code",
   "execution_count": 9,
   "metadata": {
    "collapsed": false
   },
   "outputs": [
    {
     "data": {
      "text/plain": [
       "[<matplotlib.lines.Line2D at 0x11a0b4f90>]"
      ]
     },
     "execution_count": 9,
     "metadata": {},
     "output_type": "execute_result"
    },
    {
     "data": {
      "image/png": "[encoded data removed]",
      "text/plain": [
       "<matplotlib.figure.Figure at 0x11c707950>"
      ]
     },
     "metadata": {},
     "output_type": "display_data"
    }
   ],
   "source": [
    "plt.figure()\n",
    "lmy=lm.predict(data)\n",
    "plt.plot(lmy, lmy, 'b-')\n",
    "plt.plot(lmy, data.Y,'or')"
   ]
  },
  {
   "cell_type": "markdown",
   "metadata": {},
   "source": [
    "Q4"
   ]
  },
  {
   "cell_type": "code",
   "execution_count": 15,
   "metadata": {
    "collapsed": false
   },
   "outputs": [
    {
     "name": "stdout",
     "output_type": "stream",
     "text": [
      "IS R^2 for 100 times is 0.54067333335\n",
      "OS R^2 for 100 times is 0.139894933606\n"
     ]
    }
   ],
   "source": [
    "# Using cross validation.\n",
    "R_IS=[]\n",
    "R_OS=[]\n",
    "\n",
    "n=100\n",
    "\n",
    "for i in range(n):\n",
    "    train, test = train_test_split(data, test_size = 17.0/47)\n",
    "    lm = smf.ols(formula='Y~X3+X4+X8+X11',data=train).fit()\n",
    "    R_IS.append(lm.rsquared)\n",
    "    lmy = lm.predict(test)\n",
    "    y_err = lmy - test.Y\n",
    "    y_norm = test.Y-mean(test.Y)\n",
    "    R2 = 1-y_err.dot(y_err)/y_norm.dot(y_norm)\n",
    "    R_OS.append(R2)\n",
    "print(\"IS R^2 for {} times is {}\".format(n,np.mean(R_IS)))\n",
    "print(\"OS R^2 for {} times is {}\".format(n,np.mean(R_OS)))"
   ]
  },
  {
   "cell_type": "markdown",
   "metadata": {},
   "source": [
    "Q5"
   ]
  },
  {
   "cell_type": "code",
   "execution_count": 14,
   "metadata": {
    "collapsed": false
   },
   "outputs": [
    {
     "name": "stdout",
     "output_type": "stream",
     "text": [
      "IS R^2 for 100 times is 0.472799887508\n",
      "OS R^2 for 100 times is 0.371071318818\n"
     ]
    }
   ],
   "source": [
    "# Using cross validation.\n",
    "R_IS=[]\n",
    "R_OS=[]\n",
    "\n",
    "n=100\n",
    "\n",
    "for i in range(n):\n",
    "    train, test = train_test_split(data, test_size = 17.0/47)\n",
    "    lm = smf.ols(formula='Y~X4',data=data).fit()\n",
    "    R_IS.append(lm.rsquared)\n",
    "    lmy = lm.predict(test)\n",
    "    y_err = lmy - test.Y\n",
    "    y_norm = test.Y-mean(test.Y)\n",
    "    R2 = 1-y_err.dot(y_err)/y_norm.dot(y_norm)\n",
    "    R_OS.append(R2)\n",
    "print(\"IS R^2 for {} times is {}\".format(n,np.mean(R_IS)))\n",
    "print(\"OS R^2 for {} times is {}\".format(n,np.mean(R_OS)))"
   ]
  },
  {
   "cell_type": "code",
   "execution_count": null,
   "metadata": {
    "collapsed": true
   },
   "outputs": [],
   "source": []
  }
 ],
 "metadata": {
  "anaconda-cloud": {},
  "kernelspec": {
   "display_name": "Python [Root]",
   "language": "python",
   "name": "Python [Root]"
  },
  "language_info": {
   "codemirror_mode": {
    "name": "ipython",
    "version": 2
   },
   "file_extension": ".py",
   "mimetype": "text/x-python",
   "name": "python",
   "nbconvert_exporter": "python",
   "pygments_lexer": "ipython2",
   "version": "2.7.11"
  }
 },
 "nbformat": 4,
 "nbformat_minor": 0
}
